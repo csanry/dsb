{
 "cells": [
  {
   "cell_type": "code",
   "execution_count": null,
   "metadata": {},
   "outputs": [],
   "source": [
    "import os \n",
    "import numpy as np\n",
    "import pandas as pd \n",
    "import matplotlib.pyplot as plt \n",
    "import matplotlib as mpl \n",
    "import datetime as dt\n",
    "import seaborn as sns\n",
    "from sklearn.cluster import KMeans\n",
    "\n",
    "from src import config"
   ]
  },
  {
   "cell_type": "code",
   "execution_count": null,
   "metadata": {},
   "outputs": [],
   "source": [
    "# customers = pd.read_csv(config.RAW_FILE_PATH / 'olist_customers_dataset.csv')\n",
    "# orders = pd.read_csv(config.RAW_FILE_PATH / 'olist_orders_dataset.csv')\n",
    "# order_items = pd.read_csv(config.RAW_FILE_PATH / 'olist_order_items_dataset.csv')\n",
    "\n",
    "# for df in [order_items, customers, orders]: \n",
    "#     print(df.info())\n",
    "\n",
    "# rfm_order_items = order_items.groupby('order_id').agg({'price': sum, 'freight_value': sum, 'shipping_limit_date': max}).reset_index() \n",
    "\n",
    "# rfm_orders = orders.merge(rfm_order_items, on='order_id', how='inner')\n",
    "\n",
    "# rfm = customers.merge(rfm_orders, on='customer_id', how='inner')\n",
    "\n",
    "# rfm['order_status'].value_counts()\n",
    "\n",
    "# rfm = rfm.loc[rfm['order_status'] == 'delivered']\n",
    "\n",
    "# datetime_cols = [\n",
    "#   'order_purchase_timestamp',\n",
    "#   'order_approved_at',\n",
    "#   'order_delivered_carrier_date',\n",
    "#   'order_delivered_customer_date',\n",
    "#   'order_estimated_delivery_date',\n",
    "# ]\n",
    "\n",
    "# for col in datetime_cols: \n",
    "#     rfm[col] = pd.to_datetime(rfm[col])\n",
    "\n",
    "# rfm.info()\n",
    "\n",
    "# rfm = rfm.dropna(axis=0)\n",
    "\n",
    "# max_date = max(rfm['order_purchase_timestamp']) + dt.timedelta(days=1)\n",
    "\n",
    "# rfm = rfm.groupby('customer_unique_id').agg({\n",
    "#     'order_purchase_timestamp': lambda x: (max_date - x.max()).days,\n",
    "#     'customer_id': 'count',\n",
    "#     'price': sum\n",
    "# }).reset_index()\n",
    "\n",
    "# rfm.columns = ['customer_unique_id', 'recency', 'frequency', 'monetary']\n",
    "\n",
    "# rfm.describe()\n",
    "\n",
    "# rfm.to_csv(config.INT_FILE_PATH / 'rfm.csv')"
   ]
  },
  {
   "cell_type": "code",
   "execution_count": null,
   "metadata": {},
   "outputs": [],
   "source": [
    "### scoring"
   ]
  },
  {
   "cell_type": "code",
   "execution_count": null,
   "metadata": {
    "tags": []
   },
   "outputs": [],
   "source": [
    "rfm = pd.read_parquet(config.INT_FILE_PATH / \"rfm.parquet\")"
   ]
  },
  {
   "cell_type": "code",
   "execution_count": null,
   "metadata": {
    "tags": []
   },
   "outputs": [],
   "source": [
    "rfm.describe()"
   ]
  },
  {
   "cell_type": "code",
   "execution_count": null,
   "metadata": {},
   "outputs": [],
   "source": [
    "rfm.columns"
   ]
  },
  {
   "cell_type": "code",
   "execution_count": null,
   "metadata": {},
   "outputs": [],
   "source": [
    "for col in [\"recency\", \"frequency\", \"monetary\"]:\n",
    "    fig, _ = plt.subplots(figsize=(10,6))\n",
    "    sns.boxplot(x=rfm[col])\n",
    "    plt.show()"
   ]
  },
  {
   "cell_type": "code",
   "execution_count": null,
   "metadata": {},
   "outputs": [],
   "source": [
    "def get_cluster_score(data, column, invert=False):\n",
    "    data = data\n",
    "    class_score = f\"{column}_score\"\n",
    "    X = pd.DataFrame(data[column])\n",
    "    \n",
    "    kmeans_kwargs = {\n",
    "        \"n_clusters\": 4,\n",
    "        \"init\": \"random\",\n",
    "        \"n_init\": 10,\n",
    "        \"max_iter\": 300,\n",
    "        \"random_state\": 1,\n",
    "    }\n",
    "\n",
    "    def sorted_cluster(x, model=None):\n",
    "        if model == None:\n",
    "            model = KMeans()\n",
    "        model = sorted_cluster_centers_(model, x)\n",
    "        model = sorted_labels_(model, x)\n",
    "        return model\n",
    "\n",
    "    def sorted_cluster_centers_(model, x):\n",
    "        model.fit(x)\n",
    "        new_centroids = []\n",
    "        magnitude = []\n",
    "        for center in model.cluster_centers_:\n",
    "            magnitude.append(np.sqrt(center.dot(center)))\n",
    "        idx_argsort = np.argsort(magnitude)\n",
    "        model.cluster_centers_ = model.cluster_centers_[idx_argsort]\n",
    "        return model\n",
    "\n",
    "    def sorted_labels_(sorted_model, x):\n",
    "        sorted_model.labels_ = sorted_model.predict(x)\n",
    "        return sorted_model\n",
    "\n",
    "\n",
    "    km = KMeans(**kmeans_kwargs).fit(X)\n",
    "    cluster = sorted_cluster(X, km)\n",
    "    X[class_score] = cluster.predict(X)\n",
    "\n",
    "\n",
    "    plt.figure(figsize=(15,3))\n",
    "    plt.title(f'Results of clustering {column}')\n",
    "\n",
    "    sns.scatterplot(x=X[column], y=X.index, hue=X[class_score], s=10,)\n",
    "    \n",
    "    # append back to original dataset\n",
    "    data[class_score] = X[class_score] + 1\n",
    "\n",
    "    if invert:\n",
    "        data[class_score] = data[class_score].map({4:1, 3:2, 2:3, 1:4})\n"
   ]
  },
  {
   "cell_type": "code",
   "execution_count": null,
   "metadata": {
    "tags": []
   },
   "outputs": [],
   "source": [
    "rfm.info()"
   ]
  },
  {
   "cell_type": "code",
   "execution_count": null,
   "metadata": {
    "tags": []
   },
   "outputs": [],
   "source": [
    "# make scores \n",
    "get_cluster_score(rfm, \"recency\", invert=True)\n",
    "get_cluster_score(rfm, \"monetary\")\n",
    "get_cluster_score(rfm, \"frequency\")"
   ]
  },
  {
   "cell_type": "code",
   "execution_count": null,
   "metadata": {
    "tags": []
   },
   "outputs": [],
   "source": [
    "rfm[\"total_score\"] = rfm[\"recency_score\"] + rfm[\"monetary_score\"] + rfm[\"frequency_score\"] "
   ]
  },
  {
   "cell_type": "code",
   "execution_count": null,
   "metadata": {},
   "outputs": [],
   "source": [
    "rfm[\"segment_value\"] = pd.cut(rfm[\"total_score\"], bins=3, labels=[\"Low\", \"Medium\", \"High\"])"
   ]
  },
  {
   "cell_type": "code",
   "execution_count": null,
   "metadata": {},
   "outputs": [],
   "source": [
    "rfm.head()"
   ]
  }
 ],
 "metadata": {
  "interpreter": {
   "hash": "44a3c08237e01b3f273f94d4b0b6f4bfc3fd3da5036836380d570cd78e561537"
  },
  "kernelspec": {
   "display_name": "Python 3 (ipykernel)",
   "language": "python",
   "name": "python3"
  },
  "language_info": {
   "codemirror_mode": {
    "name": "ipython",
    "version": 3
   },
   "file_extension": ".py",
   "mimetype": "text/x-python",
   "name": "python",
   "nbconvert_exporter": "python",
   "pygments_lexer": "ipython3",
   "version": "3.9.12"
  }
 },
 "nbformat": 4,
 "nbformat_minor": 4
}
