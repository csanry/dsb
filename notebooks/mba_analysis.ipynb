{
 "cells": [
  {
   "cell_type": "code",
   "execution_count": null,
   "id": "97eb9534-51d5-4822-89eb-7d9ab092df7a",
   "metadata": {},
   "outputs": [],
   "source": [
    "import os \n",
    "import pandas as pd \n",
    "\n",
    "from src import config"
   ]
  },
  {
   "cell_type": "code",
   "execution_count": null,
   "id": "cdaceacc-0082-408f-b9e4-29938e33dc0f",
   "metadata": {},
   "outputs": [],
   "source": [
    "!pip install pyspark\n",
    "!pip install findspark"
   ]
  },
  {
   "cell_type": "code",
   "execution_count": null,
   "id": "b91c1db1-5240-4347-a82c-fdafefd213a3",
   "metadata": {},
   "outputs": [],
   "source": [
    "!apt-get update --fix-missing\n",
    "!apt-get install openjdk-8-jdk-headless -qq > /dev/null"
   ]
  },
  {
   "cell_type": "code",
   "execution_count": null,
   "id": "922a1bd7-7f07-4493-bd5f-96620a0aca38",
   "metadata": {
    "jupyter": {
     "outputs_hidden": true
    },
    "tags": []
   },
   "outputs": [],
   "source": [
    "df = pd.read_csv(config.RAW_FILE_PATH / \"olist_order_items_dataset.csv\")\n",
    "\n",
    "print(f\"\"\"\n",
    "{df.info()}\n",
    "{print(df.isna().sum())}\n",
    "{df.shape}\n",
    "{df.head()}\n",
    "\"\"\")"
   ]
  },
  {
   "cell_type": "code",
   "execution_count": null,
   "id": "0fedfe0e-cce1-42a5-a8b8-8d22b5d83561",
   "metadata": {},
   "outputs": [],
   "source": [
    "df = df.groupby(\"order_id\").agg({\"product_id\": lambda x: list(x)})"
   ]
  },
  {
   "cell_type": "code",
   "execution_count": null,
   "id": "e1b79e68-70b7-45ff-b774-fe97488343d7",
   "metadata": {},
   "outputs": [],
   "source": [
    "import pyspark.sql.types as T \n",
    "import pyspark.sql.functions as F \n",
    "from pyspark import SparkConf, SparkContext\n",
    "from pyspark.sql import SparkSession, SQLContext\n",
    "\n",
    "import pyspark.sql.functions as F\n",
    "from pyspark.ml.fpm import FPGrowth\n",
    "\n",
    "import findspark\n",
    "findspark.init()\n",
    "import os\n",
    "\n",
    "os.environ[\"JAVA_HOME\"] = \"/usr/lib/jvm/java-8-openjdk-amd64\""
   ]
  },
  {
   "cell_type": "code",
   "execution_count": null,
   "id": "351b5ff2-067e-4c18-a92a-3096f868d174",
   "metadata": {
    "jupyter": {
     "source_hidden": true
    },
    "tags": []
   },
   "outputs": [],
   "source": [
    "import pyspark.sql.types as T \n",
    "import pyspark.sql.functions as F \n",
    "from pyspark import SparkConf, SparkContext\n",
    "from pyspark.sql import SparkSession, SQLContext\n",
    "\n",
    "import pyspark.sql.functions as F\n",
    "from pyspark.ml.fpm import FPGrowth\n",
    "\n",
    "import findspark\n",
    "findspark.init()\n",
    "import os\n",
    "\n",
    "os.environ[\"JAVA_HOME\"] = \"/usr/lib/jvm/java-8-openjdk-amd64\""
   ]
  },
  {
   "cell_type": "code",
   "execution_count": null,
   "id": "ec6d3701-8206-4421-96b4-44bf9c2e4c2c",
   "metadata": {},
   "outputs": [],
   "source": [
    "spark = SparkSession.builder.getOrCreate()"
   ]
  },
  {
   "cell_type": "code",
   "execution_count": null,
   "id": "0ec253ce-fd92-41f9-b238-19da002a94b9",
   "metadata": {},
   "outputs": [],
   "source": [
    "df = spark.read.options(header=\"true\").csv(str(config.RAW_FILE_PATH / \"olist_order_items_dataset.csv\"))\n",
    "df = df.dropDuplicates([\"order_id\", \"product_id\"]).sort(\"order_id\")"
   ]
  },
  {
   "cell_type": "code",
   "execution_count": null,
   "id": "38f53a3b-0446-4bc0-ae18-384c98726e1f",
   "metadata": {},
   "outputs": [],
   "source": [
    "df = df.groupBy(\"order_id\").agg(F.collect_list(\"product_id\")).sort(\"order_id\")\n",
    "df.show(2)"
   ]
  },
  {
   "cell_type": "code",
   "execution_count": null,
   "id": "ff90c028-b9cc-49da-8e18-4bef0b623739",
   "metadata": {},
   "outputs": [],
   "source": [
    "fpGrowth = FPGrowth(itemsCol='collect_list(product_id)', minSupport=0.00001, minConfidence=0.0001)\n",
    "\n",
    "model = fpGrowth.fit(df)"
   ]
  },
  {
   "cell_type": "code",
   "execution_count": null,
   "id": "0f96ad59-2304-4247-a800-5782be7cdca5",
   "metadata": {},
   "outputs": [],
   "source": [
    "model.freqItemsets.show()\n",
    "items = model.freqItemsets.toPandas()\n",
    "\n",
    "model.associationRules.show()\n",
    "rules = model.associationRules.toPandas()"
   ]
  },
  {
   "cell_type": "code",
   "execution_count": null,
   "id": "7f31ab47-d465-4a07-a8e3-316b91a5281c",
   "metadata": {},
   "outputs": [],
   "source": [
    "items.to_csv(config.INT_FILE_PATH / \"mba_freq_items.csv\")\n",
    "rules.to_csv(config.INT_FILE_PATH / \"mba_pattern.csv\")"
   ]
  }
 ],
 "metadata": {
  "interpreter": {
   "hash": "44a3c08237e01b3f273f94d4b0b6f4bfc3fd3da5036836380d570cd78e561537"
  },
  "kernelspec": {
   "display_name": "Python 3.9.12 ('dsb')",
   "language": "python",
   "name": "python3"
  },
  "language_info": {
   "codemirror_mode": {
    "name": "ipython",
    "version": 3
   },
   "file_extension": ".py",
   "mimetype": "text/x-python",
   "name": "python",
   "nbconvert_exporter": "python",
   "pygments_lexer": "ipython3",
   "version": "3.9.12"
  }
 },
 "nbformat": 4,
 "nbformat_minor": 5
}
