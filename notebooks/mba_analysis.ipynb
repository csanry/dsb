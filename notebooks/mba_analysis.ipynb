{
 "cells": [
  {
   "cell_type": "code",
   "execution_count": null,
   "id": "97eb9534-51d5-4822-89eb-7d9ab092df7a",
   "metadata": {},
   "outputs": [],
   "source": [
    "import os \n",
    "import pandas as pd \n",
    "\n",
    "from src import config"
   ]
  },
  {
   "cell_type": "code",
   "execution_count": null,
   "id": "cdaceacc-0082-408f-b9e4-29938e33dc0f",
   "metadata": {},
   "outputs": [
    {
     "name": "stdout",
     "output_type": "stream",
     "text": [
      "<class 'pandas.core.frame.DataFrame'>\n",
      "RangeIndex: 112650 entries, 0 to 112649\n",
      "Data columns (total 7 columns):\n",
      " #   Column               Non-Null Count   Dtype  \n",
      "---  ------               --------------   -----  \n",
      " 0   order_id             112650 non-null  object \n",
      " 1   order_item_id        112650 non-null  int64  \n",
      " 2   product_id           112650 non-null  object \n",
      " 3   seller_id            112650 non-null  object \n",
      " 4   shipping_limit_date  112650 non-null  object \n",
      " 5   price                112650 non-null  float64\n",
      " 6   freight_value        112650 non-null  float64\n",
      "dtypes: float64(2), int64(1), object(4)\n",
      "memory usage: 6.0+ MB\n",
      "order_id               0\n",
      "order_item_id          0\n",
      "product_id             0\n",
      "seller_id              0\n",
      "shipping_limit_date    0\n",
      "price                  0\n",
      "freight_value          0\n",
      "dtype: int64\n",
      "\n",
      "None\n",
      "None\n",
      "(112650, 7)\n",
      "                           order_id  order_item_id  \\\n",
      "0  00010242fe8c5a6d1ba2dd792cb16214              1   \n",
      "1  00018f77f2f0320c557190d7a144bdd3              1   \n",
      "2  000229ec398224ef6ca0657da4fc703e              1   \n",
      "3  00024acbcdf0a6daa1e931b038114c75              1   \n",
      "4  00042b26cf59d7ce69dfabb4e55b4fd9              1   \n",
      "\n",
      "                         product_id                         seller_id  \\\n",
      "0  4244733e06e7ecb4970a6e2683c13e61  48436dade18ac8b2bce089ec2a041202   \n",
      "1  e5f2d52b802189ee658865ca93d83a8f  dd7ddc04e1b6c2c614352b383efe2d36   \n",
      "2  c777355d18b72b67abbeef9df44fd0fd  5b51032eddd242adc84c38acab88f23d   \n",
      "3  7634da152a4610f1595efa32f14722fc  9d7a1d34a5052409006425275ba1c2b4   \n",
      "4  ac6c3623068f30de03045865e4e10089  df560393f3a51e74553ab94004ba5c87   \n",
      "\n",
      "   shipping_limit_date   price  freight_value  \n",
      "0  2017-09-19 09:45:35   58.90          13.29  \n",
      "1  2017-05-03 11:05:13  239.90          19.93  \n",
      "2  2018-01-18 14:48:30  199.00          17.87  \n",
      "3  2018-08-15 10:10:18   12.99          12.79  \n",
      "4  2017-02-13 13:57:51  199.90          18.14  \n",
      "\n"
     ]
    }
   ],
   "source": [
    "!pip install pyspark\n",
    "!pip install findspark"
   ]
  },
  {
   "cell_type": "code",
   "execution_count": null,
   "id": "b91c1db1-5240-4347-a82c-fdafefd213a3",
   "metadata": {},
   "outputs": [],
   "source": [
    "!apt-get update --fix-missing\n",
    "!apt-get install openjdk-8-jdk-headless -qq > /dev/null"
   ]
  },
  {
   "cell_type": "code",
   "execution_count": null,
   "id": "922a1bd7-7f07-4493-bd5f-96620a0aca38",
   "metadata": {
    "jupyter": {
     "outputs_hidden": true
    },
    "tags": []
   },
   "outputs": [],
   "source": [
    "df = pd.read_csv(config.RAW_FILE_PATH / \"olist_order_items_dataset.csv\")\n",
    "\n",
    "print(f\"\"\"\n",
    "{df.info()}\n",
    "{print(df.isna().sum())}\n",
    "{df.shape}\n",
    "{df.head()}\n",
    "\"\"\")"
   ]
  },
  {
   "cell_type": "code",
   "execution_count": null,
   "id": "0fedfe0e-cce1-42a5-a8b8-8d22b5d83561",
   "metadata": {},
   "outputs": [
    {
     "name": "stdout",
     "output_type": "stream",
     "text": [
      "Hit:1 http://archive.ubuntu.com/ubuntu bionic InRelease                        \n",
      "Get:2 http://security.ubuntu.com/ubuntu bionic-security InRelease [88.7 kB]    \n",
      "Get:3 http://archive.ubuntu.com/ubuntu bionic-updates InRelease [88.7 kB]      \n",
      "Get:4 http://archive.ubuntu.com/ubuntu bionic-backports InRelease [74.6 kB]    \n",
      "Get:5 http://security.ubuntu.com/ubuntu bionic-security/universe amd64 Packages [1512 kB]\n",
      "Get:6 http://archive.ubuntu.com/ubuntu bionic-updates/restricted amd64 Packages [991 kB]\n",
      "Get:7 http://archive.ubuntu.com/ubuntu bionic-updates/main amd64 Packages [3231 kB]\n",
      "Get:8 http://archive.ubuntu.com/ubuntu bionic-updates/universe amd64 Packages [2286 kB]\n",
      "Get:9 http://security.ubuntu.com/ubuntu bionic-security/restricted amd64 Packages [957 kB]\n",
      "Get:10 http://security.ubuntu.com/ubuntu bionic-security/main amd64 Packages [2799 kB]\n",
      "Fetched 12.0 MB in 23s (533 kB/s)                                              \n",
      "Reading package lists... Done\n",
      "debconf: delaying package configuration, since apt-utils is not installed\n"
     ]
    }
   ],
   "source": [
    "df = df.groupby(\"order_id\").agg({\"product_id\": lambda x: list(x)})"
   ]
  },
  {
   "cell_type": "code",
   "execution_count": null,
   "id": "e1b79e68-70b7-45ff-b774-fe97488343d7",
   "metadata": {},
   "outputs": [],
   "source": [
    "import pyspark.sql.types as T \n",
    "import pyspark.sql.functions as F \n",
    "from pyspark import SparkConf, SparkContext\n",
    "from pyspark.sql import SparkSession, SQLContext\n",
    "\n",
    "import pyspark.sql.functions as F\n",
    "from pyspark.ml.fpm import FPGrowth\n",
    "\n",
    "import findspark\n",
    "findspark.init()\n",
    "import os\n",
    "\n",
    "os.environ[\"JAVA_HOME\"] = \"/usr/lib/jvm/java-8-openjdk-amd64\""
   ]
  },
  {
   "cell_type": "code",
   "execution_count": null,
   "id": "351b5ff2-067e-4c18-a92a-3096f868d174",
   "metadata": {
    "jupyter": {
     "source_hidden": true
    },
    "tags": []
   },
   "outputs": [],
   "source": [
    "import pyspark.sql.types as T \n",
    "import pyspark.sql.functions as F \n",
    "from pyspark import SparkConf, SparkContext\n",
    "from pyspark.sql import SparkSession, SQLContext\n",
    "\n",
    "import pyspark.sql.functions as F\n",
    "from pyspark.ml.fpm import FPGrowth\n",
    "\n",
    "import findspark\n",
    "findspark.init()\n",
    "import os\n",
    "\n",
    "os.environ[\"JAVA_HOME\"] = \"/usr/lib/jvm/java-8-openjdk-amd64\""
   ]
  },
  {
   "cell_type": "code",
   "execution_count": null,
   "id": "ec6d3701-8206-4421-96b4-44bf9c2e4c2c",
   "metadata": {},
   "outputs": [],
   "source": [
    "spark = SparkSession.builder.getOrCreate()"
   ]
  },
  {
   "cell_type": "code",
   "execution_count": null,
   "id": "0ec253ce-fd92-41f9-b238-19da002a94b9",
   "metadata": {},
   "outputs": [],
   "source": [
    "df = spark.read.options(header=\"true\").csv(str(config.RAW_FILE_PATH / \"olist_order_items_dataset.csv\"))\n",
    "df = df.dropDuplicates([\"order_id\", \"product_id\"]).sort(\"order_id\")"
   ]
  },
  {
   "cell_type": "code",
   "execution_count": null,
   "id": "38f53a3b-0446-4bc0-ae18-384c98726e1f",
   "metadata": {},
   "outputs": [
    {
     "name": "stderr",
     "output_type": "stream",
     "text": [
      "[Stage 12:>                                                         (0 + 6) / 6]\r"
     ]
    },
    {
     "name": "stdout",
     "output_type": "stream",
     "text": [
      "+--------------------+------------------------+\n",
      "|            order_id|collect_list(product_id)|\n",
      "+--------------------+------------------------+\n",
      "|00010242fe8c5a6d1...|    [4244733e06e7ecb4...|\n",
      "|00018f77f2f0320c5...|    [e5f2d52b802189ee...|\n",
      "+--------------------+------------------------+\n",
      "only showing top 2 rows\n",
      "\n"
     ]
    },
    {
     "name": "stderr",
     "output_type": "stream",
     "text": [
      "                                                                                \r"
     ]
    }
   ],
   "source": [
    "df = df.groupBy(\"order_id\").agg(F.collect_list(\"product_id\")).sort(\"order_id\")\n",
    "df.show(2)"
   ]
  },
  {
   "cell_type": "code",
   "execution_count": null,
   "id": "ff90c028-b9cc-49da-8e18-4bef0b623739",
   "metadata": {},
   "outputs": [],
   "source": [
    "fpGrowth = FPGrowth(itemsCol='collect_list(product_id)', minSupport=0.00001, minConfidence=0.0001)\n",
    "\n",
    "model = fpGrowth.fit(df)"
   ]
  },
  {
   "cell_type": "code",
   "execution_count": null,
   "id": "0f96ad59-2304-4247-a800-5782be7cdca5",
   "metadata": {},
   "outputs": [],
   "source": [
    "model.freqItemsets.show()\n",
    "items = model.freqItemsets.toPandas()\n",
    "\n",
    "model.associationRules.show()\n",
    "rules = model.associationRules.toPandas()"
   ]
  },
  {
   "cell_type": "code",
   "execution_count": null,
   "id": "7f31ab47-d465-4a07-a8e3-316b91a5281c",
   "metadata": {},
   "outputs": [],
   "source": [
    "items.to_csv(config.INT_FILE_PATH / \"mba_freq_items.csv\")\n",
    "rules.to_csv(config.INT_FILE_PATH / \"mba_pattern.csv\")"
   ]
  }
 ],
 "metadata": {
  "interpreter": {
   "hash": "44a3c08237e01b3f273f94d4b0b6f4bfc3fd3da5036836380d570cd78e561537"
  },
  "kernelspec": {
   "display_name": "Python 3.9.12 ('dsb')",
   "language": "python",
   "name": "python3"
  },
  "language_info": {
   "codemirror_mode": {
    "name": "ipython",
    "version": 3
   },
   "file_extension": ".py",
   "mimetype": "text/x-python",
   "name": "python",
   "nbconvert_exporter": "python",
   "pygments_lexer": "ipython3",
   "version": "3.9.12"
  }
 },
 "nbformat": 4,
 "nbformat_minor": 5
}
