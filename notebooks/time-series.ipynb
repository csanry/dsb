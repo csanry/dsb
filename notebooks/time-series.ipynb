{
 "cells": [
  {
   "cell_type": "code",
   "execution_count": null,
   "id": "2c9a4a2a",
   "metadata": {},
   "outputs": [],
   "source": [
    "### time series forecasting \n",
    "import numpy as np\n",
    "import pandas as pd \n",
    "import matplotlib.pyplot as plt\n",
    "import seaborn as sns\n",
    "\n",
    "from src import config\n",
    "\n",
    "pd.set_option(\"display.max_columns\", None)\n"
   ]
  },
  {
   "cell_type": "code",
   "execution_count": null,
   "id": "f29174c1-17ad-4874-ad0f-a3f9c8d793d3",
   "metadata": {
    "tags": []
   },
   "outputs": [],
   "source": [
    "!pip install statsmodels\n",
    "!pip install xgboost"
   ]
  },
  {
   "cell_type": "code",
   "execution_count": null,
   "id": "c89f6025-7a65-4966-b721-e4bd60dfdbb1",
   "metadata": {},
   "outputs": [],
   "source": [
    "import xgboost as xgb\n",
    "from sklearn.metrics import mean_squared_error\n",
    "from statsmodels.tsa.seasonal import seasonal_decompose"
   ]
  },
  {
   "cell_type": "code",
   "execution_count": null,
   "id": "f85689af",
   "metadata": {},
   "outputs": [],
   "source": [
    "# read in data \n",
    "df = pd.read_parquet(config.INT_FILE_PATH / 'transactions.parquet')"
   ]
  },
  {
   "cell_type": "code",
   "execution_count": null,
   "id": "668681b0-f218-459e-a4d3-ad6fc2e85724",
   "metadata": {
    "tags": []
   },
   "outputs": [],
   "source": [
    "df.head()"
   ]
  },
  {
   "cell_type": "code",
   "execution_count": null,
   "id": "27721dee-07b4-40db-804c-06fd56b45e5e",
   "metadata": {},
   "outputs": [],
   "source": [
    "df = df[[\"order_purchase_timestamp\", \"order_total_price\"]]"
   ]
  },
  {
   "cell_type": "code",
   "execution_count": null,
   "id": "291743f0-810b-4c7a-8050-59c1f4660eef",
   "metadata": {},
   "outputs": [],
   "source": [
    "weekly_sales = df.set_index(\"order_purchase_timestamp\").resample(\"W\")[[\"order_total_price\"]].sum()"
   ]
  },
  {
   "cell_type": "code",
   "execution_count": null,
   "id": "6988f585-5e4f-4dde-b98a-1f36d4fec34e",
   "metadata": {},
   "outputs": [],
   "source": [
    "weekly_sales"
   ]
  },
  {
   "cell_type": "code",
   "execution_count": null,
   "id": "f0f5e477-cc22-48f2-8adf-a605fde53e38",
   "metadata": {},
   "outputs": [],
   "source": [
    "decompose = seasonal_decompose(weekly_sales, extrapolate_trend=12)"
   ]
  },
  {
   "cell_type": "code",
   "execution_count": null,
   "id": "92b8a9e8-0615-4522-a176-9a3a8642dd75",
   "metadata": {},
   "outputs": [],
   "source": [
    "#Trend\n",
    "obs = decompose.observed\n",
    "#Trend\n",
    "trend = decompose.trend\n",
    "#Seazonal\n",
    "season = decompose.seasonal\n",
    "#Error\n",
    "random = decompose.resid\n"
   ]
  },
  {
   "cell_type": "code",
   "execution_count": null,
   "id": "f314f9b2-e5b8-4d43-b76d-3a6d004acef5",
   "metadata": {
    "tags": []
   },
   "outputs": [],
   "source": [
    "fig, axes = plt.subplots(4, 1, figsize=(15,8), sharex=True)\n",
    "fig.suptitle('Time Series of Purchase Values')\n",
    "\n",
    "sns.lineplot(x=obs.index, y=obs, ax=axes[0], data=obs)\n",
    "sns.lineplot(x=trend.index, y=trend, ax=axes[1], data=trend)\n",
    "sns.lineplot(x=season.index, y=season, ax=axes[2], data=season)\n",
    "sns.lineplot(x=random.index, y=random, ax=axes[3], data=random)"
   ]
  },
  {
   "cell_type": "code",
   "execution_count": null,
   "id": "408c40cd-e7da-4fb9-852c-08e169b80233",
   "metadata": {
    "tags": []
   },
   "outputs": [],
   "source": [
    "weekly_sales.info()"
   ]
  },
  {
   "cell_type": "code",
   "execution_count": null,
   "id": "d2d383ee-01ea-45cd-90d3-97ffc06865ce",
   "metadata": {},
   "outputs": [],
   "source": [
    "train_size = int(len(weekly_sales) * 0.80)\n",
    "train, test = weekly_sales[0:train_size], weekly_sales[train_size:]"
   ]
  },
  {
   "cell_type": "code",
   "execution_count": null,
   "id": "bf4ee880-4838-4dad-ae9e-977c515f7c3d",
   "metadata": {
    "tags": []
   },
   "outputs": [],
   "source": [
    "for df in [train, test]: \n",
    "    df[\"X\"] = df[\"order_total_price\"].shift(1)"
   ]
  },
  {
   "cell_type": "code",
   "execution_count": null,
   "id": "049fcec1-972c-4dac-aad8-ac27e5700c7b",
   "metadata": {
    "tags": []
   },
   "outputs": [],
   "source": [
    "train.head()"
   ]
  },
  {
   "cell_type": "code",
   "execution_count": null,
   "id": "06901f31-2644-488a-8129-e6f893774e4f",
   "metadata": {
    "tags": []
   },
   "outputs": [],
   "source": [
    "X_train, y_train = train[[\"X\"]], train[\"order_total_price\"]\n",
    "X_test, y_test = test[[\"X\"]], test[\"order_total_price\"]"
   ]
  },
  {
   "cell_type": "code",
   "execution_count": null,
   "id": "f3487e6c-d9ad-42fc-ab10-a89d42018986",
   "metadata": {
    "tags": []
   },
   "outputs": [],
   "source": [
    "xgb_model = xgb.XGBRegressor(n_estimators=150, learning_rate=0.05)\n",
    "xgb_model.fit(X_train, y_train, \n",
    "        early_stopping_rounds=5, \n",
    "        eval_set=[(X_test, y_test)], \n",
    "        verbose=False)\n",
    "\n",
    "xgb_pred = xgb_model.predict(X_test)\n",
    "\n",
    "print('RMSE for xgb was: \\n', mean_squared_error(y_test, xgb_pred, squared=False))"
   ]
  },
  {
   "cell_type": "code",
   "execution_count": null,
   "id": "64f17e7d-6be0-4498-87ba-83f3c8195bf6",
   "metadata": {
    "tags": []
   },
   "outputs": [],
   "source": [
    "\n",
    "train_pred = pd.Series(xgb_model.predict(X_train))\n",
    "test_pred = pd.Series(xgb_model.predict(X_test))\n",
    "\n",
    "predictions = pd.concat([train_pred, test_pred], axis=0)\n",
    "predictions.index = weekly_sales.index\n",
    "\n",
    "ax = plt.gca()\n",
    "\n",
    "weekly_sales[['order_total_price']].plot(figsize=(15, 6), ax=ax)\n",
    "predictions.plot(figsize=(15, 6), ax=ax, color=\"orange\")\n",
    "plt.show()"
   ]
  }
 ],
 "metadata": {
  "interpreter": {
   "hash": "570095cd93adf9a4e6271b94630cfbadf31bbfe8ef42337a7894ca3063fc1c9a"
  },
  "kernelspec": {
   "display_name": "Python 3 (ipykernel)",
   "language": "python",
   "name": "python3"
  },
  "language_info": {
   "codemirror_mode": {
    "name": "ipython",
    "version": 3
   },
   "file_extension": ".py",
   "mimetype": "text/x-python",
   "name": "python",
   "nbconvert_exporter": "python",
   "pygments_lexer": "ipython3",
   "version": "3.9.7"
  }
 },
 "nbformat": 4,
 "nbformat_minor": 5
}
