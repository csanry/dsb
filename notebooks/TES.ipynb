{
 "cells": [
  {
   "cell_type": "code",
   "execution_count": null,
   "id": "a2c4aaf2-ab27-4a70-8ba7-eae909485e29",
   "metadata": {},
   "outputs": [],
   "source": [
    "!pip install statsmodels"
   ]
  },
  {
   "cell_type": "code",
   "execution_count": null,
   "id": "085c06f4-d3a9-4b05-b345-87f093b49c4e",
   "metadata": {},
   "outputs": [],
   "source": [
    "import numpy as np\n",
    "import pandas as pd\n",
    "import matplotlib.pyplot as plt\n",
    "from statsmodels.tsa.api import ExponentialSmoothing\n",
    "from src import config\n",
    "\n",
    "import warnings\n",
    "warnings.filterwarnings(\"ignore\")\n",
    "\n",
    "%matplotlib inline"
   ]
  },
  {
   "cell_type": "code",
   "execution_count": null,
   "id": "1c55723d-7fd8-42be-9e25-ecc6c5369301",
   "metadata": {},
   "outputs": [],
   "source": [
    "def mape(test_data, forecast_data):\n",
    "    return np.where(test_data != 0,\n",
    "                    abs(test_data.reset_index(drop=True) - forecast_data.reset_index(drop=True))/test_data.reset_index(drop=True),\n",
    "                    np.where(forecast_data != 0, 1, 0)).mean()"
   ]
  },
  {
   "cell_type": "code",
   "execution_count": null,
   "id": "b86bfe2e-baab-4869-96dc-8f89d4dd2646",
   "metadata": {},
   "outputs": [],
   "source": [
    "def minHWM(df):\n",
    "    train_size = int(len(df)*0.8)\n",
    "    df_train, df_test = df[0:train_size], df[train_size:]\n",
    "    test_index = test.index\n",
    "    \n",
    "    df_train_clean = df_train.copy()\n",
    "    rep_index = df_train_clean[df_train_clean['order_total_price']==0].index\n",
    "    df_train_clean.loc[rep_index, 'order_total_price'] = 1\n",
    "    \n",
    "    cols = df_train.columns\n",
    "    HWM_table = pd.DataFrame(columns=cols, index=test_index)\n",
    "\n",
    "    for col in cols:\n",
    "        HWM1 = ExponentialSmoothing(\n",
    "            df_train_clean[col],\n",
    "            seasonal_periods=4,\n",
    "            trend=\"add\",\n",
    "            seasonal=\"add\",\n",
    "            use_boxcox=True,\n",
    "            initialization_method=\"estimated\",\n",
    "        ).fit()\n",
    "\n",
    "        HWM2 = ExponentialSmoothing(\n",
    "            df_train_clean[col],\n",
    "            seasonal_periods=4,\n",
    "            trend=\"add\",\n",
    "            seasonal=\"mul\",\n",
    "            use_boxcox=True,\n",
    "            initialization_method=\"estimated\",\n",
    "        ).fit()\n",
    "\n",
    "        HWM3 = ExponentialSmoothing(\n",
    "            df_train_clean[col],\n",
    "            seasonal_periods=4,\n",
    "            trend=\"add\",\n",
    "            seasonal=\"add\",\n",
    "            damped_trend=True,\n",
    "            use_boxcox=True,\n",
    "            initialization_method=\"estimated\",\n",
    "        ).fit()\n",
    "\n",
    "        HWM4 = ExponentialSmoothing(\n",
    "            df_train_clean[col],\n",
    "            seasonal_periods=4,\n",
    "            trend=\"add\",\n",
    "            seasonal=\"mul\",\n",
    "            damped_trend=True,\n",
    "            use_boxcox=True,\n",
    "            initialization_method=\"estimated\",\n",
    "        ).fit()\n",
    "\n",
    "        fcastHWM1 = HWM1.forecast(len(df_test)).rename(\"Holt's Winters additive trend\")\n",
    "        fcastHWM2 = HWM2.forecast(len(df_test)).rename(\"Holt's Winters multiplicative trend\")\n",
    "        fcastHWM3 = HWM3.forecast(len(df_test)).rename(\"Holt's Winters additive damped trend\")\n",
    "        fcastHWM4 = HWM4.forecast(len(df_test)).rename(\"Holt's Winters multiplicative damped trend\")\n",
    "\n",
    "\n",
    "        # Find lowest MAPE from the 4 HWM models\n",
    "        min_mape = np.inf\n",
    "        min_HWM = pd.DataFrame()\n",
    "        for HWM in [fcastHWM1, fcastHWM2, fcastHWM3, fcastHWM4]:\n",
    "            cur_mape = mape(df_test[col], HWM)\n",
    "            if cur_mape < min_mape:\n",
    "                min_mape = cur_mape\n",
    "                min_HWM = pd.DataFrame(HWM)\n",
    "                min_model = HWM.name\n",
    "\n",
    "        HWM_table[col] = min_HWM\n",
    "        print('Best Model is: ', min_model)\n",
    "        print('MAPE: ', min_mape)\n",
    "        \n",
    "    return HWM_table"
   ]
  },
  {
   "cell_type": "code",
   "execution_count": null,
   "id": "ea53ab09-33b5-4cdf-a7a0-928b1dfdbe5a",
   "metadata": {},
   "outputs": [],
   "source": []
  },
  {
   "cell_type": "code",
   "execution_count": null,
   "id": "1c169150-630b-4378-8f4c-515e2f2a33d6",
   "metadata": {},
   "outputs": [],
   "source": [
    "df = pd.read_parquet(config.INT_FILE_PATH / 'transactions.parquet')"
   ]
  },
  {
   "cell_type": "code",
   "execution_count": null,
   "id": "9cae3a88-38fa-4494-995f-8ad9ae4af24c",
   "metadata": {},
   "outputs": [],
   "source": [
    "df.head()"
   ]
  },
  {
   "cell_type": "code",
   "execution_count": null,
   "id": "6e5feabb-a8b1-4e6e-8aa0-addddb01420b",
   "metadata": {},
   "outputs": [],
   "source": [
    "df2 = df[[\"order_purchase_timestamp\", \"order_total_price\"]]"
   ]
  },
  {
   "cell_type": "code",
   "execution_count": null,
   "id": "f373a6b1-5407-49f0-9e96-52113e1f7461",
   "metadata": {},
   "outputs": [],
   "source": [
    "weekly_sales = df.set_index(\"order_purchase_timestamp\").resample(\"W\")[[\"order_total_price\"]].sum()"
   ]
  },
  {
   "cell_type": "code",
   "execution_count": null,
   "id": "5081eafa-3a19-45ec-ac23-7c40064441fe",
   "metadata": {},
   "outputs": [],
   "source": [
    "# Remove the last few weeks with small values)\n",
    "weekly_sales_clean = weekly_sales[:-8]"
   ]
  },
  {
   "cell_type": "code",
   "execution_count": null,
   "id": "00bc9386-7136-40ef-a3ec-5217699d1953",
   "metadata": {},
   "outputs": [],
   "source": []
  },
  {
   "cell_type": "code",
   "execution_count": null,
   "id": "7c6f72dc-b3b9-4279-a369-293cdadaa778",
   "metadata": {},
   "outputs": [],
   "source": [
    "minHWM(weekly_sales_clean)"
   ]
  },
  {
   "cell_type": "code",
   "execution_count": null,
   "id": "2e9e18c3-3850-4d72-af00-dec6eabe2abe",
   "metadata": {},
   "outputs": [],
   "source": []
  },
  {
   "cell_type": "code",
   "execution_count": null,
   "id": "7b47b0e6-0193-4eca-b82f-0b0f960da86d",
   "metadata": {},
   "outputs": [],
   "source": []
  },
  {
   "cell_type": "code",
   "execution_count": null,
   "id": "48be1f71-4e34-4046-aae2-b5d15e395a4a",
   "metadata": {},
   "outputs": [],
   "source": []
  },
  {
   "cell_type": "markdown",
   "id": "5db89cfe-9e54-4589-8b43-5cc00b0d87e8",
   "metadata": {},
   "source": [
    "## Code below is for Visualization of above MinHWM function"
   ]
  },
  {
   "cell_type": "code",
   "execution_count": null,
   "id": "067b5fff-1a5e-4db5-bdfc-a6a49dcb45b5",
   "metadata": {},
   "outputs": [],
   "source": [
    "train_size = int(len(weekly_sales_clean)*0.8)"
   ]
  },
  {
   "cell_type": "code",
   "execution_count": null,
   "id": "3a9d28bc-7af8-4aad-b206-0dc356bab94d",
   "metadata": {},
   "outputs": [],
   "source": [
    "train, test = weekly_sales_clean[0:train_size], weekly_sales_clean[train_size:]"
   ]
  },
  {
   "cell_type": "code",
   "execution_count": null,
   "id": "a52c754e-717b-4220-8479-4161124a4ba2",
   "metadata": {},
   "outputs": [],
   "source": [
    "train.columns"
   ]
  },
  {
   "cell_type": "code",
   "execution_count": null,
   "id": "925b3d62-3c5a-4712-abe5-0f4c599a1e27",
   "metadata": {},
   "outputs": [],
   "source": [
    "train.shape"
   ]
  },
  {
   "cell_type": "code",
   "execution_count": null,
   "id": "4d08d862-dc8a-4d49-9266-a0550079f071",
   "metadata": {},
   "outputs": [],
   "source": [
    "test.shape"
   ]
  },
  {
   "cell_type": "code",
   "execution_count": null,
   "id": "1d3cda6e-5ad0-49d0-8c2d-37c348b2a42d",
   "metadata": {},
   "outputs": [],
   "source": []
  },
  {
   "cell_type": "markdown",
   "id": "eb99bdce-6bb1-49ae-b71e-41578a19298e",
   "metadata": {},
   "source": [
    "## Replace 0 value with small value (1 for this case)"
   ]
  },
  {
   "cell_type": "code",
   "execution_count": null,
   "id": "fa98c4a6-d1d9-484d-99f2-26f1ddf8a4d7",
   "metadata": {},
   "outputs": [],
   "source": [
    "train[train['order_total_price']==0].index"
   ]
  },
  {
   "cell_type": "code",
   "execution_count": null,
   "id": "60db6058-0b05-4b5d-95b8-43497edf5f2f",
   "metadata": {},
   "outputs": [],
   "source": [
    "train_clean = train.copy()\n",
    "rep_index = train_clean[train_clean['order_total_price']==0].index\n",
    "train_clean.loc[rep_index, 'order_total_price'] = 1"
   ]
  },
  {
   "cell_type": "code",
   "execution_count": null,
   "id": "81c0a512-798c-4d95-995c-0e1706aa2f60",
   "metadata": {},
   "outputs": [],
   "source": []
  },
  {
   "cell_type": "code",
   "execution_count": null,
   "id": "54fc282c-bfa1-4263-8db1-eab82e93e3fc",
   "metadata": {},
   "outputs": [],
   "source": []
  },
  {
   "cell_type": "code",
   "execution_count": null,
   "id": "a4799a27-9dec-4ca2-938b-d8b6d2e79cd6",
   "metadata": {},
   "outputs": [],
   "source": []
  },
  {
   "cell_type": "markdown",
   "id": "d7da9730-4286-4fb3-a2bf-b0a5ceecd2ee",
   "metadata": {},
   "source": [
    "## HWM Additive Trend"
   ]
  },
  {
   "cell_type": "code",
   "execution_count": null,
   "id": "d4c6e121-b3e2-43bb-902f-ecf04a8258f2",
   "metadata": {},
   "outputs": [],
   "source": [
    "HWM1 = ExponentialSmoothing(\n",
    "    train_clean['order_total_price'],\n",
    "    seasonal_periods=12,\n",
    "    trend=\"add\",\n",
    "    seasonal=\"add\",\n",
    "    use_boxcox=True,\n",
    "    initialization_method=\"estimated\",\n",
    ").fit()"
   ]
  },
  {
   "cell_type": "code",
   "execution_count": null,
   "id": "0aa91650-0e04-44b2-848c-9ccb1d482c9d",
   "metadata": {},
   "outputs": [],
   "source": [
    "fcastHWM1 = HWM1.forecast(21).rename(\"Holt's Winters additive trend\")"
   ]
  },
  {
   "cell_type": "code",
   "execution_count": null,
   "id": "78b5b610-21d4-4e27-a0f2-f4b33c9e1979",
   "metadata": {},
   "outputs": [],
   "source": [
    "plt.figure(figsize=(12,8))\n",
    "plt.xticks(rotation=45)\n",
    "plt.title('Order Total Price')\n",
    "plt.plot(weekly_sales_clean['order_total_price'], marker=\"o\", color=\"black\")\n",
    "plt.plot(HWM1.fittedvalues, marker=\"o\", color=\"blue\")\n",
    "(line1,) = plt.plot(fcastHWM1, marker=\"o\", color=\"blue\")\n",
    "plt.legend([line1],[fcastHWM1.name])"
   ]
  },
  {
   "cell_type": "code",
   "execution_count": null,
   "id": "c6a7a6e7-17c4-4501-9b6c-40c9de775ca6",
   "metadata": {},
   "outputs": [],
   "source": [
    "mape(test['order_total_price'], fcastHWM1)"
   ]
  },
  {
   "cell_type": "code",
   "execution_count": null,
   "id": "827f87da-7299-499c-b8e8-89a49c28743f",
   "metadata": {},
   "outputs": [],
   "source": []
  },
  {
   "cell_type": "code",
   "execution_count": null,
   "id": "2d76d398-123c-4480-8d6b-ecdc94c5a1e0",
   "metadata": {},
   "outputs": [],
   "source": []
  },
  {
   "cell_type": "markdown",
   "id": "8c030dce-79e4-41d2-a853-85dfbd1397fe",
   "metadata": {},
   "source": [
    "## HWM Multiplicative Trend"
   ]
  },
  {
   "cell_type": "code",
   "execution_count": null,
   "id": "14c49987-8c95-4ae7-a9f4-fe7b14dfd5f0",
   "metadata": {},
   "outputs": [],
   "source": [
    "HWM2 = ExponentialSmoothing(\n",
    "    train_clean['order_total_price'],\n",
    "    seasonal_periods=24,\n",
    "    trend=\"add\",\n",
    "    seasonal=\"mul\",\n",
    "    use_boxcox=True,\n",
    "    initialization_method=\"estimated\",\n",
    ").fit()"
   ]
  },
  {
   "cell_type": "code",
   "execution_count": null,
   "id": "e3bca21c-9cbb-4587-888a-a458e8afd6af",
   "metadata": {},
   "outputs": [],
   "source": [
    "fcastHWM2 = HWM2.forecast(21).rename(\"Holt's Winters additive trend\")"
   ]
  },
  {
   "cell_type": "code",
   "execution_count": null,
   "id": "13b399f4-d033-4aca-8b1d-49f0d5564f39",
   "metadata": {},
   "outputs": [],
   "source": [
    "plt.figure(figsize=(12,8))\n",
    "plt.xticks(rotation=45)\n",
    "plt.title('Order Total Price')\n",
    "plt.plot(weekly_sales_clean['order_total_price'], marker=\"o\", color=\"black\")\n",
    "plt.plot(HWM2.fittedvalues, marker=\"o\", color=\"blue\")\n",
    "(line2,) = plt.plot(fcastHWM2, marker=\"o\", color=\"blue\")\n",
    "plt.legend([line2],[fcastHWM2.name])"
   ]
  },
  {
   "cell_type": "code",
   "execution_count": null,
   "id": "f35f2722-0626-461e-b378-fe2c74f62812",
   "metadata": {},
   "outputs": [],
   "source": [
    "mape(test['order_total_price'], fcastHWM2)"
   ]
  },
  {
   "cell_type": "code",
   "execution_count": null,
   "id": "d812e24a-dcf8-412e-a887-23ef7bc5952e",
   "metadata": {},
   "outputs": [],
   "source": []
  },
  {
   "cell_type": "code",
   "execution_count": null,
   "id": "8e5c6784-65ce-487b-a45e-7ccd1d60b039",
   "metadata": {},
   "outputs": [],
   "source": []
  },
  {
   "cell_type": "markdown",
   "id": "49eae534-f768-4817-9334-f5677cb7d91c",
   "metadata": {},
   "source": [
    "## HWM Additive with Damped Trend"
   ]
  },
  {
   "cell_type": "code",
   "execution_count": null,
   "id": "5b29cf9c-f49a-431b-99f0-66edea09c920",
   "metadata": {},
   "outputs": [],
   "source": [
    "HWM3 = ExponentialSmoothing(\n",
    "    train_clean['order_total_price'],\n",
    "    seasonal_periods=12,\n",
    "    trend=\"add\",\n",
    "    seasonal=\"add\",\n",
    "    damped_trend=True,\n",
    "    use_boxcox=True,\n",
    "    initialization_method=\"estimated\",\n",
    ").fit()"
   ]
  },
  {
   "cell_type": "code",
   "execution_count": null,
   "id": "735faa8d-a422-4400-9e97-0e46f88f1b25",
   "metadata": {},
   "outputs": [],
   "source": [
    "fcastHWM3 = HWM3.forecast(50).rename(\"Holt's Winters additive damped trend\")"
   ]
  },
  {
   "cell_type": "code",
   "execution_count": null,
   "id": "49d4f223-23c9-4e2d-8328-51523032f8de",
   "metadata": {},
   "outputs": [],
   "source": [
    "plt.figure(figsize=(12,8))\n",
    "plt.xticks(rotation=45)\n",
    "plt.title('Order Total Price')\n",
    "plt.plot(weekly_sales_clean['order_total_price'], marker=\"o\", color=\"black\")\n",
    "plt.plot(HWM3.fittedvalues, marker=\"o\", color=\"blue\")\n",
    "(line3,) = plt.plot(fcastHWM3, marker=\"o\", color=\"blue\")\n",
    "plt.legend([line3],[fcastHWM3.name])"
   ]
  },
  {
   "cell_type": "code",
   "execution_count": null,
   "id": "7d1bbe2d-4423-4884-b0eb-fa9ccb2ac2b9",
   "metadata": {},
   "outputs": [],
   "source": [
    "mape(test['order_total_price'], fcastHWM3)"
   ]
  },
  {
   "cell_type": "code",
   "execution_count": null,
   "id": "144583a6-02ed-4130-9510-2713cdb5e8ea",
   "metadata": {},
   "outputs": [],
   "source": []
  },
  {
   "cell_type": "code",
   "execution_count": null,
   "id": "40509353-3acd-4854-aaa0-a56f350fdd67",
   "metadata": {},
   "outputs": [],
   "source": []
  },
  {
   "cell_type": "markdown",
   "id": "1536a799-3348-4b5c-8739-4d6d25494ac8",
   "metadata": {},
   "source": [
    "## HWM Multiplicative with Damped Trend"
   ]
  },
  {
   "cell_type": "code",
   "execution_count": null,
   "id": "926ac5a0-c264-4e6a-91c2-9480ff575643",
   "metadata": {},
   "outputs": [],
   "source": [
    "HWM4 = ExponentialSmoothing(\n",
    "    train_clean['order_total_price'],\n",
    "    seasonal_periods=12,\n",
    "    trend=\"add\",\n",
    "    seasonal=\"mul\",\n",
    "    damped_trend=True,\n",
    "    use_boxcox=True,\n",
    "    initialization_method=\"estimated\",\n",
    ").fit()"
   ]
  },
  {
   "cell_type": "code",
   "execution_count": null,
   "id": "3df64c16-31e0-477f-894e-e8c4ef4b237f",
   "metadata": {},
   "outputs": [],
   "source": [
    "fcastHWM4 = HWM4.forecast(21).rename(\"Holt's Winters multiplicative damped trend\")"
   ]
  },
  {
   "cell_type": "code",
   "execution_count": null,
   "id": "dcd742a0-29a8-4b7e-8f86-c2d11f493cc3",
   "metadata": {},
   "outputs": [],
   "source": [
    "plt.figure(figsize=(12,8))\n",
    "plt.xticks(rotation=45)\n",
    "plt.title('Order Total Price')\n",
    "plt.plot(weekly_sales_clean['order_total_price'], marker=\"o\", color=\"black\")\n",
    "plt.plot(HWM4.fittedvalues, marker=\"o\", color=\"blue\")\n",
    "(line4,) = plt.plot(fcastHWM4, marker=\"o\", color=\"blue\")\n",
    "plt.legend([line4],[fcastHWM4.name])"
   ]
  },
  {
   "cell_type": "code",
   "execution_count": null,
   "id": "e913fce9-fd51-4114-a4aa-b47183ec1ec9",
   "metadata": {},
   "outputs": [],
   "source": []
  },
  {
   "cell_type": "code",
   "execution_count": null,
   "id": "02d7a22b-cbba-4c60-b583-6cebf1c686d6",
   "metadata": {},
   "outputs": [],
   "source": [
    "mape(test['order_total_price'], fcastHWM4)"
   ]
  },
  {
   "cell_type": "code",
   "execution_count": null,
   "id": "ce4001a6-2a1c-40c5-a608-04bbd7873ebf",
   "metadata": {},
   "outputs": [],
   "source": []
  },
  {
   "cell_type": "code",
   "execution_count": null,
   "id": "cc5be0d2-270b-4067-a174-9e7b879e7e9f",
   "metadata": {},
   "outputs": [],
   "source": []
  },
  {
   "cell_type": "code",
   "execution_count": null,
   "id": "a93cf741-c2c4-4ec2-8fd5-9df14f4dec92",
   "metadata": {},
   "outputs": [],
   "source": []
  }
 ],
 "metadata": {
  "kernelspec": {
   "display_name": "Python 3 (ipykernel)",
   "language": "python",
   "name": "python3"
  },
  "language_info": {
   "codemirror_mode": {
    "name": "ipython",
    "version": 3
   },
   "file_extension": ".py",
   "mimetype": "text/x-python",
   "name": "python",
   "nbconvert_exporter": "python",
   "pygments_lexer": "ipython3",
   "version": "3.9.12"
  }
 },
 "nbformat": 4,
 "nbformat_minor": 5
}
