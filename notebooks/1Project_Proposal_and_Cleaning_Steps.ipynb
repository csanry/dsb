{
 "cells": [
  {
   "cell_type": "markdown",
   "metadata": {},
   "source": [
    "## Data Cleaning"
   ]
  },
  {
   "cell_type": "markdown",
   "metadata": {},
   "source": [
    "### Load Data"
   ]
  },
  {
   "cell_type": "code",
   "execution_count": 1,
   "metadata": {},
   "outputs": [
    {
     "name": "stdout",
     "output_type": "stream",
     "text": [
      "Requirement already satisfied: cufflinks in /root/miniconda3/envs/dsb/lib/python3.9/site-packages (0.17.3)\n",
      "Requirement already satisfied: colorlover>=0.2.1 in /root/miniconda3/envs/dsb/lib/python3.9/site-packages (from cufflinks) (0.3.0)\n",
      "Requirement already satisfied: setuptools>=34.4.1 in /root/miniconda3/envs/dsb/lib/python3.9/site-packages (from cufflinks) (61.2.0)\n",
      "Requirement already satisfied: ipywidgets>=7.0.0 in /root/miniconda3/envs/dsb/lib/python3.9/site-packages (from cufflinks) (7.7.0)\n",
      "Requirement already satisfied: pandas>=0.19.2 in /root/miniconda3/envs/dsb/lib/python3.9/site-packages (from cufflinks) (1.4.2)\n",
      "Requirement already satisfied: ipython>=5.3.0 in /root/miniconda3/envs/dsb/lib/python3.9/site-packages (from cufflinks) (8.3.0)\n",
      "Requirement already satisfied: plotly>=4.1.1 in /root/miniconda3/envs/dsb/lib/python3.9/site-packages (from cufflinks) (5.8.0)\n",
      "Requirement already satisfied: numpy>=1.9.2 in /root/miniconda3/envs/dsb/lib/python3.9/site-packages (from cufflinks) (1.22.3)\n",
      "Requirement already satisfied: six>=1.9.0 in /root/miniconda3/envs/dsb/lib/python3.9/site-packages (from cufflinks) (1.16.0)\n",
      "Requirement already satisfied: jedi>=0.16 in /root/miniconda3/envs/dsb/lib/python3.9/site-packages (from ipython>=5.3.0->cufflinks) (0.18.1)\n",
      "Requirement already satisfied: decorator in /root/miniconda3/envs/dsb/lib/python3.9/site-packages (from ipython>=5.3.0->cufflinks) (5.1.1)\n",
      "Requirement already satisfied: pygments>=2.4.0 in /root/miniconda3/envs/dsb/lib/python3.9/site-packages (from ipython>=5.3.0->cufflinks) (2.12.0)\n",
      "Requirement already satisfied: stack-data in /root/miniconda3/envs/dsb/lib/python3.9/site-packages (from ipython>=5.3.0->cufflinks) (0.2.0)\n",
      "Requirement already satisfied: backcall in /root/miniconda3/envs/dsb/lib/python3.9/site-packages (from ipython>=5.3.0->cufflinks) (0.2.0)\n",
      "Requirement already satisfied: pickleshare in /root/miniconda3/envs/dsb/lib/python3.9/site-packages (from ipython>=5.3.0->cufflinks) (0.7.5)\n",
      "Requirement already satisfied: traitlets>=5 in /root/miniconda3/envs/dsb/lib/python3.9/site-packages (from ipython>=5.3.0->cufflinks) (5.2.1.post0)\n",
      "Requirement already satisfied: pexpect>4.3 in /root/miniconda3/envs/dsb/lib/python3.9/site-packages (from ipython>=5.3.0->cufflinks) (4.8.0)\n",
      "Requirement already satisfied: prompt-toolkit!=3.0.0,!=3.0.1,<3.1.0,>=2.0.0 in /root/miniconda3/envs/dsb/lib/python3.9/site-packages (from ipython>=5.3.0->cufflinks) (3.0.29)\n",
      "Requirement already satisfied: matplotlib-inline in /root/miniconda3/envs/dsb/lib/python3.9/site-packages (from ipython>=5.3.0->cufflinks) (0.1.3)\n",
      "Requirement already satisfied: ipykernel>=4.5.1 in /root/miniconda3/envs/dsb/lib/python3.9/site-packages (from ipywidgets>=7.0.0->cufflinks) (6.13.0)\n",
      "Requirement already satisfied: jupyterlab-widgets>=1.0.0 in /root/miniconda3/envs/dsb/lib/python3.9/site-packages (from ipywidgets>=7.0.0->cufflinks) (1.1.0)\n",
      "Requirement already satisfied: nbformat>=4.2.0 in /root/miniconda3/envs/dsb/lib/python3.9/site-packages (from ipywidgets>=7.0.0->cufflinks) (5.4.0)\n",
      "Requirement already satisfied: ipython-genutils~=0.2.0 in /root/miniconda3/envs/dsb/lib/python3.9/site-packages (from ipywidgets>=7.0.0->cufflinks) (0.2.0)\n",
      "Requirement already satisfied: widgetsnbextension~=3.6.0 in /root/miniconda3/envs/dsb/lib/python3.9/site-packages (from ipywidgets>=7.0.0->cufflinks) (3.6.0)\n",
      "Requirement already satisfied: psutil in /root/miniconda3/envs/dsb/lib/python3.9/site-packages (from ipykernel>=4.5.1->ipywidgets>=7.0.0->cufflinks) (5.9.0)\n",
      "Requirement already satisfied: debugpy>=1.0 in /root/miniconda3/envs/dsb/lib/python3.9/site-packages (from ipykernel>=4.5.1->ipywidgets>=7.0.0->cufflinks) (1.6.0)\n",
      "Requirement already satisfied: nest-asyncio in /root/miniconda3/envs/dsb/lib/python3.9/site-packages (from ipykernel>=4.5.1->ipywidgets>=7.0.0->cufflinks) (1.5.5)\n",
      "Requirement already satisfied: packaging in /root/miniconda3/envs/dsb/lib/python3.9/site-packages (from ipykernel>=4.5.1->ipywidgets>=7.0.0->cufflinks) (21.3)\n",
      "Requirement already satisfied: tornado>=6.1 in /root/miniconda3/envs/dsb/lib/python3.9/site-packages (from ipykernel>=4.5.1->ipywidgets>=7.0.0->cufflinks) (6.1)\n",
      "Requirement already satisfied: jupyter-client>=6.1.12 in /root/miniconda3/envs/dsb/lib/python3.9/site-packages (from ipykernel>=4.5.1->ipywidgets>=7.0.0->cufflinks) (7.3.1)\n",
      "Requirement already satisfied: parso<0.9.0,>=0.8.0 in /root/miniconda3/envs/dsb/lib/python3.9/site-packages (from jedi>=0.16->ipython>=5.3.0->cufflinks) (0.8.3)\n",
      "Requirement already satisfied: python-dateutil>=2.8.2 in /root/miniconda3/envs/dsb/lib/python3.9/site-packages (from jupyter-client>=6.1.12->ipykernel>=4.5.1->ipywidgets>=7.0.0->cufflinks) (2.8.2)\n",
      "Requirement already satisfied: entrypoints in /root/miniconda3/envs/dsb/lib/python3.9/site-packages (from jupyter-client>=6.1.12->ipykernel>=4.5.1->ipywidgets>=7.0.0->cufflinks) (0.4)\n",
      "Requirement already satisfied: jupyter-core>=4.9.2 in /root/miniconda3/envs/dsb/lib/python3.9/site-packages (from jupyter-client>=6.1.12->ipykernel>=4.5.1->ipywidgets>=7.0.0->cufflinks) (4.10.0)\n",
      "Requirement already satisfied: pyzmq>=22.3 in /root/miniconda3/envs/dsb/lib/python3.9/site-packages (from jupyter-client>=6.1.12->ipykernel>=4.5.1->ipywidgets>=7.0.0->cufflinks) (22.3.0)\n",
      "Requirement already satisfied: fastjsonschema in /root/miniconda3/envs/dsb/lib/python3.9/site-packages (from nbformat>=4.2.0->ipywidgets>=7.0.0->cufflinks) (2.15.3)\n",
      "Requirement already satisfied: jsonschema>=2.6 in /root/miniconda3/envs/dsb/lib/python3.9/site-packages (from nbformat>=4.2.0->ipywidgets>=7.0.0->cufflinks) (4.5.1)\n",
      "Requirement already satisfied: attrs>=17.4.0 in /root/miniconda3/envs/dsb/lib/python3.9/site-packages (from jsonschema>=2.6->nbformat>=4.2.0->ipywidgets>=7.0.0->cufflinks) (21.4.0)\n",
      "Requirement already satisfied: pyrsistent!=0.17.0,!=0.17.1,!=0.17.2,>=0.14.0 in /root/miniconda3/envs/dsb/lib/python3.9/site-packages (from jsonschema>=2.6->nbformat>=4.2.0->ipywidgets>=7.0.0->cufflinks) (0.18.1)\n",
      "Requirement already satisfied: pytz>=2020.1 in /root/miniconda3/envs/dsb/lib/python3.9/site-packages (from pandas>=0.19.2->cufflinks) (2022.1)\n",
      "Requirement already satisfied: ptyprocess>=0.5 in /root/miniconda3/envs/dsb/lib/python3.9/site-packages (from pexpect>4.3->ipython>=5.3.0->cufflinks) (0.7.0)\n",
      "Requirement already satisfied: tenacity>=6.2.0 in /root/miniconda3/envs/dsb/lib/python3.9/site-packages (from plotly>=4.1.1->cufflinks) (8.0.1)\n",
      "Requirement already satisfied: wcwidth in /root/miniconda3/envs/dsb/lib/python3.9/site-packages (from prompt-toolkit!=3.0.0,!=3.0.1,<3.1.0,>=2.0.0->ipython>=5.3.0->cufflinks) (0.2.5)\n",
      "Requirement already satisfied: notebook>=4.4.1 in /root/miniconda3/envs/dsb/lib/python3.9/site-packages (from widgetsnbextension~=3.6.0->ipywidgets>=7.0.0->cufflinks) (6.4.11)\n",
      "Requirement already satisfied: terminado>=0.8.3 in /root/miniconda3/envs/dsb/lib/python3.9/site-packages (from notebook>=4.4.1->widgetsnbextension~=3.6.0->ipywidgets>=7.0.0->cufflinks) (0.15.0)\n",
      "Requirement already satisfied: prometheus-client in /root/miniconda3/envs/dsb/lib/python3.9/site-packages (from notebook>=4.4.1->widgetsnbextension~=3.6.0->ipywidgets>=7.0.0->cufflinks) (0.14.1)\n",
      "Requirement already satisfied: jinja2 in /root/miniconda3/envs/dsb/lib/python3.9/site-packages (from notebook>=4.4.1->widgetsnbextension~=3.6.0->ipywidgets>=7.0.0->cufflinks) (3.1.2)\n",
      "Requirement already satisfied: Send2Trash>=1.8.0 in /root/miniconda3/envs/dsb/lib/python3.9/site-packages (from notebook>=4.4.1->widgetsnbextension~=3.6.0->ipywidgets>=7.0.0->cufflinks) (1.8.0)\n",
      "Requirement already satisfied: argon2-cffi in /root/miniconda3/envs/dsb/lib/python3.9/site-packages (from notebook>=4.4.1->widgetsnbextension~=3.6.0->ipywidgets>=7.0.0->cufflinks) (21.3.0)\n",
      "Requirement already satisfied: nbconvert>=5 in /root/miniconda3/envs/dsb/lib/python3.9/site-packages (from notebook>=4.4.1->widgetsnbextension~=3.6.0->ipywidgets>=7.0.0->cufflinks) (6.5.0)\n",
      "Requirement already satisfied: jupyterlab-pygments in /root/miniconda3/envs/dsb/lib/python3.9/site-packages (from nbconvert>=5->notebook>=4.4.1->widgetsnbextension~=3.6.0->ipywidgets>=7.0.0->cufflinks) (0.2.2)\n",
      "Requirement already satisfied: bleach in /root/miniconda3/envs/dsb/lib/python3.9/site-packages (from nbconvert>=5->notebook>=4.4.1->widgetsnbextension~=3.6.0->ipywidgets>=7.0.0->cufflinks) (5.0.0)\n",
      "Requirement already satisfied: nbclient>=0.5.0 in /root/miniconda3/envs/dsb/lib/python3.9/site-packages (from nbconvert>=5->notebook>=4.4.1->widgetsnbextension~=3.6.0->ipywidgets>=7.0.0->cufflinks) (0.6.3)\n",
      "Requirement already satisfied: defusedxml in /root/miniconda3/envs/dsb/lib/python3.9/site-packages (from nbconvert>=5->notebook>=4.4.1->widgetsnbextension~=3.6.0->ipywidgets>=7.0.0->cufflinks) (0.7.1)\n",
      "Requirement already satisfied: tinycss2 in /root/miniconda3/envs/dsb/lib/python3.9/site-packages (from nbconvert>=5->notebook>=4.4.1->widgetsnbextension~=3.6.0->ipywidgets>=7.0.0->cufflinks) (1.1.1)\n",
      "Requirement already satisfied: MarkupSafe>=2.0 in /root/miniconda3/envs/dsb/lib/python3.9/site-packages (from nbconvert>=5->notebook>=4.4.1->widgetsnbextension~=3.6.0->ipywidgets>=7.0.0->cufflinks) (2.1.1)\n",
      "Requirement already satisfied: pandocfilters>=1.4.1 in /root/miniconda3/envs/dsb/lib/python3.9/site-packages (from nbconvert>=5->notebook>=4.4.1->widgetsnbextension~=3.6.0->ipywidgets>=7.0.0->cufflinks) (1.5.0)\n",
      "Requirement already satisfied: mistune<2,>=0.8.1 in /root/miniconda3/envs/dsb/lib/python3.9/site-packages (from nbconvert>=5->notebook>=4.4.1->widgetsnbextension~=3.6.0->ipywidgets>=7.0.0->cufflinks) (0.8.4)\n",
      "Requirement already satisfied: beautifulsoup4 in /root/miniconda3/envs/dsb/lib/python3.9/site-packages (from nbconvert>=5->notebook>=4.4.1->widgetsnbextension~=3.6.0->ipywidgets>=7.0.0->cufflinks) (4.11.1)\n",
      "Requirement already satisfied: argon2-cffi-bindings in /root/miniconda3/envs/dsb/lib/python3.9/site-packages (from argon2-cffi->notebook>=4.4.1->widgetsnbextension~=3.6.0->ipywidgets>=7.0.0->cufflinks) (21.2.0)\n",
      "Requirement already satisfied: cffi>=1.0.1 in /root/miniconda3/envs/dsb/lib/python3.9/site-packages (from argon2-cffi-bindings->argon2-cffi->notebook>=4.4.1->widgetsnbextension~=3.6.0->ipywidgets>=7.0.0->cufflinks) (1.15.0)\n",
      "Requirement already satisfied: pycparser in /root/miniconda3/envs/dsb/lib/python3.9/site-packages (from cffi>=1.0.1->argon2-cffi-bindings->argon2-cffi->notebook>=4.4.1->widgetsnbextension~=3.6.0->ipywidgets>=7.0.0->cufflinks) (2.21)\n",
      "Requirement already satisfied: soupsieve>1.2 in /root/miniconda3/envs/dsb/lib/python3.9/site-packages (from beautifulsoup4->nbconvert>=5->notebook>=4.4.1->widgetsnbextension~=3.6.0->ipywidgets>=7.0.0->cufflinks) (2.3.2.post1)\n",
      "Requirement already satisfied: webencodings in /root/miniconda3/envs/dsb/lib/python3.9/site-packages (from bleach->nbconvert>=5->notebook>=4.4.1->widgetsnbextension~=3.6.0->ipywidgets>=7.0.0->cufflinks) (0.5.1)\n",
      "Requirement already satisfied: pyparsing!=3.0.5,>=2.0.2 in /root/miniconda3/envs/dsb/lib/python3.9/site-packages (from packaging->ipykernel>=4.5.1->ipywidgets>=7.0.0->cufflinks) (3.0.9)\n",
      "Requirement already satisfied: asttokens in /root/miniconda3/envs/dsb/lib/python3.9/site-packages (from stack-data->ipython>=5.3.0->cufflinks) (2.0.5)\n",
      "Requirement already satisfied: pure-eval in /root/miniconda3/envs/dsb/lib/python3.9/site-packages (from stack-data->ipython>=5.3.0->cufflinks) (0.2.2)\n",
      "Requirement already satisfied: executing in /root/miniconda3/envs/dsb/lib/python3.9/site-packages (from stack-data->ipython>=5.3.0->cufflinks) (0.8.3)\n",
      "\u001b[33mWARNING: Running pip as the 'root' user can result in broken permissions and conflicting behaviour with the system package manager. It is recommended to use a virtual environment instead: https://pip.pypa.io/warnings/venv\u001b[0m\n",
      "Requirement already satisfied: plotly in /root/miniconda3/envs/dsb/lib/python3.9/site-packages (5.8.0)\n",
      "Requirement already satisfied: tenacity>=6.2.0 in /root/miniconda3/envs/dsb/lib/python3.9/site-packages (from plotly) (8.0.1)\n",
      "\u001b[33mWARNING: Running pip as the 'root' user can result in broken permissions and conflicting behaviour with the system package manager. It is recommended to use a virtual environment instead: https://pip.pypa.io/warnings/venv\u001b[0m\n"
     ]
    }
   ],
   "source": [
    "!pip install cufflinks\n",
    "!pip install plotly"
   ]
  },
  {
   "cell_type": "code",
   "execution_count": 2,
   "metadata": {},
   "outputs": [
    {
     "data": {
      "text/html": [
       "        <script type=\"text/javascript\">\n",
       "        window.PlotlyConfig = {MathJaxConfig: 'local'};\n",
       "        if (window.MathJax && window.MathJax.Hub && window.MathJax.Hub.Config) {window.MathJax.Hub.Config({SVG: {font: \"STIX-Web\"}});}\n",
       "        if (typeof require !== 'undefined') {\n",
       "        require.undef(\"plotly\");\n",
       "        requirejs.config({\n",
       "            paths: {\n",
       "                'plotly': ['https://cdn.plot.ly/plotly-2.12.1.min']\n",
       "            }\n",
       "        });\n",
       "        require(['plotly'], function(Plotly) {\n",
       "            window._Plotly = Plotly;\n",
       "        });\n",
       "        }\n",
       "        </script>\n",
       "        "
      ]
     },
     "metadata": {},
     "output_type": "display_data"
    }
   ],
   "source": [
    "# import relevant libraries\n",
    "import glob\n",
    "import pandas as pd\n",
    "import numpy as np\n",
    "import matplotlib.pyplot as plt\n",
    "import seaborn as sns\n",
    "import matplotlib.dates as mdates\n",
    "import datetime\n",
    "import plotly.offline\n",
    "import cufflinks as cf\n",
    "cf.go_offline()\n",
    "cf.set_config_file(offline=False, world_readable=True)\n",
    "sns.set()"
   ]
  },
  {
   "cell_type": "code",
   "execution_count": 3,
   "metadata": {},
   "outputs": [],
   "source": [
    "# list of prefered dataframe names in same order as directory\n",
    "customers = pd.read_csv(\"/project/data/raw/olist_customers_dataset.csv\")\n",
    "location = pd.read_csv(\"/project/data/raw/olist_geolocation_dataset.csv\")\n",
    "orders = pd.read_csv(\"/project/data/raw/olist_orders_dataset.csv\")\n",
    "order_items = pd.read_csv(\"/project/data/raw/olist_order_items_dataset.csv\")\n",
    "payments = pd.read_csv(\"/project/data/raw/olist_order_payments_dataset.csv\")\n",
    "reviews = pd.read_csv(\"/project/data/raw/olist_order_reviews_dataset.csv\")\n",
    "products = pd.read_csv(\"/project/data/raw/olist_products_dataset.csv\")\n",
    "sellers = pd.read_csv(\"/project/data/raw/olist_sellers_dataset.csv\")\n",
    "translation = pd.read_csv(\"/project/data/raw/product_category_name_translation.csv\")"
   ]
  },
  {
   "cell_type": "markdown",
   "metadata": {},
   "source": [
    "#### Order Reviews Dataset\n",
    "This dataset includes data about the reviews made by the customers.\n",
    "\n",
    "After a customer purchases the product from Olist Store a seller gets notified to fulfill that order. Once the customer receives the product, or the estimated delivery date is due, the customer gets a satisfaction survey by email where he can give a note for the purchase experience and write down some comments."
   ]
  },
  {
   "cell_type": "code",
   "execution_count": 4,
   "metadata": {},
   "outputs": [],
   "source": [
    "def replace_na_with_text(df, column, new_text):\n",
    "    '''replace missing text with preferred description'''\n",
    "    \n",
    "    # change missing data to appropriate label\n",
    "    df[column] = df[column].replace(np.nan, new_text)"
   ]
  },
  {
   "cell_type": "code",
   "execution_count": 5,
   "metadata": {},
   "outputs": [],
   "source": [
    "replace_na_with_text(df=reviews, column='review_comment_title', new_text='no title')\n",
    "replace_na_with_text(df=reviews, column='review_comment_message', new_text='no comment given')"
   ]
  },
  {
   "cell_type": "code",
   "execution_count": 6,
   "metadata": {},
   "outputs": [],
   "source": [
    "def timestamp_to_datetime(df, columns):\n",
    "    \n",
    "    for col in columns:\n",
    "        df[col] = pd.to_datetime(df[col])"
   ]
  },
  {
   "cell_type": "code",
   "execution_count": 7,
   "metadata": {},
   "outputs": [],
   "source": [
    "columns = ['review_creation_date', 'review_answer_timestamp']\n",
    "timestamp_to_datetime(reviews, columns)"
   ]
  },
  {
   "cell_type": "code",
   "execution_count": 8,
   "metadata": {},
   "outputs": [],
   "source": [
    "def lowercase(df, columns):\n",
    "    '''change all text to lowercase'''\n",
    "    for col in columns:\n",
    "        df[col] = df[col].str.lower()"
   ]
  },
  {
   "cell_type": "code",
   "execution_count": 9,
   "metadata": {},
   "outputs": [],
   "source": [
    "columns = ['review_comment_title', 'review_comment_title']\n",
    "lowercase(reviews, columns)"
   ]
  },
  {
   "cell_type": "code",
   "execution_count": 10,
   "metadata": {},
   "outputs": [
    {
     "data": {
      "text/html": [
       "<div>\n",
       "<style scoped>\n",
       "    .dataframe tbody tr th:only-of-type {\n",
       "        vertical-align: middle;\n",
       "    }\n",
       "\n",
       "    .dataframe tbody tr th {\n",
       "        vertical-align: top;\n",
       "    }\n",
       "\n",
       "    .dataframe thead th {\n",
       "        text-align: right;\n",
       "    }\n",
       "</style>\n",
       "<table border=\"1\" class=\"dataframe\">\n",
       "  <thead>\n",
       "    <tr style=\"text-align: right;\">\n",
       "      <th></th>\n",
       "      <th>review_id</th>\n",
       "      <th>order_id</th>\n",
       "      <th>review_score</th>\n",
       "      <th>review_comment_title</th>\n",
       "      <th>review_comment_message</th>\n",
       "      <th>review_creation_date</th>\n",
       "      <th>review_answer_timestamp</th>\n",
       "    </tr>\n",
       "  </thead>\n",
       "  <tbody>\n",
       "    <tr>\n",
       "      <th>0</th>\n",
       "      <td>7bc2406110b926393aa56f80a40eba40</td>\n",
       "      <td>73fc7af87114b39712e6da79b0a377eb</td>\n",
       "      <td>4</td>\n",
       "      <td>no title</td>\n",
       "      <td>no comment given</td>\n",
       "      <td>2018-01-18</td>\n",
       "      <td>2018-01-18 21:46:59</td>\n",
       "    </tr>\n",
       "    <tr>\n",
       "      <th>1</th>\n",
       "      <td>80e641a11e56f04c1ad469d5645fdfde</td>\n",
       "      <td>a548910a1c6147796b98fdf73dbeba33</td>\n",
       "      <td>5</td>\n",
       "      <td>no title</td>\n",
       "      <td>no comment given</td>\n",
       "      <td>2018-03-10</td>\n",
       "      <td>2018-03-11 03:05:13</td>\n",
       "    </tr>\n",
       "    <tr>\n",
       "      <th>2</th>\n",
       "      <td>228ce5500dc1d8e020d8d1322874b6f0</td>\n",
       "      <td>f9e4b658b201a9f2ecdecbb34bed034b</td>\n",
       "      <td>5</td>\n",
       "      <td>no title</td>\n",
       "      <td>no comment given</td>\n",
       "      <td>2018-02-17</td>\n",
       "      <td>2018-02-18 14:36:24</td>\n",
       "    </tr>\n",
       "    <tr>\n",
       "      <th>3</th>\n",
       "      <td>e64fb393e7b32834bb789ff8bb30750e</td>\n",
       "      <td>658677c97b385a9be170737859d3511b</td>\n",
       "      <td>5</td>\n",
       "      <td>no title</td>\n",
       "      <td>Recebi bem antes do prazo estipulado.</td>\n",
       "      <td>2017-04-21</td>\n",
       "      <td>2017-04-21 22:02:06</td>\n",
       "    </tr>\n",
       "    <tr>\n",
       "      <th>4</th>\n",
       "      <td>f7c4243c7fe1938f181bec41a392bdeb</td>\n",
       "      <td>8e6bfb81e283fa7e4f11123a3fb894f1</td>\n",
       "      <td>5</td>\n",
       "      <td>no title</td>\n",
       "      <td>Parabéns lojas lannister adorei comprar pela I...</td>\n",
       "      <td>2018-03-01</td>\n",
       "      <td>2018-03-02 10:26:53</td>\n",
       "    </tr>\n",
       "  </tbody>\n",
       "</table>\n",
       "</div>"
      ],
      "text/plain": [
       "                          review_id                          order_id  \\\n",
       "0  7bc2406110b926393aa56f80a40eba40  73fc7af87114b39712e6da79b0a377eb   \n",
       "1  80e641a11e56f04c1ad469d5645fdfde  a548910a1c6147796b98fdf73dbeba33   \n",
       "2  228ce5500dc1d8e020d8d1322874b6f0  f9e4b658b201a9f2ecdecbb34bed034b   \n",
       "3  e64fb393e7b32834bb789ff8bb30750e  658677c97b385a9be170737859d3511b   \n",
       "4  f7c4243c7fe1938f181bec41a392bdeb  8e6bfb81e283fa7e4f11123a3fb894f1   \n",
       "\n",
       "   review_score review_comment_title  \\\n",
       "0             4             no title   \n",
       "1             5             no title   \n",
       "2             5             no title   \n",
       "3             5             no title   \n",
       "4             5             no title   \n",
       "\n",
       "                              review_comment_message review_creation_date  \\\n",
       "0                                   no comment given           2018-01-18   \n",
       "1                                   no comment given           2018-03-10   \n",
       "2                                   no comment given           2018-02-17   \n",
       "3              Recebi bem antes do prazo estipulado.           2017-04-21   \n",
       "4  Parabéns lojas lannister adorei comprar pela I...           2018-03-01   \n",
       "\n",
       "  review_answer_timestamp  \n",
       "0     2018-01-18 21:46:59  \n",
       "1     2018-03-11 03:05:13  \n",
       "2     2018-02-18 14:36:24  \n",
       "3     2017-04-21 22:02:06  \n",
       "4     2018-03-02 10:26:53  "
      ]
     },
     "execution_count": 10,
     "metadata": {},
     "output_type": "execute_result"
    }
   ],
   "source": [
    "reviews.head()"
   ]
  },
  {
   "cell_type": "markdown",
   "metadata": {},
   "source": [
    "#### Order Dataset\n",
    "This is the core dataset. From each order you might find all other information."
   ]
  },
  {
   "cell_type": "code",
   "execution_count": 11,
   "metadata": {},
   "outputs": [],
   "source": [
    "# drop rows containing NaN values, this corresponds to no delivery\n",
    "orders.dropna(inplace = True)\n",
    "    \n",
    "# drop canceled orders (3 remaining) and reset index\n",
    "index_to_drop = orders[orders.order_status == 'canceled'].index\n",
    "orders.drop(index_to_drop, inplace=True)\n",
    "orders.reset_index(drop=True, inplace=True)"
   ]
  },
  {
   "cell_type": "code",
   "execution_count": 12,
   "metadata": {},
   "outputs": [],
   "source": [
    "columns_to_datetime = ['order_purchase_timestamp', 'order_approved_at', 'order_delivered_carrier_date', \\\n",
    "                          'order_delivered_customer_date', 'order_estimated_delivery_date']\n",
    "timestamp_to_datetime(orders, columns_to_datetime)"
   ]
  },
  {
   "cell_type": "code",
   "execution_count": 13,
   "metadata": {},
   "outputs": [
    {
     "name": "stdout",
     "output_type": "stream",
     "text": [
      "<class 'pandas.core.frame.DataFrame'>\n",
      "RangeIndex: 96455 entries, 0 to 96454\n",
      "Data columns (total 8 columns):\n",
      " #   Column                         Non-Null Count  Dtype         \n",
      "---  ------                         --------------  -----         \n",
      " 0   order_id                       96455 non-null  object        \n",
      " 1   customer_id                    96455 non-null  object        \n",
      " 2   order_status                   96455 non-null  object        \n",
      " 3   order_purchase_timestamp       96455 non-null  datetime64[ns]\n",
      " 4   order_approved_at              96455 non-null  datetime64[ns]\n",
      " 5   order_delivered_carrier_date   96455 non-null  datetime64[ns]\n",
      " 6   order_delivered_customer_date  96455 non-null  datetime64[ns]\n",
      " 7   order_estimated_delivery_date  96455 non-null  datetime64[ns]\n",
      "dtypes: datetime64[ns](5), object(3)\n",
      "memory usage: 5.9+ MB\n"
     ]
    }
   ],
   "source": [
    "orders.info()"
   ]
  },
  {
   "cell_type": "code",
   "execution_count": 14,
   "metadata": {},
   "outputs": [
    {
     "name": "stderr",
     "output_type": "stream",
     "text": [
      "/tmp/ipykernel_501/3321741864.py:1: FutureWarning:\n",
      "\n",
      "Treating datetime data as categorical rather than numeric in `.describe` is deprecated and will be removed in a future version of pandas. Specify `datetime_is_numeric=True` to silence this warning and adopt the future behavior now.\n",
      "\n",
      "/tmp/ipykernel_501/3321741864.py:1: FutureWarning:\n",
      "\n",
      "Treating datetime data as categorical rather than numeric in `.describe` is deprecated and will be removed in a future version of pandas. Specify `datetime_is_numeric=True` to silence this warning and adopt the future behavior now.\n",
      "\n",
      "/tmp/ipykernel_501/3321741864.py:1: FutureWarning:\n",
      "\n",
      "Treating datetime data as categorical rather than numeric in `.describe` is deprecated and will be removed in a future version of pandas. Specify `datetime_is_numeric=True` to silence this warning and adopt the future behavior now.\n",
      "\n",
      "/tmp/ipykernel_501/3321741864.py:1: FutureWarning:\n",
      "\n",
      "Treating datetime data as categorical rather than numeric in `.describe` is deprecated and will be removed in a future version of pandas. Specify `datetime_is_numeric=True` to silence this warning and adopt the future behavior now.\n",
      "\n",
      "/tmp/ipykernel_501/3321741864.py:1: FutureWarning:\n",
      "\n",
      "Treating datetime data as categorical rather than numeric in `.describe` is deprecated and will be removed in a future version of pandas. Specify `datetime_is_numeric=True` to silence this warning and adopt the future behavior now.\n",
      "\n"
     ]
    },
    {
     "data": {
      "text/html": [
       "<div>\n",
       "<style scoped>\n",
       "    .dataframe tbody tr th:only-of-type {\n",
       "        vertical-align: middle;\n",
       "    }\n",
       "\n",
       "    .dataframe tbody tr th {\n",
       "        vertical-align: top;\n",
       "    }\n",
       "\n",
       "    .dataframe thead th {\n",
       "        text-align: right;\n",
       "    }\n",
       "</style>\n",
       "<table border=\"1\" class=\"dataframe\">\n",
       "  <thead>\n",
       "    <tr style=\"text-align: right;\">\n",
       "      <th></th>\n",
       "      <th>count</th>\n",
       "      <th>unique</th>\n",
       "      <th>top</th>\n",
       "      <th>freq</th>\n",
       "      <th>first</th>\n",
       "      <th>last</th>\n",
       "    </tr>\n",
       "  </thead>\n",
       "  <tbody>\n",
       "    <tr>\n",
       "      <th>order_purchase_timestamp</th>\n",
       "      <td>96455</td>\n",
       "      <td>95933</td>\n",
       "      <td>2018-08-02 12:06:07</td>\n",
       "      <td>3</td>\n",
       "      <td>2016-09-15 12:16:38</td>\n",
       "      <td>2018-08-29 15:00:37</td>\n",
       "    </tr>\n",
       "    <tr>\n",
       "      <th>order_approved_at</th>\n",
       "      <td>96455</td>\n",
       "      <td>88266</td>\n",
       "      <td>2018-02-27 04:31:10</td>\n",
       "      <td>9</td>\n",
       "      <td>2016-09-15 12:16:38</td>\n",
       "      <td>2018-08-29 15:10:26</td>\n",
       "    </tr>\n",
       "    <tr>\n",
       "      <th>order_delivered_carrier_date</th>\n",
       "      <td>96455</td>\n",
       "      <td>80094</td>\n",
       "      <td>2018-05-09 15:48:00</td>\n",
       "      <td>47</td>\n",
       "      <td>2016-10-08 10:34:01</td>\n",
       "      <td>2018-09-11 19:48:28</td>\n",
       "    </tr>\n",
       "    <tr>\n",
       "      <th>order_delivered_customer_date</th>\n",
       "      <td>96455</td>\n",
       "      <td>95643</td>\n",
       "      <td>2018-07-24 21:36:42</td>\n",
       "      <td>3</td>\n",
       "      <td>2016-10-11 13:46:32</td>\n",
       "      <td>2018-10-17 13:22:46</td>\n",
       "    </tr>\n",
       "    <tr>\n",
       "      <th>order_estimated_delivery_date</th>\n",
       "      <td>96455</td>\n",
       "      <td>445</td>\n",
       "      <td>2017-12-20 00:00:00</td>\n",
       "      <td>507</td>\n",
       "      <td>2016-10-04 00:00:00</td>\n",
       "      <td>2018-10-25 00:00:00</td>\n",
       "    </tr>\n",
       "  </tbody>\n",
       "</table>\n",
       "</div>"
      ],
      "text/plain": [
       "                               count unique                 top freq  \\\n",
       "order_purchase_timestamp       96455  95933 2018-08-02 12:06:07    3   \n",
       "order_approved_at              96455  88266 2018-02-27 04:31:10    9   \n",
       "order_delivered_carrier_date   96455  80094 2018-05-09 15:48:00   47   \n",
       "order_delivered_customer_date  96455  95643 2018-07-24 21:36:42    3   \n",
       "order_estimated_delivery_date  96455    445 2017-12-20 00:00:00  507   \n",
       "\n",
       "                                            first                last  \n",
       "order_purchase_timestamp      2016-09-15 12:16:38 2018-08-29 15:00:37  \n",
       "order_approved_at             2016-09-15 12:16:38 2018-08-29 15:10:26  \n",
       "order_delivered_carrier_date  2016-10-08 10:34:01 2018-09-11 19:48:28  \n",
       "order_delivered_customer_date 2016-10-11 13:46:32 2018-10-17 13:22:46  \n",
       "order_estimated_delivery_date 2016-10-04 00:00:00 2018-10-25 00:00:00  "
      ]
     },
     "execution_count": 14,
     "metadata": {},
     "output_type": "execute_result"
    }
   ],
   "source": [
    "orders.describe(exclude=object).T"
   ]
  },
  {
   "cell_type": "code",
   "execution_count": 15,
   "metadata": {},
   "outputs": [
    {
     "data": {
      "text/html": [
       "<div>\n",
       "<style scoped>\n",
       "    .dataframe tbody tr th:only-of-type {\n",
       "        vertical-align: middle;\n",
       "    }\n",
       "\n",
       "    .dataframe tbody tr th {\n",
       "        vertical-align: top;\n",
       "    }\n",
       "\n",
       "    .dataframe thead th {\n",
       "        text-align: right;\n",
       "    }\n",
       "</style>\n",
       "<table border=\"1\" class=\"dataframe\">\n",
       "  <thead>\n",
       "    <tr style=\"text-align: right;\">\n",
       "      <th></th>\n",
       "      <th>count</th>\n",
       "      <th>unique</th>\n",
       "      <th>top</th>\n",
       "      <th>freq</th>\n",
       "    </tr>\n",
       "  </thead>\n",
       "  <tbody>\n",
       "    <tr>\n",
       "      <th>order_id</th>\n",
       "      <td>96455</td>\n",
       "      <td>96455</td>\n",
       "      <td>e481f51cbdc54678b7cc49136f2d6af7</td>\n",
       "      <td>1</td>\n",
       "    </tr>\n",
       "    <tr>\n",
       "      <th>customer_id</th>\n",
       "      <td>96455</td>\n",
       "      <td>96455</td>\n",
       "      <td>9ef432eb6251297304e76186b10a928d</td>\n",
       "      <td>1</td>\n",
       "    </tr>\n",
       "    <tr>\n",
       "      <th>order_status</th>\n",
       "      <td>96455</td>\n",
       "      <td>1</td>\n",
       "      <td>delivered</td>\n",
       "      <td>96455</td>\n",
       "    </tr>\n",
       "  </tbody>\n",
       "</table>\n",
       "</div>"
      ],
      "text/plain": [
       "              count unique                               top   freq\n",
       "order_id      96455  96455  e481f51cbdc54678b7cc49136f2d6af7      1\n",
       "customer_id   96455  96455  9ef432eb6251297304e76186b10a928d      1\n",
       "order_status  96455      1                         delivered  96455"
      ]
     },
     "execution_count": 15,
     "metadata": {},
     "output_type": "execute_result"
    }
   ],
   "source": [
    "orders.describe(exclude='datetime').T"
   ]
  },
  {
   "cell_type": "markdown",
   "metadata": {},
   "source": [
    "#### Products Dataset\n",
    "This dataset includes data about the products sold by Olist.\n"
   ]
  },
  {
   "cell_type": "code",
   "execution_count": 16,
   "metadata": {},
   "outputs": [
    {
     "data": {
      "text/html": [
       "<div>\n",
       "<style scoped>\n",
       "    .dataframe tbody tr th:only-of-type {\n",
       "        vertical-align: middle;\n",
       "    }\n",
       "\n",
       "    .dataframe tbody tr th {\n",
       "        vertical-align: top;\n",
       "    }\n",
       "\n",
       "    .dataframe thead th {\n",
       "        text-align: right;\n",
       "    }\n",
       "</style>\n",
       "<table border=\"1\" class=\"dataframe\">\n",
       "  <thead>\n",
       "    <tr style=\"text-align: right;\">\n",
       "      <th></th>\n",
       "      <th>product_category_name</th>\n",
       "      <th>product_category_name_english</th>\n",
       "    </tr>\n",
       "  </thead>\n",
       "  <tbody>\n",
       "    <tr>\n",
       "      <th>0</th>\n",
       "      <td>beleza_saude</td>\n",
       "      <td>health_beauty</td>\n",
       "    </tr>\n",
       "    <tr>\n",
       "      <th>1</th>\n",
       "      <td>informatica_acessorios</td>\n",
       "      <td>computers_accessories</td>\n",
       "    </tr>\n",
       "    <tr>\n",
       "      <th>2</th>\n",
       "      <td>automotivo</td>\n",
       "      <td>auto</td>\n",
       "    </tr>\n",
       "    <tr>\n",
       "      <th>3</th>\n",
       "      <td>cama_mesa_banho</td>\n",
       "      <td>bed_bath_table</td>\n",
       "    </tr>\n",
       "    <tr>\n",
       "      <th>4</th>\n",
       "      <td>moveis_decoracao</td>\n",
       "      <td>furniture_decor</td>\n",
       "    </tr>\n",
       "  </tbody>\n",
       "</table>\n",
       "</div>"
      ],
      "text/plain": [
       "    product_category_name product_category_name_english\n",
       "0            beleza_saude                 health_beauty\n",
       "1  informatica_acessorios         computers_accessories\n",
       "2              automotivo                          auto\n",
       "3         cama_mesa_banho                bed_bath_table\n",
       "4        moveis_decoracao               furniture_decor"
      ]
     },
     "execution_count": 16,
     "metadata": {},
     "output_type": "execute_result"
    }
   ],
   "source": [
    "translation.head()"
   ]
  },
  {
   "cell_type": "code",
   "execution_count": 17,
   "metadata": {},
   "outputs": [],
   "source": [
    "# drop products with no description\n",
    "products.dropna(inplace = True)\n",
    "products.reset_index(drop = True, inplace = True)"
   ]
  },
  {
   "cell_type": "code",
   "execution_count": 18,
   "metadata": {},
   "outputs": [],
   "source": [
    "def translate_column_with_df(df_original, df_translation, column_original, column_translation): \n",
    "    '''Translate column, given df with translation'''\n",
    "    \n",
    "    # convert translation to dictionary to extract key, value pairs\n",
    "    df_translation = df_translation.set_index(column_original)\n",
    "    df_translation = df_translation.to_dict('dict')\n",
    "    \n",
    "    # map translations\n",
    "    df_original[column_original] = df_original[column_original]\\\n",
    "                                               .replace(df_translation[column_translation])"
   ]
  },
  {
   "cell_type": "code",
   "execution_count": 19,
   "metadata": {},
   "outputs": [],
   "source": [
    "translate_column_with_df(products, translation, 'product_category_name', 'product_category_name_english')"
   ]
  },
  {
   "cell_type": "code",
   "execution_count": 20,
   "metadata": {},
   "outputs": [
    {
     "data": {
      "text/html": [
       "<div>\n",
       "<style scoped>\n",
       "    .dataframe tbody tr th:only-of-type {\n",
       "        vertical-align: middle;\n",
       "    }\n",
       "\n",
       "    .dataframe tbody tr th {\n",
       "        vertical-align: top;\n",
       "    }\n",
       "\n",
       "    .dataframe thead th {\n",
       "        text-align: right;\n",
       "    }\n",
       "</style>\n",
       "<table border=\"1\" class=\"dataframe\">\n",
       "  <thead>\n",
       "    <tr style=\"text-align: right;\">\n",
       "      <th></th>\n",
       "      <th>count</th>\n",
       "      <th>unique</th>\n",
       "      <th>top</th>\n",
       "      <th>freq</th>\n",
       "    </tr>\n",
       "  </thead>\n",
       "  <tbody>\n",
       "    <tr>\n",
       "      <th>product_id</th>\n",
       "      <td>32340</td>\n",
       "      <td>32340</td>\n",
       "      <td>1e9e8ef04dbcff4541ed26657ea517e5</td>\n",
       "      <td>1</td>\n",
       "    </tr>\n",
       "    <tr>\n",
       "      <th>product_category_name</th>\n",
       "      <td>32340</td>\n",
       "      <td>73</td>\n",
       "      <td>bed_bath_table</td>\n",
       "      <td>3029</td>\n",
       "    </tr>\n",
       "  </tbody>\n",
       "</table>\n",
       "</div>"
      ],
      "text/plain": [
       "                       count unique                               top  freq\n",
       "product_id             32340  32340  1e9e8ef04dbcff4541ed26657ea517e5     1\n",
       "product_category_name  32340     73                    bed_bath_table  3029"
      ]
     },
     "execution_count": 20,
     "metadata": {},
     "output_type": "execute_result"
    }
   ],
   "source": [
    "products.describe(exclude=float).T"
   ]
  },
  {
   "cell_type": "markdown",
   "metadata": {},
   "source": [
    "> Over 32,000 products within 71 categories"
   ]
  },
  {
   "cell_type": "code",
   "execution_count": 21,
   "metadata": {
    "scrolled": true
   },
   "outputs": [
    {
     "data": {
      "text/html": [
       "<div>\n",
       "<style scoped>\n",
       "    .dataframe tbody tr th:only-of-type {\n",
       "        vertical-align: middle;\n",
       "    }\n",
       "\n",
       "    .dataframe tbody tr th {\n",
       "        vertical-align: top;\n",
       "    }\n",
       "\n",
       "    .dataframe thead th {\n",
       "        text-align: right;\n",
       "    }\n",
       "</style>\n",
       "<table border=\"1\" class=\"dataframe\">\n",
       "  <thead>\n",
       "    <tr style=\"text-align: right;\">\n",
       "      <th></th>\n",
       "      <th>count</th>\n",
       "      <th>mean</th>\n",
       "      <th>std</th>\n",
       "      <th>min</th>\n",
       "      <th>25%</th>\n",
       "      <th>50%</th>\n",
       "      <th>75%</th>\n",
       "      <th>max</th>\n",
       "    </tr>\n",
       "  </thead>\n",
       "  <tbody>\n",
       "    <tr>\n",
       "      <th>product_name_lenght</th>\n",
       "      <td>32340.0</td>\n",
       "      <td>48.476592</td>\n",
       "      <td>10.245699</td>\n",
       "      <td>5.0</td>\n",
       "      <td>42.0</td>\n",
       "      <td>51.0</td>\n",
       "      <td>57.0</td>\n",
       "      <td>76.0</td>\n",
       "    </tr>\n",
       "    <tr>\n",
       "      <th>product_description_lenght</th>\n",
       "      <td>32340.0</td>\n",
       "      <td>771.492393</td>\n",
       "      <td>635.124831</td>\n",
       "      <td>4.0</td>\n",
       "      <td>339.0</td>\n",
       "      <td>595.0</td>\n",
       "      <td>972.0</td>\n",
       "      <td>3992.0</td>\n",
       "    </tr>\n",
       "    <tr>\n",
       "      <th>product_photos_qty</th>\n",
       "      <td>32340.0</td>\n",
       "      <td>2.188961</td>\n",
       "      <td>1.736787</td>\n",
       "      <td>1.0</td>\n",
       "      <td>1.0</td>\n",
       "      <td>1.0</td>\n",
       "      <td>3.0</td>\n",
       "      <td>20.0</td>\n",
       "    </tr>\n",
       "    <tr>\n",
       "      <th>product_weight_g</th>\n",
       "      <td>32340.0</td>\n",
       "      <td>2276.956586</td>\n",
       "      <td>4279.291845</td>\n",
       "      <td>0.0</td>\n",
       "      <td>300.0</td>\n",
       "      <td>700.0</td>\n",
       "      <td>1900.0</td>\n",
       "      <td>40425.0</td>\n",
       "    </tr>\n",
       "    <tr>\n",
       "      <th>product_length_cm</th>\n",
       "      <td>32340.0</td>\n",
       "      <td>30.854545</td>\n",
       "      <td>16.955965</td>\n",
       "      <td>7.0</td>\n",
       "      <td>18.0</td>\n",
       "      <td>25.0</td>\n",
       "      <td>38.0</td>\n",
       "      <td>105.0</td>\n",
       "    </tr>\n",
       "    <tr>\n",
       "      <th>product_height_cm</th>\n",
       "      <td>32340.0</td>\n",
       "      <td>16.958813</td>\n",
       "      <td>13.636115</td>\n",
       "      <td>2.0</td>\n",
       "      <td>8.0</td>\n",
       "      <td>13.0</td>\n",
       "      <td>21.0</td>\n",
       "      <td>105.0</td>\n",
       "    </tr>\n",
       "    <tr>\n",
       "      <th>product_width_cm</th>\n",
       "      <td>32340.0</td>\n",
       "      <td>23.208596</td>\n",
       "      <td>12.078762</td>\n",
       "      <td>6.0</td>\n",
       "      <td>15.0</td>\n",
       "      <td>20.0</td>\n",
       "      <td>30.0</td>\n",
       "      <td>118.0</td>\n",
       "    </tr>\n",
       "  </tbody>\n",
       "</table>\n",
       "</div>"
      ],
      "text/plain": [
       "                              count         mean          std  min    25%  \\\n",
       "product_name_lenght         32340.0    48.476592    10.245699  5.0   42.0   \n",
       "product_description_lenght  32340.0   771.492393   635.124831  4.0  339.0   \n",
       "product_photos_qty          32340.0     2.188961     1.736787  1.0    1.0   \n",
       "product_weight_g            32340.0  2276.956586  4279.291845  0.0  300.0   \n",
       "product_length_cm           32340.0    30.854545    16.955965  7.0   18.0   \n",
       "product_height_cm           32340.0    16.958813    13.636115  2.0    8.0   \n",
       "product_width_cm            32340.0    23.208596    12.078762  6.0   15.0   \n",
       "\n",
       "                              50%     75%      max  \n",
       "product_name_lenght          51.0    57.0     76.0  \n",
       "product_description_lenght  595.0   972.0   3992.0  \n",
       "product_photos_qty            1.0     3.0     20.0  \n",
       "product_weight_g            700.0  1900.0  40425.0  \n",
       "product_length_cm            25.0    38.0    105.0  \n",
       "product_height_cm            13.0    21.0    105.0  \n",
       "product_width_cm             20.0    30.0    118.0  "
      ]
     },
     "execution_count": 21,
     "metadata": {},
     "output_type": "execute_result"
    }
   ],
   "source": [
    "products.describe(exclude=object).T"
   ]
  },
  {
   "cell_type": "markdown",
   "metadata": {},
   "source": [
    "#### Sellers Dataset\n",
    "This dataset includes data about the sellers that fulfilled orders made at Olist. Use it to find the seller location and to identify which seller fulfilled each product."
   ]
  },
  {
   "cell_type": "code",
   "execution_count": 22,
   "metadata": {
    "scrolled": true
   },
   "outputs": [
    {
     "data": {
      "text/html": [
       "<div>\n",
       "<style scoped>\n",
       "    .dataframe tbody tr th:only-of-type {\n",
       "        vertical-align: middle;\n",
       "    }\n",
       "\n",
       "    .dataframe tbody tr th {\n",
       "        vertical-align: top;\n",
       "    }\n",
       "\n",
       "    .dataframe thead th {\n",
       "        text-align: right;\n",
       "    }\n",
       "</style>\n",
       "<table border=\"1\" class=\"dataframe\">\n",
       "  <thead>\n",
       "    <tr style=\"text-align: right;\">\n",
       "      <th></th>\n",
       "      <th>seller_id</th>\n",
       "      <th>seller_zip_code_prefix</th>\n",
       "      <th>seller_city</th>\n",
       "      <th>seller_state</th>\n",
       "    </tr>\n",
       "  </thead>\n",
       "  <tbody>\n",
       "    <tr>\n",
       "      <th>0</th>\n",
       "      <td>3442f8959a84dea7ee197c632cb2df15</td>\n",
       "      <td>13023</td>\n",
       "      <td>campinas</td>\n",
       "      <td>SP</td>\n",
       "    </tr>\n",
       "    <tr>\n",
       "      <th>1</th>\n",
       "      <td>d1b65fc7debc3361ea86b5f14c68d2e2</td>\n",
       "      <td>13844</td>\n",
       "      <td>mogi guacu</td>\n",
       "      <td>SP</td>\n",
       "    </tr>\n",
       "    <tr>\n",
       "      <th>2</th>\n",
       "      <td>ce3ad9de960102d0677a81f5d0bb7b2d</td>\n",
       "      <td>20031</td>\n",
       "      <td>rio de janeiro</td>\n",
       "      <td>RJ</td>\n",
       "    </tr>\n",
       "    <tr>\n",
       "      <th>3</th>\n",
       "      <td>c0f3eea2e14555b6faeea3dd58c1b1c3</td>\n",
       "      <td>4195</td>\n",
       "      <td>sao paulo</td>\n",
       "      <td>SP</td>\n",
       "    </tr>\n",
       "    <tr>\n",
       "      <th>4</th>\n",
       "      <td>51a04a8a6bdcb23deccc82b0b80742cf</td>\n",
       "      <td>12914</td>\n",
       "      <td>braganca paulista</td>\n",
       "      <td>SP</td>\n",
       "    </tr>\n",
       "  </tbody>\n",
       "</table>\n",
       "</div>"
      ],
      "text/plain": [
       "                          seller_id  seller_zip_code_prefix  \\\n",
       "0  3442f8959a84dea7ee197c632cb2df15                   13023   \n",
       "1  d1b65fc7debc3361ea86b5f14c68d2e2                   13844   \n",
       "2  ce3ad9de960102d0677a81f5d0bb7b2d                   20031   \n",
       "3  c0f3eea2e14555b6faeea3dd58c1b1c3                    4195   \n",
       "4  51a04a8a6bdcb23deccc82b0b80742cf                   12914   \n",
       "\n",
       "         seller_city seller_state  \n",
       "0           campinas           SP  \n",
       "1         mogi guacu           SP  \n",
       "2     rio de janeiro           RJ  \n",
       "3          sao paulo           SP  \n",
       "4  braganca paulista           SP  "
      ]
     },
     "execution_count": 22,
     "metadata": {},
     "output_type": "execute_result"
    }
   ],
   "source": [
    "sellers.head()"
   ]
  },
  {
   "cell_type": "code",
   "execution_count": 23,
   "metadata": {},
   "outputs": [
    {
     "name": "stdout",
     "output_type": "stream",
     "text": [
      "<class 'pandas.core.frame.DataFrame'>\n",
      "RangeIndex: 3095 entries, 0 to 3094\n",
      "Data columns (total 4 columns):\n",
      " #   Column                  Non-Null Count  Dtype \n",
      "---  ------                  --------------  ----- \n",
      " 0   seller_id               3095 non-null   object\n",
      " 1   seller_zip_code_prefix  3095 non-null   int64 \n",
      " 2   seller_city             3095 non-null   object\n",
      " 3   seller_state            3095 non-null   object\n",
      "dtypes: int64(1), object(3)\n",
      "memory usage: 96.8+ KB\n"
     ]
    }
   ],
   "source": [
    "sellers.info()"
   ]
  },
  {
   "cell_type": "markdown",
   "metadata": {},
   "source": [
    "#### Customers Dataset\n",
    "This dataset has information about the customer and its location. Use it to identify unique customers in the orders dataset and to find the orders delivery location.\n",
    "\n",
    "At our system each order is assigned to a unique customerid. This means that the same customer will get different ids for different orders. The purpose of having a customerunique_id on the dataset is to allow you to identify customers that made repurchases at the store. Otherwise you would find that each order had a different customer associated with."
   ]
  },
  {
   "cell_type": "code",
   "execution_count": 24,
   "metadata": {},
   "outputs": [
    {
     "data": {
      "text/html": [
       "<div>\n",
       "<style scoped>\n",
       "    .dataframe tbody tr th:only-of-type {\n",
       "        vertical-align: middle;\n",
       "    }\n",
       "\n",
       "    .dataframe tbody tr th {\n",
       "        vertical-align: top;\n",
       "    }\n",
       "\n",
       "    .dataframe thead th {\n",
       "        text-align: right;\n",
       "    }\n",
       "</style>\n",
       "<table border=\"1\" class=\"dataframe\">\n",
       "  <thead>\n",
       "    <tr style=\"text-align: right;\">\n",
       "      <th></th>\n",
       "      <th>customer_id</th>\n",
       "      <th>customer_unique_id</th>\n",
       "      <th>customer_zip_code_prefix</th>\n",
       "      <th>customer_city</th>\n",
       "      <th>customer_state</th>\n",
       "    </tr>\n",
       "  </thead>\n",
       "  <tbody>\n",
       "    <tr>\n",
       "      <th>0</th>\n",
       "      <td>06b8999e2fba1a1fbc88172c00ba8bc7</td>\n",
       "      <td>861eff4711a542e4b93843c6dd7febb0</td>\n",
       "      <td>14409</td>\n",
       "      <td>franca</td>\n",
       "      <td>SP</td>\n",
       "    </tr>\n",
       "    <tr>\n",
       "      <th>1</th>\n",
       "      <td>18955e83d337fd6b2def6b18a428ac77</td>\n",
       "      <td>290c77bc529b7ac935b93aa66c333dc3</td>\n",
       "      <td>9790</td>\n",
       "      <td>sao bernardo do campo</td>\n",
       "      <td>SP</td>\n",
       "    </tr>\n",
       "    <tr>\n",
       "      <th>2</th>\n",
       "      <td>4e7b3e00288586ebd08712fdd0374a03</td>\n",
       "      <td>060e732b5b29e8181a18229c7b0b2b5e</td>\n",
       "      <td>1151</td>\n",
       "      <td>sao paulo</td>\n",
       "      <td>SP</td>\n",
       "    </tr>\n",
       "    <tr>\n",
       "      <th>3</th>\n",
       "      <td>b2b6027bc5c5109e529d4dc6358b12c3</td>\n",
       "      <td>259dac757896d24d7702b9acbbff3f3c</td>\n",
       "      <td>8775</td>\n",
       "      <td>mogi das cruzes</td>\n",
       "      <td>SP</td>\n",
       "    </tr>\n",
       "    <tr>\n",
       "      <th>4</th>\n",
       "      <td>4f2d8ab171c80ec8364f7c12e35b23ad</td>\n",
       "      <td>345ecd01c38d18a9036ed96c73b8d066</td>\n",
       "      <td>13056</td>\n",
       "      <td>campinas</td>\n",
       "      <td>SP</td>\n",
       "    </tr>\n",
       "  </tbody>\n",
       "</table>\n",
       "</div>"
      ],
      "text/plain": [
       "                        customer_id                customer_unique_id  \\\n",
       "0  06b8999e2fba1a1fbc88172c00ba8bc7  861eff4711a542e4b93843c6dd7febb0   \n",
       "1  18955e83d337fd6b2def6b18a428ac77  290c77bc529b7ac935b93aa66c333dc3   \n",
       "2  4e7b3e00288586ebd08712fdd0374a03  060e732b5b29e8181a18229c7b0b2b5e   \n",
       "3  b2b6027bc5c5109e529d4dc6358b12c3  259dac757896d24d7702b9acbbff3f3c   \n",
       "4  4f2d8ab171c80ec8364f7c12e35b23ad  345ecd01c38d18a9036ed96c73b8d066   \n",
       "\n",
       "   customer_zip_code_prefix          customer_city customer_state  \n",
       "0                     14409                 franca             SP  \n",
       "1                      9790  sao bernardo do campo             SP  \n",
       "2                      1151              sao paulo             SP  \n",
       "3                      8775        mogi das cruzes             SP  \n",
       "4                     13056               campinas             SP  "
      ]
     },
     "execution_count": 24,
     "metadata": {},
     "output_type": "execute_result"
    }
   ],
   "source": [
    "customers.head()"
   ]
  },
  {
   "cell_type": "code",
   "execution_count": 25,
   "metadata": {},
   "outputs": [
    {
     "name": "stdout",
     "output_type": "stream",
     "text": [
      "<class 'pandas.core.frame.DataFrame'>\n",
      "RangeIndex: 99441 entries, 0 to 99440\n",
      "Data columns (total 5 columns):\n",
      " #   Column                    Non-Null Count  Dtype \n",
      "---  ------                    --------------  ----- \n",
      " 0   customer_id               99441 non-null  object\n",
      " 1   customer_unique_id        99441 non-null  object\n",
      " 2   customer_zip_code_prefix  99441 non-null  int64 \n",
      " 3   customer_city             99441 non-null  object\n",
      " 4   customer_state            99441 non-null  object\n",
      "dtypes: int64(1), object(4)\n",
      "memory usage: 3.8+ MB\n"
     ]
    }
   ],
   "source": [
    "customers.info()"
   ]
  },
  {
   "cell_type": "markdown",
   "metadata": {},
   "source": [
    "#### Order Items Dataset\n",
    "This dataset includes data about the items purchased within each order."
   ]
  },
  {
   "cell_type": "code",
   "execution_count": 26,
   "metadata": {},
   "outputs": [],
   "source": [
    "timestamp_to_datetime(order_items, ['shipping_limit_date'])"
   ]
  },
  {
   "cell_type": "code",
   "execution_count": 27,
   "metadata": {},
   "outputs": [
    {
     "data": {
      "text/html": [
       "<div>\n",
       "<style scoped>\n",
       "    .dataframe tbody tr th:only-of-type {\n",
       "        vertical-align: middle;\n",
       "    }\n",
       "\n",
       "    .dataframe tbody tr th {\n",
       "        vertical-align: top;\n",
       "    }\n",
       "\n",
       "    .dataframe thead th {\n",
       "        text-align: right;\n",
       "    }\n",
       "</style>\n",
       "<table border=\"1\" class=\"dataframe\">\n",
       "  <thead>\n",
       "    <tr style=\"text-align: right;\">\n",
       "      <th></th>\n",
       "      <th>order_id</th>\n",
       "      <th>order_item_id</th>\n",
       "      <th>product_id</th>\n",
       "      <th>seller_id</th>\n",
       "      <th>shipping_limit_date</th>\n",
       "      <th>price</th>\n",
       "      <th>freight_value</th>\n",
       "    </tr>\n",
       "  </thead>\n",
       "  <tbody>\n",
       "    <tr>\n",
       "      <th>0</th>\n",
       "      <td>00010242fe8c5a6d1ba2dd792cb16214</td>\n",
       "      <td>1</td>\n",
       "      <td>4244733e06e7ecb4970a6e2683c13e61</td>\n",
       "      <td>48436dade18ac8b2bce089ec2a041202</td>\n",
       "      <td>2017-09-19 09:45:35</td>\n",
       "      <td>58.90</td>\n",
       "      <td>13.29</td>\n",
       "    </tr>\n",
       "    <tr>\n",
       "      <th>1</th>\n",
       "      <td>00018f77f2f0320c557190d7a144bdd3</td>\n",
       "      <td>1</td>\n",
       "      <td>e5f2d52b802189ee658865ca93d83a8f</td>\n",
       "      <td>dd7ddc04e1b6c2c614352b383efe2d36</td>\n",
       "      <td>2017-05-03 11:05:13</td>\n",
       "      <td>239.90</td>\n",
       "      <td>19.93</td>\n",
       "    </tr>\n",
       "    <tr>\n",
       "      <th>2</th>\n",
       "      <td>000229ec398224ef6ca0657da4fc703e</td>\n",
       "      <td>1</td>\n",
       "      <td>c777355d18b72b67abbeef9df44fd0fd</td>\n",
       "      <td>5b51032eddd242adc84c38acab88f23d</td>\n",
       "      <td>2018-01-18 14:48:30</td>\n",
       "      <td>199.00</td>\n",
       "      <td>17.87</td>\n",
       "    </tr>\n",
       "    <tr>\n",
       "      <th>3</th>\n",
       "      <td>00024acbcdf0a6daa1e931b038114c75</td>\n",
       "      <td>1</td>\n",
       "      <td>7634da152a4610f1595efa32f14722fc</td>\n",
       "      <td>9d7a1d34a5052409006425275ba1c2b4</td>\n",
       "      <td>2018-08-15 10:10:18</td>\n",
       "      <td>12.99</td>\n",
       "      <td>12.79</td>\n",
       "    </tr>\n",
       "    <tr>\n",
       "      <th>4</th>\n",
       "      <td>00042b26cf59d7ce69dfabb4e55b4fd9</td>\n",
       "      <td>1</td>\n",
       "      <td>ac6c3623068f30de03045865e4e10089</td>\n",
       "      <td>df560393f3a51e74553ab94004ba5c87</td>\n",
       "      <td>2017-02-13 13:57:51</td>\n",
       "      <td>199.90</td>\n",
       "      <td>18.14</td>\n",
       "    </tr>\n",
       "  </tbody>\n",
       "</table>\n",
       "</div>"
      ],
      "text/plain": [
       "                           order_id  order_item_id  \\\n",
       "0  00010242fe8c5a6d1ba2dd792cb16214              1   \n",
       "1  00018f77f2f0320c557190d7a144bdd3              1   \n",
       "2  000229ec398224ef6ca0657da4fc703e              1   \n",
       "3  00024acbcdf0a6daa1e931b038114c75              1   \n",
       "4  00042b26cf59d7ce69dfabb4e55b4fd9              1   \n",
       "\n",
       "                         product_id                         seller_id  \\\n",
       "0  4244733e06e7ecb4970a6e2683c13e61  48436dade18ac8b2bce089ec2a041202   \n",
       "1  e5f2d52b802189ee658865ca93d83a8f  dd7ddc04e1b6c2c614352b383efe2d36   \n",
       "2  c777355d18b72b67abbeef9df44fd0fd  5b51032eddd242adc84c38acab88f23d   \n",
       "3  7634da152a4610f1595efa32f14722fc  9d7a1d34a5052409006425275ba1c2b4   \n",
       "4  ac6c3623068f30de03045865e4e10089  df560393f3a51e74553ab94004ba5c87   \n",
       "\n",
       "  shipping_limit_date   price  freight_value  \n",
       "0 2017-09-19 09:45:35   58.90          13.29  \n",
       "1 2017-05-03 11:05:13  239.90          19.93  \n",
       "2 2018-01-18 14:48:30  199.00          17.87  \n",
       "3 2018-08-15 10:10:18   12.99          12.79  \n",
       "4 2017-02-13 13:57:51  199.90          18.14  "
      ]
     },
     "execution_count": 27,
     "metadata": {},
     "output_type": "execute_result"
    }
   ],
   "source": [
    "order_items.head()"
   ]
  },
  {
   "cell_type": "code",
   "execution_count": 28,
   "metadata": {},
   "outputs": [
    {
     "name": "stdout",
     "output_type": "stream",
     "text": [
      "<class 'pandas.core.frame.DataFrame'>\n",
      "RangeIndex: 112650 entries, 0 to 112649\n",
      "Data columns (total 7 columns):\n",
      " #   Column               Non-Null Count   Dtype         \n",
      "---  ------               --------------   -----         \n",
      " 0   order_id             112650 non-null  object        \n",
      " 1   order_item_id        112650 non-null  int64         \n",
      " 2   product_id           112650 non-null  object        \n",
      " 3   seller_id            112650 non-null  object        \n",
      " 4   shipping_limit_date  112650 non-null  datetime64[ns]\n",
      " 5   price                112650 non-null  float64       \n",
      " 6   freight_value        112650 non-null  float64       \n",
      "dtypes: datetime64[ns](1), float64(2), int64(1), object(3)\n",
      "memory usage: 6.0+ MB\n"
     ]
    }
   ],
   "source": [
    "order_items.info()"
   ]
  },
  {
   "cell_type": "markdown",
   "metadata": {},
   "source": [
    "#### Geolocation Dataset\n",
    "This dataset has information Brazilian zip codes and its lat/lng coordinates. Use it to plot maps and find distances between sellers and customers."
   ]
  },
  {
   "cell_type": "code",
   "execution_count": 29,
   "metadata": {
    "scrolled": true
   },
   "outputs": [
    {
     "name": "stdout",
     "output_type": "stream",
     "text": [
      "<class 'pandas.core.frame.DataFrame'>\n",
      "RangeIndex: 1000163 entries, 0 to 1000162\n",
      "Data columns (total 5 columns):\n",
      " #   Column                       Non-Null Count    Dtype  \n",
      "---  ------                       --------------    -----  \n",
      " 0   geolocation_zip_code_prefix  1000163 non-null  int64  \n",
      " 1   geolocation_lat              1000163 non-null  float64\n",
      " 2   geolocation_lng              1000163 non-null  float64\n",
      " 3   geolocation_city             1000163 non-null  object \n",
      " 4   geolocation_state            1000163 non-null  object \n",
      "dtypes: float64(2), int64(1), object(2)\n",
      "memory usage: 38.2+ MB\n"
     ]
    }
   ],
   "source": [
    "location.info()"
   ]
  },
  {
   "cell_type": "code",
   "execution_count": 30,
   "metadata": {},
   "outputs": [
    {
     "data": {
      "text/html": [
       "<div>\n",
       "<style scoped>\n",
       "    .dataframe tbody tr th:only-of-type {\n",
       "        vertical-align: middle;\n",
       "    }\n",
       "\n",
       "    .dataframe tbody tr th {\n",
       "        vertical-align: top;\n",
       "    }\n",
       "\n",
       "    .dataframe thead th {\n",
       "        text-align: right;\n",
       "    }\n",
       "</style>\n",
       "<table border=\"1\" class=\"dataframe\">\n",
       "  <thead>\n",
       "    <tr style=\"text-align: right;\">\n",
       "      <th></th>\n",
       "      <th>geolocation_zip_code_prefix</th>\n",
       "      <th>geolocation_lat</th>\n",
       "      <th>geolocation_lng</th>\n",
       "      <th>geolocation_city</th>\n",
       "      <th>geolocation_state</th>\n",
       "    </tr>\n",
       "  </thead>\n",
       "  <tbody>\n",
       "    <tr>\n",
       "      <th>0</th>\n",
       "      <td>1037</td>\n",
       "      <td>-23.545621</td>\n",
       "      <td>-46.639292</td>\n",
       "      <td>sao paulo</td>\n",
       "      <td>SP</td>\n",
       "    </tr>\n",
       "    <tr>\n",
       "      <th>1</th>\n",
       "      <td>1046</td>\n",
       "      <td>-23.546081</td>\n",
       "      <td>-46.644820</td>\n",
       "      <td>sao paulo</td>\n",
       "      <td>SP</td>\n",
       "    </tr>\n",
       "    <tr>\n",
       "      <th>2</th>\n",
       "      <td>1046</td>\n",
       "      <td>-23.546129</td>\n",
       "      <td>-46.642951</td>\n",
       "      <td>sao paulo</td>\n",
       "      <td>SP</td>\n",
       "    </tr>\n",
       "    <tr>\n",
       "      <th>3</th>\n",
       "      <td>1041</td>\n",
       "      <td>-23.544392</td>\n",
       "      <td>-46.639499</td>\n",
       "      <td>sao paulo</td>\n",
       "      <td>SP</td>\n",
       "    </tr>\n",
       "    <tr>\n",
       "      <th>4</th>\n",
       "      <td>1035</td>\n",
       "      <td>-23.541578</td>\n",
       "      <td>-46.641607</td>\n",
       "      <td>sao paulo</td>\n",
       "      <td>SP</td>\n",
       "    </tr>\n",
       "  </tbody>\n",
       "</table>\n",
       "</div>"
      ],
      "text/plain": [
       "   geolocation_zip_code_prefix  geolocation_lat  geolocation_lng  \\\n",
       "0                         1037       -23.545621       -46.639292   \n",
       "1                         1046       -23.546081       -46.644820   \n",
       "2                         1046       -23.546129       -46.642951   \n",
       "3                         1041       -23.544392       -46.639499   \n",
       "4                         1035       -23.541578       -46.641607   \n",
       "\n",
       "  geolocation_city geolocation_state  \n",
       "0        sao paulo                SP  \n",
       "1        sao paulo                SP  \n",
       "2        sao paulo                SP  \n",
       "3        sao paulo                SP  \n",
       "4        sao paulo                SP  "
      ]
     },
     "execution_count": 30,
     "metadata": {},
     "output_type": "execute_result"
    }
   ],
   "source": [
    "location.head()"
   ]
  },
  {
   "cell_type": "code",
   "execution_count": 31,
   "metadata": {},
   "outputs": [
    {
     "data": {
      "text/plain": [
       "19015"
      ]
     },
     "execution_count": 31,
     "metadata": {},
     "output_type": "execute_result"
    }
   ],
   "source": [
    "location.geolocation_zip_code_prefix.nunique()"
   ]
  },
  {
   "cell_type": "markdown",
   "metadata": {},
   "source": [
    "> location data seems to have many duplicates with miniscule lat and lng variations between each. Keeping only the first of each zip code will help avoid merge issues later on."
   ]
  },
  {
   "cell_type": "code",
   "execution_count": 32,
   "metadata": {},
   "outputs": [],
   "source": [
    "location.drop_duplicates(subset = ['geolocation_zip_code_prefix','geolocation_city','geolocation_state'], keep = 'first', inplace = True)"
   ]
  },
  {
   "cell_type": "code",
   "execution_count": 33,
   "metadata": {},
   "outputs": [
    {
     "name": "stdout",
     "output_type": "stream",
     "text": [
      "<class 'pandas.core.frame.DataFrame'>\n",
      "Int64Index: 27912 entries, 0 to 1000046\n",
      "Data columns (total 5 columns):\n",
      " #   Column                       Non-Null Count  Dtype  \n",
      "---  ------                       --------------  -----  \n",
      " 0   geolocation_zip_code_prefix  27912 non-null  int64  \n",
      " 1   geolocation_lat              27912 non-null  float64\n",
      " 2   geolocation_lng              27912 non-null  float64\n",
      " 3   geolocation_city             27912 non-null  object \n",
      " 4   geolocation_state            27912 non-null  object \n",
      "dtypes: float64(2), int64(1), object(2)\n",
      "memory usage: 1.3+ MB\n"
     ]
    }
   ],
   "source": [
    "location.info()"
   ]
  },
  {
   "cell_type": "markdown",
   "metadata": {},
   "source": [
    "#### Payments Dataset\n",
    "This dataset includes data about the orders payment options."
   ]
  },
  {
   "cell_type": "code",
   "execution_count": 34,
   "metadata": {
    "scrolled": true
   },
   "outputs": [
    {
     "name": "stdout",
     "output_type": "stream",
     "text": [
      "<class 'pandas.core.frame.DataFrame'>\n",
      "RangeIndex: 103886 entries, 0 to 103885\n",
      "Data columns (total 5 columns):\n",
      " #   Column                Non-Null Count   Dtype  \n",
      "---  ------                --------------   -----  \n",
      " 0   order_id              103886 non-null  object \n",
      " 1   payment_sequential    103886 non-null  int64  \n",
      " 2   payment_type          103886 non-null  object \n",
      " 3   payment_installments  103886 non-null  int64  \n",
      " 4   payment_value         103886 non-null  float64\n",
      "dtypes: float64(1), int64(2), object(2)\n",
      "memory usage: 4.0+ MB\n"
     ]
    }
   ],
   "source": [
    "payments.info()"
   ]
  },
  {
   "cell_type": "code",
   "execution_count": 35,
   "metadata": {},
   "outputs": [
    {
     "data": {
      "text/html": [
       "<div>\n",
       "<style scoped>\n",
       "    .dataframe tbody tr th:only-of-type {\n",
       "        vertical-align: middle;\n",
       "    }\n",
       "\n",
       "    .dataframe tbody tr th {\n",
       "        vertical-align: top;\n",
       "    }\n",
       "\n",
       "    .dataframe thead th {\n",
       "        text-align: right;\n",
       "    }\n",
       "</style>\n",
       "<table border=\"1\" class=\"dataframe\">\n",
       "  <thead>\n",
       "    <tr style=\"text-align: right;\">\n",
       "      <th></th>\n",
       "      <th>order_id</th>\n",
       "      <th>payment_sequential</th>\n",
       "      <th>payment_type</th>\n",
       "      <th>payment_installments</th>\n",
       "      <th>payment_value</th>\n",
       "    </tr>\n",
       "  </thead>\n",
       "  <tbody>\n",
       "    <tr>\n",
       "      <th>0</th>\n",
       "      <td>b81ef226f3fe1789b1e8b2acac839d17</td>\n",
       "      <td>1</td>\n",
       "      <td>credit_card</td>\n",
       "      <td>8</td>\n",
       "      <td>99.33</td>\n",
       "    </tr>\n",
       "    <tr>\n",
       "      <th>1</th>\n",
       "      <td>a9810da82917af2d9aefd1278f1dcfa0</td>\n",
       "      <td>1</td>\n",
       "      <td>credit_card</td>\n",
       "      <td>1</td>\n",
       "      <td>24.39</td>\n",
       "    </tr>\n",
       "    <tr>\n",
       "      <th>2</th>\n",
       "      <td>25e8ea4e93396b6fa0d3dd708e76c1bd</td>\n",
       "      <td>1</td>\n",
       "      <td>credit_card</td>\n",
       "      <td>1</td>\n",
       "      <td>65.71</td>\n",
       "    </tr>\n",
       "    <tr>\n",
       "      <th>3</th>\n",
       "      <td>ba78997921bbcdc1373bb41e913ab953</td>\n",
       "      <td>1</td>\n",
       "      <td>credit_card</td>\n",
       "      <td>8</td>\n",
       "      <td>107.78</td>\n",
       "    </tr>\n",
       "    <tr>\n",
       "      <th>4</th>\n",
       "      <td>42fdf880ba16b47b59251dd489d4441a</td>\n",
       "      <td>1</td>\n",
       "      <td>credit_card</td>\n",
       "      <td>2</td>\n",
       "      <td>128.45</td>\n",
       "    </tr>\n",
       "  </tbody>\n",
       "</table>\n",
       "</div>"
      ],
      "text/plain": [
       "                           order_id  payment_sequential payment_type  \\\n",
       "0  b81ef226f3fe1789b1e8b2acac839d17                   1  credit_card   \n",
       "1  a9810da82917af2d9aefd1278f1dcfa0                   1  credit_card   \n",
       "2  25e8ea4e93396b6fa0d3dd708e76c1bd                   1  credit_card   \n",
       "3  ba78997921bbcdc1373bb41e913ab953                   1  credit_card   \n",
       "4  42fdf880ba16b47b59251dd489d4441a                   1  credit_card   \n",
       "\n",
       "   payment_installments  payment_value  \n",
       "0                     8          99.33  \n",
       "1                     1          24.39  \n",
       "2                     1          65.71  \n",
       "3                     8         107.78  \n",
       "4                     2         128.45  "
      ]
     },
     "execution_count": 35,
     "metadata": {},
     "output_type": "execute_result"
    }
   ],
   "source": [
    "payments.head()"
   ]
  },
  {
   "cell_type": "markdown",
   "metadata": {},
   "source": [
    "### Combine data into 2 dataframes\n",
    "\n",
    "In order to analyze customer ratings and seller influences, we will combine the data into dataframes related to their respective content. For exploratory analysis we will create dataframes for users and sellers seperately, analyzing product ratings, price, revenue and sales. This will give us some insights into what aspects of user and product information that play the strongest part in predicting user habits. "
   ]
  },
  {
   "cell_type": "code",
   "execution_count": 36,
   "metadata": {},
   "outputs": [],
   "source": [
    "def merge_multiple_df_on_key(dfs, key):\n",
    "    '''create dataframe with customer info including their location, order details and review'''\n",
    "    \n",
    "    from functools import reduce\n",
    "    \n",
    "    # stolen from https://stackoverflow.com/questions/23668427/pandas-three-way-joining-multiple-dataframes-on-columns)\n",
    "    new_df = reduce(lambda left,right: pd.merge(left,right, how = 'inner', on=key), dfs)\n",
    "    \n",
    "    return new_df"
   ]
  },
  {
   "cell_type": "code",
   "execution_count": 37,
   "metadata": {},
   "outputs": [
    {
     "data": {
      "text/plain": [
       "Index(['order_id', 'customer_id', 'order_status', 'order_purchase_timestamp',\n",
       "       'order_approved_at', 'order_delivered_carrier_date',\n",
       "       'order_delivered_customer_date', 'order_estimated_delivery_date'],\n",
       "      dtype='object')"
      ]
     },
     "execution_count": 37,
     "metadata": {},
     "output_type": "execute_result"
    }
   ],
   "source": [
    "orders.columns"
   ]
  },
  {
   "cell_type": "code",
   "execution_count": 38,
   "metadata": {},
   "outputs": [],
   "source": [
    "# dfs to merge with order_id column\n",
    "dfs = [orders, order_items, reviews]\n",
    "# merge on key\n",
    "customer_purchases = merge_multiple_df_on_key(dfs, key = 'order_id')"
   ]
  },
  {
   "cell_type": "code",
   "execution_count": 39,
   "metadata": {},
   "outputs": [],
   "source": [
    "def drop_duplicates_ignore_cols(df, cols_to_ignore, keep = 'first'):\n",
    "    '''drop duplicates but ignore certain columns'''\n",
    "    df.drop_duplicates(keep = keep, \\\n",
    "                       subset=df.columns.difference(cols_to_ignore), \\\n",
    "                       inplace=True)"
   ]
  },
  {
   "cell_type": "code",
   "execution_count": 40,
   "metadata": {},
   "outputs": [],
   "source": [
    "# drop duplicate rows based on all columns except these\n",
    "cols_to_ignore = ['review_id', 'review_answer_timestamp', 'review_creation_date']\n",
    "\n",
    "# call function\n",
    "drop_duplicates_ignore_cols(customer_purchases, cols_to_ignore)"
   ]
  },
  {
   "cell_type": "code",
   "execution_count": 41,
   "metadata": {},
   "outputs": [
    {
     "name": "stderr",
     "output_type": "stream",
     "text": [
      "/tmp/ipykernel_501/412293989.py:4: FutureWarning:\n",
      "\n",
      "In a future version of pandas all arguments of DataFrame.drop except for the argument 'labels' will be keyword-only.\n",
      "\n"
     ]
    }
   ],
   "source": [
    "# drop order delivery details, this will go into the seller_info df\n",
    "cols_to_drop = orders.columns.difference(['order_id', 'customer_id', 'order_purchase_timestamp', \\\n",
    "                                          'order_delivered_customer_date', 'order_estimated_delivery_date'])\n",
    "customer_purchases.drop(cols_to_drop, 1, inplace=True)"
   ]
  },
  {
   "cell_type": "code",
   "execution_count": 42,
   "metadata": {},
   "outputs": [
    {
     "name": "stderr",
     "output_type": "stream",
     "text": [
      "/tmp/ipykernel_501/470716742.py:5: FutureWarning:\n",
      "\n",
      "In a future version of pandas all arguments of DataFrame.drop except for the argument 'labels' will be keyword-only.\n",
      "\n"
     ]
    }
   ],
   "source": [
    "# set cols to drop after merging with location and customers\n",
    "cols_to_drop = ['geolocation_zip_code_prefix', 'geolocation_city', 'geolocation_state']\n",
    "    \n",
    "# merge with customers and location\n",
    "customer_info = pd.merge(pd.merge(customer_purchases, customers, on = 'customer_id'), location, \\\n",
    "                             left_on =['customer_zip_code_prefix', 'customer_city', 'customer_state'], \\\n",
    "                             right_on = ['geolocation_zip_code_prefix', 'geolocation_city', 'geolocation_state']).drop(cols_to_drop, 1).reset_index(drop=True)"
   ]
  },
  {
   "cell_type": "code",
   "execution_count": 43,
   "metadata": {},
   "outputs": [],
   "source": [
    "# need to merge product info to pull the product_category_name\n",
    "customer_info = customer_info.merge(products, on = 'product_id')"
   ]
  },
  {
   "cell_type": "code",
   "execution_count": 44,
   "metadata": {},
   "outputs": [],
   "source": [
    "# merge all dfs associated with seller\n",
    "seller_info = pd.merge(pd.merge(pd.merge(pd.merge(order_items, \\\n",
    "                        sellers, on = 'seller_id'), \\\n",
    "                        products, on = 'product_id'), \\\n",
    "                        reviews, on = 'order_id'), \\\n",
    "                        location, how = 'inner', \\\n",
    "                                  left_on =['seller_zip_code_prefix', 'seller_city', 'seller_state'], \\\n",
    "                                  right_on = ['geolocation_zip_code_prefix', 'geolocation_city', 'geolocation_state'])"
   ]
  },
  {
   "cell_type": "code",
   "execution_count": 45,
   "metadata": {},
   "outputs": [
    {
     "name": "stderr",
     "output_type": "stream",
     "text": [
      "/tmp/ipykernel_501/3912182199.py:3: FutureWarning:\n",
      "\n",
      "In a future version of pandas all arguments of DataFrame.drop except for the argument 'labels' will be keyword-only.\n",
      "\n"
     ]
    }
   ],
   "source": [
    "# drop redundant and unnecessary columns\n",
    "cols_to_drop = ['geolocation_zip_code_prefix', 'geolocation_city', 'geolocation_state', 'freight_value']\n",
    "seller_info.drop(cols_to_drop, 1, inplace=True)\n",
    "seller_info.reset_index(drop=True, inplace=True)"
   ]
  },
  {
   "cell_type": "code",
   "execution_count": 46,
   "metadata": {},
   "outputs": [],
   "source": [
    "cols_to_ignore = ['review_id', 'review_answer_timestamp', 'review_creation_date']\n",
    "drop_duplicates_ignore_cols(seller_info, cols_to_ignore)"
   ]
  },
  {
   "cell_type": "code",
   "execution_count": 47,
   "metadata": {},
   "outputs": [
    {
     "data": {
      "text/html": [
       "<div>\n",
       "<style scoped>\n",
       "    .dataframe tbody tr th:only-of-type {\n",
       "        vertical-align: middle;\n",
       "    }\n",
       "\n",
       "    .dataframe tbody tr th {\n",
       "        vertical-align: top;\n",
       "    }\n",
       "\n",
       "    .dataframe thead th {\n",
       "        text-align: right;\n",
       "    }\n",
       "</style>\n",
       "<table border=\"1\" class=\"dataframe\">\n",
       "  <thead>\n",
       "    <tr style=\"text-align: right;\">\n",
       "      <th></th>\n",
       "      <th>order_id</th>\n",
       "      <th>order_item_id</th>\n",
       "      <th>product_id</th>\n",
       "      <th>seller_id</th>\n",
       "      <th>shipping_limit_date</th>\n",
       "      <th>price</th>\n",
       "      <th>seller_zip_code_prefix</th>\n",
       "      <th>seller_city</th>\n",
       "      <th>seller_state</th>\n",
       "      <th>product_category_name</th>\n",
       "      <th>...</th>\n",
       "      <th>product_height_cm</th>\n",
       "      <th>product_width_cm</th>\n",
       "      <th>review_id</th>\n",
       "      <th>review_score</th>\n",
       "      <th>review_comment_title</th>\n",
       "      <th>review_comment_message</th>\n",
       "      <th>review_creation_date</th>\n",
       "      <th>review_answer_timestamp</th>\n",
       "      <th>geolocation_lat</th>\n",
       "      <th>geolocation_lng</th>\n",
       "    </tr>\n",
       "  </thead>\n",
       "  <tbody>\n",
       "    <tr>\n",
       "      <th>0</th>\n",
       "      <td>0035c0b07126fe9c24a325216fb96064</td>\n",
       "      <td>1</td>\n",
       "      <td>ec02a5d380128f7a188e9ce8f3ddd832</td>\n",
       "      <td>8444e55c1f13cd5c179851e5ca5ebd00</td>\n",
       "      <td>2017-12-12 01:29:45</td>\n",
       "      <td>131.9</td>\n",
       "      <td>37584</td>\n",
       "      <td>congonhal</td>\n",
       "      <td>MG</td>\n",
       "      <td>cool_stuff</td>\n",
       "      <td>...</td>\n",
       "      <td>25.0</td>\n",
       "      <td>18.0</td>\n",
       "      <td>3f9a735e3351a7b5159a4d1691a0b9b2</td>\n",
       "      <td>4</td>\n",
       "      <td>no title</td>\n",
       "      <td>no comment given</td>\n",
       "      <td>2017-12-08</td>\n",
       "      <td>2017-12-09 02:28:07</td>\n",
       "      <td>-22.159376</td>\n",
       "      <td>-46.044027</td>\n",
       "    </tr>\n",
       "    <tr>\n",
       "      <th>1</th>\n",
       "      <td>20d07181f8cec8c3fa51212c7dd926ea</td>\n",
       "      <td>1</td>\n",
       "      <td>ec02a5d380128f7a188e9ce8f3ddd832</td>\n",
       "      <td>8444e55c1f13cd5c179851e5ca5ebd00</td>\n",
       "      <td>2017-12-29 16:39:19</td>\n",
       "      <td>131.9</td>\n",
       "      <td>37584</td>\n",
       "      <td>congonhal</td>\n",
       "      <td>MG</td>\n",
       "      <td>cool_stuff</td>\n",
       "      <td>...</td>\n",
       "      <td>25.0</td>\n",
       "      <td>18.0</td>\n",
       "      <td>2e3fc526dc85286818fed5dbe4b434f6</td>\n",
       "      <td>5</td>\n",
       "      <td>no title</td>\n",
       "      <td>no comment given</td>\n",
       "      <td>2017-12-30</td>\n",
       "      <td>2018-01-03 00:23:17</td>\n",
       "      <td>-22.159376</td>\n",
       "      <td>-46.044027</td>\n",
       "    </tr>\n",
       "    <tr>\n",
       "      <th>2</th>\n",
       "      <td>38a920f4e80a3be96ecbfc0cba4517d6</td>\n",
       "      <td>1</td>\n",
       "      <td>ec02a5d380128f7a188e9ce8f3ddd832</td>\n",
       "      <td>8444e55c1f13cd5c179851e5ca5ebd00</td>\n",
       "      <td>2018-04-18 13:15:23</td>\n",
       "      <td>131.9</td>\n",
       "      <td>37584</td>\n",
       "      <td>congonhal</td>\n",
       "      <td>MG</td>\n",
       "      <td>cool_stuff</td>\n",
       "      <td>...</td>\n",
       "      <td>25.0</td>\n",
       "      <td>18.0</td>\n",
       "      <td>95dbec4d9c36843e048da8c0b7b3228b</td>\n",
       "      <td>4</td>\n",
       "      <td>no title</td>\n",
       "      <td>no comment given</td>\n",
       "      <td>2018-04-17</td>\n",
       "      <td>2018-04-20 03:32:54</td>\n",
       "      <td>-22.159376</td>\n",
       "      <td>-46.044027</td>\n",
       "    </tr>\n",
       "    <tr>\n",
       "      <th>3</th>\n",
       "      <td>bcdbeb106ccaddd04d88f709dad0f169</td>\n",
       "      <td>1</td>\n",
       "      <td>ec02a5d380128f7a188e9ce8f3ddd832</td>\n",
       "      <td>8444e55c1f13cd5c179851e5ca5ebd00</td>\n",
       "      <td>2017-12-26 07:11:01</td>\n",
       "      <td>131.9</td>\n",
       "      <td>37584</td>\n",
       "      <td>congonhal</td>\n",
       "      <td>MG</td>\n",
       "      <td>cool_stuff</td>\n",
       "      <td>...</td>\n",
       "      <td>25.0</td>\n",
       "      <td>18.0</td>\n",
       "      <td>eeb8d7733e46c628362e1d5daabd6f82</td>\n",
       "      <td>5</td>\n",
       "      <td>no title</td>\n",
       "      <td>no comment given</td>\n",
       "      <td>2017-12-29</td>\n",
       "      <td>2017-12-29 20:30:09</td>\n",
       "      <td>-22.159376</td>\n",
       "      <td>-46.044027</td>\n",
       "    </tr>\n",
       "    <tr>\n",
       "      <th>4</th>\n",
       "      <td>be9352379a16b3dbe8ef3a66a85b656f</td>\n",
       "      <td>1</td>\n",
       "      <td>ec02a5d380128f7a188e9ce8f3ddd832</td>\n",
       "      <td>8444e55c1f13cd5c179851e5ca5ebd00</td>\n",
       "      <td>2017-12-21 11:28:12</td>\n",
       "      <td>131.9</td>\n",
       "      <td>37584</td>\n",
       "      <td>congonhal</td>\n",
       "      <td>MG</td>\n",
       "      <td>cool_stuff</td>\n",
       "      <td>...</td>\n",
       "      <td>25.0</td>\n",
       "      <td>18.0</td>\n",
       "      <td>4389b67e9bd50b41652066772bfc5c48</td>\n",
       "      <td>5</td>\n",
       "      <td>no title</td>\n",
       "      <td>muito bom produto entregue antes do esperado,</td>\n",
       "      <td>2017-12-18</td>\n",
       "      <td>2017-12-19 14:23:33</td>\n",
       "      <td>-22.159376</td>\n",
       "      <td>-46.044027</td>\n",
       "    </tr>\n",
       "  </tbody>\n",
       "</table>\n",
       "<p>5 rows × 25 columns</p>\n",
       "</div>"
      ],
      "text/plain": [
       "                           order_id  order_item_id  \\\n",
       "0  0035c0b07126fe9c24a325216fb96064              1   \n",
       "1  20d07181f8cec8c3fa51212c7dd926ea              1   \n",
       "2  38a920f4e80a3be96ecbfc0cba4517d6              1   \n",
       "3  bcdbeb106ccaddd04d88f709dad0f169              1   \n",
       "4  be9352379a16b3dbe8ef3a66a85b656f              1   \n",
       "\n",
       "                         product_id                         seller_id  \\\n",
       "0  ec02a5d380128f7a188e9ce8f3ddd832  8444e55c1f13cd5c179851e5ca5ebd00   \n",
       "1  ec02a5d380128f7a188e9ce8f3ddd832  8444e55c1f13cd5c179851e5ca5ebd00   \n",
       "2  ec02a5d380128f7a188e9ce8f3ddd832  8444e55c1f13cd5c179851e5ca5ebd00   \n",
       "3  ec02a5d380128f7a188e9ce8f3ddd832  8444e55c1f13cd5c179851e5ca5ebd00   \n",
       "4  ec02a5d380128f7a188e9ce8f3ddd832  8444e55c1f13cd5c179851e5ca5ebd00   \n",
       "\n",
       "  shipping_limit_date  price  seller_zip_code_prefix seller_city seller_state  \\\n",
       "0 2017-12-12 01:29:45  131.9                   37584   congonhal           MG   \n",
       "1 2017-12-29 16:39:19  131.9                   37584   congonhal           MG   \n",
       "2 2018-04-18 13:15:23  131.9                   37584   congonhal           MG   \n",
       "3 2017-12-26 07:11:01  131.9                   37584   congonhal           MG   \n",
       "4 2017-12-21 11:28:12  131.9                   37584   congonhal           MG   \n",
       "\n",
       "  product_category_name  ...  product_height_cm  product_width_cm  \\\n",
       "0            cool_stuff  ...               25.0              18.0   \n",
       "1            cool_stuff  ...               25.0              18.0   \n",
       "2            cool_stuff  ...               25.0              18.0   \n",
       "3            cool_stuff  ...               25.0              18.0   \n",
       "4            cool_stuff  ...               25.0              18.0   \n",
       "\n",
       "                          review_id  review_score  review_comment_title  \\\n",
       "0  3f9a735e3351a7b5159a4d1691a0b9b2             4              no title   \n",
       "1  2e3fc526dc85286818fed5dbe4b434f6             5              no title   \n",
       "2  95dbec4d9c36843e048da8c0b7b3228b             4              no title   \n",
       "3  eeb8d7733e46c628362e1d5daabd6f82             5              no title   \n",
       "4  4389b67e9bd50b41652066772bfc5c48             5              no title   \n",
       "\n",
       "                           review_comment_message  review_creation_date  \\\n",
       "0                                no comment given            2017-12-08   \n",
       "1                                no comment given            2017-12-30   \n",
       "2                                no comment given            2018-04-17   \n",
       "3                                no comment given            2017-12-29   \n",
       "4  muito bom produto entregue antes do esperado,             2017-12-18   \n",
       "\n",
       "  review_answer_timestamp  geolocation_lat geolocation_lng  \n",
       "0     2017-12-09 02:28:07       -22.159376      -46.044027  \n",
       "1     2018-01-03 00:23:17       -22.159376      -46.044027  \n",
       "2     2018-04-20 03:32:54       -22.159376      -46.044027  \n",
       "3     2017-12-29 20:30:09       -22.159376      -46.044027  \n",
       "4     2017-12-19 14:23:33       -22.159376      -46.044027  \n",
       "\n",
       "[5 rows x 25 columns]"
      ]
     },
     "execution_count": 47,
     "metadata": {},
     "output_type": "execute_result"
    }
   ],
   "source": [
    "seller_info.head()"
   ]
  },
  {
   "cell_type": "code",
   "execution_count": 48,
   "metadata": {},
   "outputs": [],
   "source": [
    "# set dfs to have common orders between them\n",
    "sellers = seller_info[seller_info.order_id.isin(customer_info.order_id)]\n",
    "customers = customer_info[customer_info.order_id.isin(seller_info.order_id)]"
   ]
  },
  {
   "cell_type": "code",
   "execution_count": 49,
   "metadata": {
    "scrolled": true
   },
   "outputs": [],
   "source": [
    "sellers = sellers.dropna(subset = ['product_category_name']).reset_index(drop=True)\n",
    "customers = customers.dropna(subset=['product_category_name']).reset_index(drop=True)"
   ]
  },
  {
   "cell_type": "code",
   "execution_count": 50,
   "metadata": {},
   "outputs": [],
   "source": [
    "datetime_cols = ['shipping_limit_date', 'review_creation_date', 'review_answer_timestamp']\n",
    "    \n",
    "for col in datetime_cols:\n",
    "    sellers[col] = sellers[col].astype('object')"
   ]
  },
  {
   "cell_type": "code",
   "execution_count": 51,
   "metadata": {},
   "outputs": [],
   "source": [
    "datetime_cols = ['shipping_limit_date', 'review_creation_date', 'review_answer_timestamp', 'order_purchase_timestamp',\\\n",
    "                'order_delivered_customer_date', 'order_estimated_delivery_date']\n",
    "\n",
    "for col in datetime_cols:\n",
    "    customers[col] = customers[col].astype('object')"
   ]
  },
  {
   "cell_type": "code",
   "execution_count": 52,
   "metadata": {},
   "outputs": [],
   "source": [
    "customers.to_csv(r'/project/data/int/customers.csv', index=True)\n",
    "sellers.to_csv(r'/project/data/int/sellers.csv', index=True)"
   ]
  },
  {
   "cell_type": "code",
   "execution_count": null,
   "metadata": {},
   "outputs": [],
   "source": []
  }
 ],
 "metadata": {
  "kernelspec": {
   "display_name": "Python 3 (ipykernel)",
   "language": "python",
   "name": "python3"
  },
  "language_info": {
   "codemirror_mode": {
    "name": "ipython",
    "version": 3
   },
   "file_extension": ".py",
   "mimetype": "text/x-python",
   "name": "python",
   "nbconvert_exporter": "python",
   "pygments_lexer": "ipython3",
   "version": "3.9.12"
  }
 },
 "nbformat": 4,
 "nbformat_minor": 4
}
