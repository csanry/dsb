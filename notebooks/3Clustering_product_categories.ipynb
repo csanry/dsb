{
 "cells": [
  {
   "cell_type": "markdown",
   "metadata": {},
   "source": [
    "## Creating user features using clustering techniques"
   ]
  },
  {
   "cell_type": "markdown",
   "metadata": {},
   "source": [
    "In order to improve our model we want to look for common features among users and cluster them. The technique is meant to build a recommendation system within our current model. If the model is able to discern groupings for customers as a baseline to recommendations we can improve our model significantly. "
   ]
  },
  {
   "cell_type": "code",
   "execution_count": 1,
   "metadata": {},
   "outputs": [],
   "source": [
    "import pandas as pd\n",
    "import numpy as np\n",
    "import matplotlib.pyplot as plt\n",
    "import seaborn as sns\n",
    "sns.set()"
   ]
  },
  {
   "cell_type": "markdown",
   "metadata": {},
   "source": [
    "### Load master dataframe"
   ]
  },
  {
   "cell_type": "code",
   "execution_count": 2,
   "metadata": {},
   "outputs": [],
   "source": [
    "master_df = pd.read_csv('/project/data/int/master_df.csv', index_col=0)"
   ]
  },
  {
   "cell_type": "code",
   "execution_count": 3,
   "metadata": {},
   "outputs": [],
   "source": [
    "master_df = master_df.drop_duplicates(['order_id', 'order_item_id']).dropna().reset_index(drop=True)"
   ]
  },
  {
   "cell_type": "code",
   "execution_count": 4,
   "metadata": {},
   "outputs": [
    {
     "data": {
      "text/plain": [
       "bed_bath_table              10803\n",
       "health_beauty                9375\n",
       "sports_leisure               8359\n",
       "furniture_decor              8057\n",
       "computers_accessories        7586\n",
       "housewares                   6738\n",
       "watches_gifts                5791\n",
       "telephony                    4374\n",
       "garden_tools                 4228\n",
       "auto                         4089\n",
       "toys                         3964\n",
       "cool_stuff                   3643\n",
       "perfumery                    3314\n",
       "baby                         2949\n",
       "electronics                  2617\n",
       "stationery                   2438\n",
       "fashion_bags_accessories     1968\n",
       "pet_shop                     1894\n",
       "office_furniture             1648\n",
       "consoles_games               1075\n",
       "Name: product_category_name, dtype: int64"
      ]
     },
     "execution_count": 4,
     "metadata": {},
     "output_type": "execute_result"
    }
   ],
   "source": [
    "master_df.product_category_name.value_counts()[:20]"
   ]
  },
  {
   "cell_type": "markdown",
   "metadata": {},
   "source": [
    "### Create user product interaction"
   ]
  },
  {
   "cell_type": "code",
   "execution_count": 5,
   "metadata": {},
   "outputs": [],
   "source": [
    "item_features = master_df[['customer_unique_id', 'customer_id','product_id', 'order_id', 'product_category_name', 'order_item_id', 'seller_id', 'review_score', \n",
    "                          'review_comment_message', 'seller_city', 'seller_state', 'price']]"
   ]
  },
  {
   "cell_type": "code",
   "execution_count": 6,
   "metadata": {},
   "outputs": [
    {
     "name": "stderr",
     "output_type": "stream",
     "text": [
      "/tmp/ipykernel_122/4284255273.py:2: SettingWithCopyWarning: \n",
      "A value is trying to be set on a copy of a slice from a DataFrame.\n",
      "Try using .loc[row_indexer,col_indexer] = value instead\n",
      "\n",
      "See the caveats in the documentation: https://pandas.pydata.org/pandas-docs/stable/user_guide/indexing.html#returning-a-view-versus-a-copy\n",
      "  item_features['product_category_count'] = item_features[['product_category_name', 'customer_unique_id', 'order_item_id']]\\\n"
     ]
    }
   ],
   "source": [
    "# Create product_count column for the rating\n",
    "item_features['product_category_count'] = item_features[['product_category_name', 'customer_unique_id', 'order_item_id']]\\\n",
    "                                                            .groupby(['customer_unique_id', 'product_category_name'])['order_item_id']\\\n",
    "                                                            .transform('count')"
   ]
  },
  {
   "cell_type": "code",
   "execution_count": 7,
   "metadata": {},
   "outputs": [],
   "source": [
    "user_to_product_category = item_features[['product_category_name', 'customer_unique_id', 'product_category_count']]\\\n",
    "                                        .sort_values(by='customer_unique_id')\\\n",
    "                                        .reset_index(drop=True)"
   ]
  },
  {
   "cell_type": "code",
   "execution_count": 8,
   "metadata": {},
   "outputs": [],
   "source": [
    "user_to_product_category['product_count'] = 1"
   ]
  },
  {
   "cell_type": "code",
   "execution_count": 9,
   "metadata": {},
   "outputs": [],
   "source": [
    "user_to_product_category = user_to_product_category.drop(['product_category_count'], axis=1)"
   ]
  },
  {
   "cell_type": "code",
   "execution_count": 10,
   "metadata": {},
   "outputs": [],
   "source": [
    "def get_user_list(df, user_column):\n",
    "    \"\"\"\n",
    "    \n",
    "    creating a list of user from dataframe df, user_column is a column \n",
    "    consisting of users in the dataframe df\n",
    "    \n",
    "    \"\"\"\n",
    "    \n",
    "    return np.sort(df[user_column].unique())\n",
    "\n",
    "def get_item_list(df, item_name_column):\n",
    "    \n",
    "    \"\"\"\n",
    "    \n",
    "    creating a list of items from dataframe df, item_column is a column \n",
    "    consisting of items in the dataframe df\n",
    "    \n",
    "    return to item_id_list and item_id2name_mapping\n",
    "    \n",
    "    \"\"\"\n",
    "    \n",
    "    item_list = df[item_name_column].unique()\n",
    "    \n",
    "    \n",
    "    return item_list"
   ]
  },
  {
   "cell_type": "code",
   "execution_count": 11,
   "metadata": {},
   "outputs": [],
   "source": [
    "def id_mappings(user_list, item_list):\n",
    "    \"\"\"\n",
    "    \n",
    "    Create id mappings to convert user_id, item_id, and feature_id\n",
    "    \n",
    "    \"\"\"\n",
    "    user_to_index_mapping = {}\n",
    "    index_to_user_mapping = {}\n",
    "    for user_index, user_id in enumerate(user_list):\n",
    "        user_to_index_mapping[user_id] = user_index\n",
    "        index_to_user_mapping[user_index] = user_id\n",
    "        \n",
    "    item_to_index_mapping = {}\n",
    "    index_to_item_mapping = {}\n",
    "    for item_index, item_id in enumerate(item_list):\n",
    "        item_to_index_mapping[item_id] = item_index\n",
    "        index_to_item_mapping[item_index] = item_id\n",
    "        \n",
    "\n",
    "    return user_to_index_mapping, index_to_user_mapping, \\\n",
    "           item_to_index_mapping, index_to_item_mapping"
   ]
  },
  {
   "cell_type": "code",
   "execution_count": 12,
   "metadata": {},
   "outputs": [],
   "source": [
    "from scipy import sparse\n",
    "def get_interaction_matrix(df, df_column_as_row, df_column_as_col, df_column_as_value, row_indexing_map, \n",
    "                          col_indexing_map):\n",
    "    \n",
    "    row = df[df_column_as_row].apply(lambda x: row_indexing_map[x]).values\n",
    "    col = df[df_column_as_col].apply(lambda x: col_indexing_map[x]).values\n",
    "    value = df[df_column_as_value].values\n",
    "    \n",
    "    return sparse.coo_matrix((value, (row, col)), shape = (len(row_indexing_map), len(col_indexing_map)))"
   ]
  },
  {
   "cell_type": "code",
   "execution_count": 13,
   "metadata": {},
   "outputs": [],
   "source": [
    "user_list = get_user_list(user_to_product_category, 'customer_unique_id')\n",
    "item_list = get_item_list(user_to_product_category, 'product_category_name')"
   ]
  },
  {
   "cell_type": "code",
   "execution_count": 14,
   "metadata": {},
   "outputs": [],
   "source": [
    "user_to_index_mapping, index_to_user_mapping, \\\n",
    "           item_to_index_mapping, index_to_item_mapping = id_mappings(user_list, item_list)"
   ]
  },
  {
   "cell_type": "code",
   "execution_count": 15,
   "metadata": {},
   "outputs": [],
   "source": [
    "user_to_product_category_interaction = get_interaction_matrix(user_to_product_category, \"customer_unique_id\", \n",
    "                                                           \"product_category_name\", \"product_count\", \n",
    "                                                           user_to_index_mapping, item_to_index_mapping)"
   ]
  },
  {
   "cell_type": "code",
   "execution_count": 16,
   "metadata": {},
   "outputs": [],
   "source": [
    "product_category_to_user_interaction = get_interaction_matrix(user_to_product_category, \"product_category_name\", \n",
    "                                                             \"customer_unique_id\", \"product_count\",\n",
    "                                                             item_to_index_mapping, user_to_index_mapping)"
   ]
  },
  {
   "cell_type": "markdown",
   "metadata": {},
   "source": [
    "### User clustering"
   ]
  },
  {
   "cell_type": "markdown",
   "metadata": {},
   "source": [
    "Clustering will be conducted using kmeans which uses distance based algorithms to decide clusters using maximum marginality between edge cases."
   ]
  },
  {
   "cell_type": "code",
   "execution_count": 17,
   "metadata": {},
   "outputs": [],
   "source": [
    "import scipy.sparse\n",
    "\n",
    "table = pd.DataFrame(user_to_product_category_interaction.todense())"
   ]
  },
  {
   "cell_type": "code",
   "execution_count": 18,
   "metadata": {},
   "outputs": [],
   "source": [
    "table1 = pd.DataFrame(product_category_to_user_interaction.todense())"
   ]
  },
  {
   "cell_type": "code",
   "execution_count": 19,
   "metadata": {},
   "outputs": [
    {
     "data": {
      "image/png": "[encoded data removed]",
      "text/plain": [
       "<Figure size 576x360 with 1 Axes>"
      ]
     },
     "metadata": {
      "needs_background": "light"
     },
     "output_type": "display_data"
    }
   ],
   "source": [
    "from sklearn.cluster import KMeans\n",
    "\n",
    "# Create table of values only\n",
    "x_cols = table.values\n",
    "ks = range(2, 20)\n",
    "inertias = []\n",
    "\n",
    "for k in ks:\n",
    "    # create a KMeans instance with k clusters\n",
    "    kmeans = KMeans(n_clusters = k, random_state=3)\n",
    "    # fit model to samples\n",
    "    kmeans.fit(x_cols)\n",
    "    # append the inertia to the list of inertias\n",
    "    inertias.append(kmeans.inertia_)\n",
    "\n",
    "# plot ks vs inertias\n",
    "plt.figure(figsize=(8,5))\n",
    "plt.plot(ks, inertias, '-o')\n",
    "plt.xlabel('number of clusters, k')\n",
    "plt.ylabel('inertia')\n",
    "plt.xticks(ks)\n",
    "plt.show()"
   ]
  },
  {
   "cell_type": "code",
   "execution_count": 20,
   "metadata": {
    "scrolled": true
   },
   "outputs": [
    {
     "data": {
      "image/png": "[encoded data removed]",
      "text/plain": [
       "<Figure size 720x360 with 1 Axes>"
      ]
     },
     "metadata": {
      "needs_background": "light"
     },
     "output_type": "display_data"
    }
   ],
   "source": [
    "from sklearn.cluster import KMeans\n",
    "x_cols = table.values\n",
    "# create a KMeans instance with k clusters\n",
    "model = KMeans(n_clusters = 15, random_state=3)\n",
    "# fit model to samples\n",
    "model.fit(x_cols)\n",
    "# Create labels for data\n",
    "labels = model.predict(x_cols)\n",
    "\n",
    "# create bar chart\n",
    "clusters, npoints = np.unique(labels, return_counts=True)\n",
    "plt.figure(figsize=(10,5))\n",
    "plt.bar(clusters, npoints)\n",
    "plt.xticks(clusters)\n",
    "plt.ylabel('points')\n",
    "plt.xlabel('clusters')\n",
    "plt.show()"
   ]
  },
  {
   "cell_type": "code",
   "execution_count": 21,
   "metadata": {},
   "outputs": [],
   "source": [
    "labels = pd.DataFrame({'cluster_id': labels})"
   ]
  },
  {
   "cell_type": "code",
   "execution_count": 22,
   "metadata": {},
   "outputs": [],
   "source": [
    "table.index.name = 'customer_unique_id'"
   ]
  },
  {
   "cell_type": "code",
   "execution_count": 23,
   "metadata": {},
   "outputs": [],
   "source": [
    "table = table.reset_index()"
   ]
  },
  {
   "cell_type": "code",
   "execution_count": 24,
   "metadata": {},
   "outputs": [],
   "source": [
    "df = pd.concat([table.customer_unique_id, \\\n",
    "                labels], axis=1, sort=False)"
   ]
  },
  {
   "cell_type": "code",
   "execution_count": 25,
   "metadata": {},
   "outputs": [],
   "source": [
    "df = df.replace({\"customer_unique_id\": index_to_user_mapping})"
   ]
  },
  {
   "cell_type": "code",
   "execution_count": 26,
   "metadata": {},
   "outputs": [
    {
     "data": {
      "text/html": [
       "<div>\n",
       "<style scoped>\n",
       "    .dataframe tbody tr th:only-of-type {\n",
       "        vertical-align: middle;\n",
       "    }\n",
       "\n",
       "    .dataframe tbody tr th {\n",
       "        vertical-align: top;\n",
       "    }\n",
       "\n",
       "    .dataframe thead th {\n",
       "        text-align: right;\n",
       "    }\n",
       "</style>\n",
       "<table border=\"1\" class=\"dataframe\">\n",
       "  <thead>\n",
       "    <tr style=\"text-align: right;\">\n",
       "      <th></th>\n",
       "      <th>customer_unique_id</th>\n",
       "      <th>cluster_id</th>\n",
       "    </tr>\n",
       "  </thead>\n",
       "  <tbody>\n",
       "    <tr>\n",
       "      <th>0</th>\n",
       "      <td>0000366f3b9a7992bf8c76cfdf3221e2</td>\n",
       "      <td>1</td>\n",
       "    </tr>\n",
       "    <tr>\n",
       "      <th>1</th>\n",
       "      <td>0000b849f77a49e4a4ce2b2a4ca5be3f</td>\n",
       "      <td>2</td>\n",
       "    </tr>\n",
       "    <tr>\n",
       "      <th>2</th>\n",
       "      <td>0000f46a3911fa3c0805444483337064</td>\n",
       "      <td>0</td>\n",
       "    </tr>\n",
       "    <tr>\n",
       "      <th>3</th>\n",
       "      <td>0000f6ccb0745a6a4b88665a16c9f078</td>\n",
       "      <td>7</td>\n",
       "    </tr>\n",
       "    <tr>\n",
       "      <th>4</th>\n",
       "      <td>0004aac84e0df4da2b147fca70cf8255</td>\n",
       "      <td>7</td>\n",
       "    </tr>\n",
       "    <tr>\n",
       "      <th>...</th>\n",
       "      <td>...</td>\n",
       "      <td>...</td>\n",
       "    </tr>\n",
       "    <tr>\n",
       "      <th>91028</th>\n",
       "      <td>fffcf5a5ff07b0908bd4e2dbc735a684</td>\n",
       "      <td>2</td>\n",
       "    </tr>\n",
       "    <tr>\n",
       "      <th>91029</th>\n",
       "      <td>fffea47cd6d3cc0a88bd621562a9d061</td>\n",
       "      <td>6</td>\n",
       "    </tr>\n",
       "    <tr>\n",
       "      <th>91030</th>\n",
       "      <td>ffff371b4d645b6ecea244b27531430a</td>\n",
       "      <td>0</td>\n",
       "    </tr>\n",
       "    <tr>\n",
       "      <th>91031</th>\n",
       "      <td>ffff5962728ec6157033ef9805bacc48</td>\n",
       "      <td>13</td>\n",
       "    </tr>\n",
       "    <tr>\n",
       "      <th>91032</th>\n",
       "      <td>ffffd2657e2aad2907e67c3e9daecbeb</td>\n",
       "      <td>12</td>\n",
       "    </tr>\n",
       "  </tbody>\n",
       "</table>\n",
       "<p>91033 rows × 2 columns</p>\n",
       "</div>"
      ],
      "text/plain": [
       "                     customer_unique_id  cluster_id\n",
       "0      0000366f3b9a7992bf8c76cfdf3221e2           1\n",
       "1      0000b849f77a49e4a4ce2b2a4ca5be3f           2\n",
       "2      0000f46a3911fa3c0805444483337064           0\n",
       "3      0000f6ccb0745a6a4b88665a16c9f078           7\n",
       "4      0004aac84e0df4da2b147fca70cf8255           7\n",
       "...                                 ...         ...\n",
       "91028  fffcf5a5ff07b0908bd4e2dbc735a684           2\n",
       "91029  fffea47cd6d3cc0a88bd621562a9d061           6\n",
       "91030  ffff371b4d645b6ecea244b27531430a           0\n",
       "91031  ffff5962728ec6157033ef9805bacc48          13\n",
       "91032  ffffd2657e2aad2907e67c3e9daecbeb          12\n",
       "\n",
       "[91033 rows x 2 columns]"
      ]
     },
     "execution_count": 26,
     "metadata": {},
     "output_type": "execute_result"
    }
   ],
   "source": [
    "df"
   ]
  },
  {
   "cell_type": "code",
   "execution_count": 27,
   "metadata": {},
   "outputs": [
    {
     "data": {
      "text/html": [
       "<div>\n",
       "<style scoped>\n",
       "    .dataframe tbody tr th:only-of-type {\n",
       "        vertical-align: middle;\n",
       "    }\n",
       "\n",
       "    .dataframe tbody tr th {\n",
       "        vertical-align: top;\n",
       "    }\n",
       "\n",
       "    .dataframe thead th {\n",
       "        text-align: right;\n",
       "    }\n",
       "</style>\n",
       "<table border=\"1\" class=\"dataframe\">\n",
       "  <thead>\n",
       "    <tr style=\"text-align: right;\">\n",
       "      <th></th>\n",
       "      <th>customer_unique_id</th>\n",
       "      <th>cluster_id</th>\n",
       "    </tr>\n",
       "  </thead>\n",
       "  <tbody>\n",
       "    <tr>\n",
       "      <th>0</th>\n",
       "      <td>0000366f3b9a7992bf8c76cfdf3221e2</td>\n",
       "      <td>1</td>\n",
       "    </tr>\n",
       "    <tr>\n",
       "      <th>1</th>\n",
       "      <td>0000b849f77a49e4a4ce2b2a4ca5be3f</td>\n",
       "      <td>2</td>\n",
       "    </tr>\n",
       "    <tr>\n",
       "      <th>2</th>\n",
       "      <td>0000f46a3911fa3c0805444483337064</td>\n",
       "      <td>0</td>\n",
       "    </tr>\n",
       "    <tr>\n",
       "      <th>3</th>\n",
       "      <td>0000f6ccb0745a6a4b88665a16c9f078</td>\n",
       "      <td>7</td>\n",
       "    </tr>\n",
       "    <tr>\n",
       "      <th>4</th>\n",
       "      <td>0004aac84e0df4da2b147fca70cf8255</td>\n",
       "      <td>7</td>\n",
       "    </tr>\n",
       "  </tbody>\n",
       "</table>\n",
       "</div>"
      ],
      "text/plain": [
       "                 customer_unique_id  cluster_id\n",
       "0  0000366f3b9a7992bf8c76cfdf3221e2           1\n",
       "1  0000b849f77a49e4a4ce2b2a4ca5be3f           2\n",
       "2  0000f46a3911fa3c0805444483337064           0\n",
       "3  0000f6ccb0745a6a4b88665a16c9f078           7\n",
       "4  0004aac84e0df4da2b147fca70cf8255           7"
      ]
     },
     "execution_count": 27,
     "metadata": {},
     "output_type": "execute_result"
    }
   ],
   "source": [
    "df.head()"
   ]
  },
  {
   "cell_type": "code",
   "execution_count": 28,
   "metadata": {},
   "outputs": [],
   "source": [
    "item_features_clustered = item_features.merge(df, on = 'customer_unique_id')"
   ]
  },
  {
   "cell_type": "code",
   "execution_count": 29,
   "metadata": {},
   "outputs": [],
   "source": [
    "# export into interim\n",
    "item_features_clustered.to_csv(r'/project/data/int/item_features_clustered.csv')"
   ]
  }
 ],
 "metadata": {
  "kernelspec": {
   "display_name": "Python 3 (ipykernel)",
   "language": "python",
   "name": "python3"
  },
  "language_info": {
   "codemirror_mode": {
    "name": "ipython",
    "version": 3
   },
   "file_extension": ".py",
   "mimetype": "text/x-python",
   "name": "python",
   "nbconvert_exporter": "python",
   "pygments_lexer": "ipython3",
   "version": "3.9.12"
  }
 },
 "nbformat": 4,
 "nbformat_minor": 4
}
