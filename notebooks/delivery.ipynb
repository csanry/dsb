{
 "cells": [
  {
   "cell_type": "code",
   "execution_count": null,
   "id": "df4296e1-9376-4e31-b333-135fbba20245",
   "metadata": {},
   "outputs": [],
   "source": [
    "!pip install geopy"
   ]
  },
  {
   "cell_type": "code",
   "execution_count": null,
   "id": "5888d55e-922f-4a1d-a377-69b8a45af7d6",
   "metadata": {},
   "outputs": [],
   "source": [
    "import numpy as np\n",
    "import pandas as pd\n",
    "from src import config\n",
    "from geopy.distance import distance\n",
    "\n",
    "from sklearn.model_selection import train_test_split\n",
    "from sklearn.ensemble import RandomForestRegressor\n",
    "\n",
    "import warnings\n",
    "warnings.filterwarnings(\"ignore\")"
   ]
  },
  {
   "cell_type": "code",
   "execution_count": null,
   "id": "2b16c8f6-8d1e-45a2-80fa-b122ed799317",
   "metadata": {},
   "outputs": [],
   "source": []
  },
  {
   "cell_type": "code",
   "execution_count": null,
   "id": "3f335489-7d7c-4364-a776-61526aa3b475",
   "metadata": {},
   "outputs": [],
   "source": [
    "df = pd.read_parquet(config.INT_FILE_PATH / 'transactions.parquet')"
   ]
  },
  {
   "cell_type": "code",
   "execution_count": null,
   "id": "c26f2c6c-e259-4362-937c-3aa84f264b02",
   "metadata": {},
   "outputs": [],
   "source": []
  },
  {
   "cell_type": "code",
   "execution_count": null,
   "id": "53513163-669e-4377-a63c-85908e8a48a4",
   "metadata": {},
   "outputs": [],
   "source": [
    "df_geo = pd.read_csv(config.RAW_FILE_PATH / 'olist_geolocation_dataset.csv')"
   ]
  },
  {
   "cell_type": "code",
   "execution_count": null,
   "id": "2b0d17f8-cd97-497b-b2c6-6763e5694af1",
   "metadata": {},
   "outputs": [],
   "source": [
    "df_geo_clean = df_geo.drop_duplicates(subset=['geolocation_zip_code_prefix','geolocation_city','geolocation_state'],keep='first')"
   ]
  },
  {
   "cell_type": "code",
   "execution_count": null,
   "id": "25d58404-c171-4729-898e-cdcf85edf482",
   "metadata": {},
   "outputs": [],
   "source": []
  },
  {
   "cell_type": "markdown",
   "id": "8367e0be-462d-43ae-8893-57050038a840",
   "metadata": {},
   "source": [
    "## Get Customer Lat Lng"
   ]
  },
  {
   "cell_type": "code",
   "execution_count": null,
   "id": "0f0bd025-e6cc-457f-9c50-ca65eef5c545",
   "metadata": {},
   "outputs": [],
   "source": [
    "df_merge = df.merge(df_geo_clean, how='left', left_on=['customer_zip_code_prefix', 'customer_city', 'customer_state'], right_on=['geolocation_zip_code_prefix', 'geolocation_city', 'geolocation_state'])"
   ]
  },
  {
   "cell_type": "code",
   "execution_count": null,
   "id": "34ec5e74-b2fc-4234-bca6-b43097b6a0c4",
   "metadata": {},
   "outputs": [],
   "source": [
    "df_merge.drop(['geolocation_zip_code_prefix', 'geolocation_city', 'geolocation_state'], axis=1,inplace=True)\n",
    "df_merge.rename(columns={'geolocation_lat':'customer_lat', 'geolocation_lng':'customer_lng'},inplace=True)"
   ]
  },
  {
   "cell_type": "code",
   "execution_count": null,
   "id": "73362f55-4898-41dd-8d44-16b5679abde1",
   "metadata": {},
   "outputs": [],
   "source": []
  },
  {
   "cell_type": "code",
   "execution_count": null,
   "id": "68b05392-fdb4-4e21-ae3a-39fb523a4549",
   "metadata": {},
   "outputs": [],
   "source": []
  },
  {
   "cell_type": "markdown",
   "id": "0c9369bc-3836-40f4-aec8-f9e624c6a7aa",
   "metadata": {},
   "source": [
    "### Get Seller Lat Lng"
   ]
  },
  {
   "cell_type": "code",
   "execution_count": null,
   "id": "50cc622a-a73a-42e6-a987-3df2ca67287b",
   "metadata": {},
   "outputs": [],
   "source": [
    "df_merge2 = df_merge.merge(df_geo_clean, how='left', left_on=['seller_zip_code_prefix', 'seller_city', 'seller_state'], right_on=['geolocation_zip_code_prefix', 'geolocation_city', 'geolocation_state'])"
   ]
  },
  {
   "cell_type": "code",
   "execution_count": null,
   "id": "34b1500d-eac1-4f38-8fb4-eff072af8df2",
   "metadata": {},
   "outputs": [],
   "source": [
    "df_merge2.drop(['geolocation_zip_code_prefix', 'geolocation_city', 'geolocation_state'], axis=1,inplace=True)\n",
    "df_merge2.rename(columns={'geolocation_lat':'seller_lat', 'geolocation_lng':'seller_lng'},inplace=True)"
   ]
  },
  {
   "cell_type": "code",
   "execution_count": null,
   "id": "95996fe6-e7b3-4abb-933c-81f9e017722d",
   "metadata": {},
   "outputs": [],
   "source": []
  },
  {
   "cell_type": "code",
   "execution_count": null,
   "id": "824030e1-c7bb-4663-a031-1505ca3dacc7",
   "metadata": {},
   "outputs": [],
   "source": []
  },
  {
   "cell_type": "markdown",
   "id": "3c5bb051-9743-44de-a8d2-bde1905f57b8",
   "metadata": {
    "tags": []
   },
   "source": [
    "### Get Distance between Customer and Seller"
   ]
  },
  {
   "cell_type": "code",
   "execution_count": null,
   "id": "cc81265d-0a4c-419f-8387-ffad59f290d1",
   "metadata": {},
   "outputs": [],
   "source": [
    "df_exclude = (df_merge2['customer_lat'].isna()) | (df_merge2['customer_lng'].isna()) | (df_merge2['seller_lat'].isna()) | (df_merge2['seller_lng'].isna())"
   ]
  },
  {
   "cell_type": "code",
   "execution_count": null,
   "id": "a16dea6a-05c3-492a-b990-ef6e9714eeb0",
   "metadata": {},
   "outputs": [],
   "source": [
    "df_merge3 = df_merge2[~df_exclude]"
   ]
  },
  {
   "cell_type": "code",
   "execution_count": null,
   "id": "dd370554-6517-4795-ab04-9d6ab163dd9a",
   "metadata": {},
   "outputs": [],
   "source": []
  },
  {
   "cell_type": "code",
   "execution_count": null,
   "id": "877e5c3c-6f59-442f-8f94-fd5cbf20e52c",
   "metadata": {},
   "outputs": [],
   "source": [
    "df_merge3['customer_location'] = list(zip(df_merge3['customer_lat'], df_merge3['customer_lng']))\n",
    "df_merge3['seller_location'] = list(zip(df_merge3['seller_lat'], df_merge3['seller_lng']))"
   ]
  },
  {
   "cell_type": "code",
   "execution_count": null,
   "id": "a15bd543-e8b9-4428-b58b-a6b603784438",
   "metadata": {},
   "outputs": [],
   "source": []
  },
  {
   "cell_type": "code",
   "execution_count": null,
   "id": "f3172461-a557-4791-8c1c-05b2ef8e7e5e",
   "metadata": {},
   "outputs": [],
   "source": [
    "df_merge3['distance'] = df_merge3.apply(lambda row: distance(row['customer_location'], row['seller_location']).km, axis=1)"
   ]
  },
  {
   "cell_type": "code",
   "execution_count": null,
   "id": "853c6969-2441-47e4-93fa-ad5598594b3c",
   "metadata": {},
   "outputs": [],
   "source": []
  },
  {
   "cell_type": "code",
   "execution_count": null,
   "id": "516823c4-e6a8-437b-b457-54e8f03620ad",
   "metadata": {},
   "outputs": [],
   "source": [
    "df_merge3"
   ]
  },
  {
   "cell_type": "markdown",
   "id": "b70a6f08-98d4-4463-8804-e8f08570015e",
   "metadata": {},
   "source": [
    "### Get Order Count per Day per Seller"
   ]
  },
  {
   "cell_type": "code",
   "execution_count": null,
   "id": "ea7a7554-60da-4f94-bcb4-c97a87468cc1",
   "metadata": {},
   "outputs": [],
   "source": [
    "df_merge3['date'] = df_merge3['order_purchase_timestamp'].apply(lambda x: '%d/%d/%d' % (x.day, x.month, x.year))"
   ]
  },
  {
   "cell_type": "code",
   "execution_count": null,
   "id": "8b38fff3-2a7a-4cf9-b9d6-74d7a4bcbc43",
   "metadata": {},
   "outputs": [],
   "source": [
    "df_merge3['seller_order_count'] = df_merge3.groupby(['date','seller_id'])['order_id'].transform('count')"
   ]
  },
  {
   "cell_type": "code",
   "execution_count": null,
   "id": "e7417d10-21bf-4676-b167-51376adbde0a",
   "metadata": {},
   "outputs": [],
   "source": []
  },
  {
   "cell_type": "code",
   "execution_count": null,
   "id": "848a877d-2805-46dc-acde-d570adac0d7a",
   "metadata": {},
   "outputs": [],
   "source": []
  },
  {
   "cell_type": "markdown",
   "id": "b33b7963-f79b-405e-98d2-c2b944e2ac47",
   "metadata": {},
   "source": [
    "### Get Purchase Approval and Delivered Carrier Duration -> Continue From Here"
   ]
  },
  {
   "cell_type": "code",
   "execution_count": null,
   "id": "2491e131-ed3c-4bdb-810d-ea59bb97231f",
   "metadata": {},
   "outputs": [],
   "source": [
    "df_merge3['order_approval_duration'] = (df_merge3['order_approved_at'] - df_merge3['order_purchase_timestamp']).dt.days #/np.timedelta64(1,'h')/24"
   ]
  },
  {
   "cell_type": "code",
   "execution_count": null,
   "id": "dc836a9f-6dcb-4062-aa0a-571221ecebcf",
   "metadata": {},
   "outputs": [],
   "source": [
    "df_merge3"
   ]
  },
  {
   "cell_type": "code",
   "execution_count": null,
   "id": "464b96fd-037b-4bd0-9859-5614b47bb87a",
   "metadata": {},
   "outputs": [],
   "source": []
  },
  {
   "cell_type": "code",
   "execution_count": null,
   "id": "adff4c4b-af39-4e50-a898-7fdb9463a803",
   "metadata": {},
   "outputs": [],
   "source": [
    "df_merge3['order_carrier_duration'] = (df_merge3['order_delivered_carrier_date'] - df_merge3['order_purchase_timestamp'])/np.timedelta64(1,'h')/24"
   ]
  },
  {
   "cell_type": "code",
   "execution_count": null,
   "id": "335ce8fd-7c75-487c-a8ab-0f71e94fa1e1",
   "metadata": {},
   "outputs": [],
   "source": []
  },
  {
   "cell_type": "code",
   "execution_count": null,
   "id": "f2a4c1ce-2d69-48a8-9231-e990b2895e9b",
   "metadata": {},
   "outputs": [],
   "source": []
  },
  {
   "cell_type": "code",
   "execution_count": null,
   "id": "f8cca0d9-b645-40b6-8458-4e39ab25e61d",
   "metadata": {},
   "outputs": [],
   "source": []
  },
  {
   "cell_type": "code",
   "execution_count": null,
   "id": "1202a208-fd24-4864-a9c2-3ea46db43917",
   "metadata": {},
   "outputs": [],
   "source": []
  },
  {
   "cell_type": "code",
   "execution_count": null,
   "id": "7396d70d-023e-453b-880a-bbcfc7eaf5a8",
   "metadata": {},
   "outputs": [],
   "source": []
  },
  {
   "cell_type": "markdown",
   "id": "747675ff-f338-4512-8a3a-184866699f3c",
   "metadata": {},
   "source": [
    "### Data Preparation & Manipulation"
   ]
  },
  {
   "cell_type": "code",
   "execution_count": null,
   "id": "8143b939-f690-4bb9-8411-bca61b429a68",
   "metadata": {},
   "outputs": [],
   "source": []
  },
  {
   "cell_type": "code",
   "execution_count": null,
   "id": "82f2993b-4f3b-4aff-a38e-a8ccacc3a859",
   "metadata": {},
   "outputs": [],
   "source": [
    "# 'order_approval_duration', 'order_carrier_duration' -> improve estimated delivery date?\n",
    "# what is order_item_id?\n",
    "\n",
    "df_before_purchase = df_merge3[['seller_id', 'seller_order_count', 'distance', 'product_category_name', 'price', 'freight_value', 'shipping_cost_perc', 'product_weight_g', 'product_length_cm', 'product_height_cm', 'product_width_cm', 'product_size', 'purchase_dow', 'delivery_days']]\n",
    "df_after_approval = df_merge3[['seller_id', 'seller_order_count', 'distance', 'product_category_name', 'price', 'freight_value', 'shipping_cost_perc', 'product_weight_g', 'product_length_cm', 'product_height_cm', 'product_width_cm', 'product_size', 'purchase_dow', 'order_approval_duration', 'delivery_days']]\n",
    "df_carrier_received = df_merge3[['seller_id', 'seller_order_count', 'distance', 'product_category_name', 'price', 'freight_value', 'shipping_cost_perc', 'product_weight_g', 'product_length_cm', 'product_height_cm', 'product_width_cm', 'product_size', 'purchase_dow', 'order_approval_duration', 'order_carrier_duration', 'delivery_days']]"
   ]
  },
  {
   "cell_type": "code",
   "execution_count": null,
   "id": "cff37874-f28b-4dbf-90e0-ba0f14d29e3e",
   "metadata": {},
   "outputs": [],
   "source": []
  },
  {
   "cell_type": "code",
   "execution_count": null,
   "id": "5488ba72-d767-4014-b0df-cd32934c2e87",
   "metadata": {},
   "outputs": [],
   "source": []
  },
  {
   "cell_type": "code",
   "execution_count": null,
   "id": "c599cdd8-fbae-4b62-958b-f66a18187089",
   "metadata": {},
   "outputs": [],
   "source": [
    "# Fill/drop blank column\n",
    "df_carrier_received['product_category_name'].fillna('NC', inplace=True)\n",
    "df_carrier_received = df_carrier_received[~(df_carrier_received['product_weight_g'].isna())]\n",
    "df_carrier_received = df_carrier_received[~(df_carrier_received['order_carrier_duration'].isna())]\n",
    "df_carrier_received = df_carrier_received[~(df_carrier_received['delivery_days'].isna())]"
   ]
  },
  {
   "cell_type": "code",
   "execution_count": null,
   "id": "6cb51b36-1d90-45db-aa6b-b94b85fb2e9a",
   "metadata": {},
   "outputs": [],
   "source": [
    "numerics = ['int', 'int64', 'float64']\n",
    "numerical = df_carrier_received.select_dtypes(include=numerics).columns\n",
    "categorical = df_carrier_received.drop(numerical,axis=1).columns"
   ]
  },
  {
   "cell_type": "code",
   "execution_count": null,
   "id": "bd31a812-8fda-4942-96c9-ad6df2b15e1f",
   "metadata": {},
   "outputs": [],
   "source": []
  },
  {
   "cell_type": "code",
   "execution_count": null,
   "id": "b7a6596a-cc3f-4d9a-bb56-a5cbe2dcde78",
   "metadata": {},
   "outputs": [],
   "source": []
  },
  {
   "cell_type": "code",
   "execution_count": null,
   "id": "8229ef07-a09c-434f-9c3c-7c90ff024621",
   "metadata": {},
   "outputs": [],
   "source": [
    "df_carrier_received"
   ]
  },
  {
   "cell_type": "code",
   "execution_count": null,
   "id": "b80ae80b-c530-45d6-99bd-8b7d83fa2b58",
   "metadata": {},
   "outputs": [],
   "source": []
  },
  {
   "cell_type": "code",
   "execution_count": null,
   "id": "8a373c8d-07a6-435d-b7ca-9e4af5ad5f98",
   "metadata": {},
   "outputs": [],
   "source": [
    "categorical"
   ]
  },
  {
   "cell_type": "code",
   "execution_count": null,
   "id": "727f6678-aad4-4560-ab7c-ad8ae9ffdefe",
   "metadata": {},
   "outputs": [],
   "source": []
  },
  {
   "cell_type": "code",
   "execution_count": null,
   "id": "fcf1fbfe-394c-4a24-8782-87e595fc60c9",
   "metadata": {},
   "outputs": [],
   "source": []
  },
  {
   "cell_type": "code",
   "execution_count": null,
   "id": "f78dfa91-0fa4-48a7-a544-0ede6c798cba",
   "metadata": {},
   "outputs": [],
   "source": [
    "## Train test split 80, 20"
   ]
  },
  {
   "cell_type": "code",
   "execution_count": null,
   "id": "3213c256-191c-4e18-9d58-4ccb88b0e934",
   "metadata": {},
   "outputs": [],
   "source": []
  },
  {
   "cell_type": "code",
   "execution_count": null,
   "id": "05d3439d-b97a-4118-bbe9-a35bfe6e2009",
   "metadata": {},
   "outputs": [],
   "source": [
    "## One Hot Encoding"
   ]
  },
  {
   "cell_type": "code",
   "execution_count": null,
   "id": "111cc6b5-3663-4e99-ac33-2bae6d52b0c6",
   "metadata": {},
   "outputs": [],
   "source": [
    "## GridSearchCV"
   ]
  },
  {
   "cell_type": "code",
   "execution_count": null,
   "id": "4c46cc12-b481-490e-9296-a454f9437ee2",
   "metadata": {},
   "outputs": [],
   "source": []
  },
  {
   "cell_type": "code",
   "execution_count": null,
   "id": "5415c25e-b443-4633-b420-7e2a455de3ac",
   "metadata": {},
   "outputs": [],
   "source": [
    "# Path 1"
   ]
  },
  {
   "cell_type": "code",
   "execution_count": null,
   "id": "678c2341-c97a-43e4-a8c2-9fcd4a4333aa",
   "metadata": {},
   "outputs": [],
   "source": [
    "## RandomForestRegressor -> Delivery Duration Prediction -> Check against actual delivery duration -> Late or Not Late"
   ]
  },
  {
   "cell_type": "code",
   "execution_count": null,
   "id": "205fbb33-cd67-43b7-9a13-df25556eb9ab",
   "metadata": {},
   "outputs": [],
   "source": [
    "## MSE/MAPE"
   ]
  },
  {
   "cell_type": "code",
   "execution_count": null,
   "id": "d185df4b-5b63-43e1-937b-71d665b96de5",
   "metadata": {},
   "outputs": [],
   "source": [
    "## Feature Importance"
   ]
  },
  {
   "cell_type": "code",
   "execution_count": null,
   "id": "e3daa276-4e25-43b3-b138-4c3fb9c933ac",
   "metadata": {},
   "outputs": [],
   "source": []
  },
  {
   "cell_type": "code",
   "execution_count": null,
   "id": "d2882b2c-3d86-44a8-9cbf-2f73b854fa29",
   "metadata": {},
   "outputs": [],
   "source": [
    "# Path 2"
   ]
  },
  {
   "cell_type": "code",
   "execution_count": null,
   "id": "bff792ac-3dee-47a3-9dd6-706dd05e16c5",
   "metadata": {},
   "outputs": [],
   "source": [
    "## LogReg -> Late or Not Late"
   ]
  },
  {
   "cell_type": "code",
   "execution_count": null,
   "id": "8475e482-2df8-48eb-abb4-076b2d560867",
   "metadata": {},
   "outputs": [],
   "source": [
    "## Accuracy"
   ]
  },
  {
   "cell_type": "code",
   "execution_count": null,
   "id": "b89724db-cfe1-4816-90f5-5ed12e16a9d2",
   "metadata": {},
   "outputs": [],
   "source": [
    "## Feature Importance"
   ]
  },
  {
   "cell_type": "code",
   "execution_count": null,
   "id": "156ae9ae-f91a-4caa-b7b3-32f701033313",
   "metadata": {},
   "outputs": [],
   "source": []
  }
 ],
 "metadata": {
  "interpreter": {
   "hash": "44a3c08237e01b3f273f94d4b0b6f4bfc3fd3da5036836380d570cd78e561537"
  },
  "kernelspec": {
   "display_name": "Python 3.9.12 ('dsb')",
   "language": "python",
   "name": "python3"
  },
  "language_info": {
   "codemirror_mode": {
    "name": "ipython",
    "version": 3
   },
   "file_extension": ".py",
   "mimetype": "text/x-python",
   "name": "python",
   "nbconvert_exporter": "python",
   "pygments_lexer": "ipython3",
   "version": "3.9.12"
  }
 },
 "nbformat": 4,
 "nbformat_minor": 5
}
