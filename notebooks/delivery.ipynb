{
 "cells": [
  {
   "cell_type": "code",
   "execution_count": null,
   "id": "df4296e1-9376-4e31-b333-135fbba20245",
   "metadata": {},
   "outputs": [],
   "source": [
    "!pip install geopy"
   ]
  },
  {
   "cell_type": "code",
   "execution_count": null,
   "id": "5888d55e-922f-4a1d-a377-69b8a45af7d6",
   "metadata": {},
   "outputs": [],
   "source": [
    "import numpy as np\n",
    "import pandas as pd\n",
    "import matplotlib.pyplot as plt\n",
    "import seaborn as sns\n",
    "from src import config\n",
    "from geopy.distance import distance\n",
    "\n",
    "from sklearn.model_selection import train_test_split, GridSearchCV\n",
    "from sklearn.ensemble import RandomForestRegressor, RandomForestClassifier\n",
    "from sklearn.linear_model import LogisticRegression\n",
    "from sklearn.preprocessing import StandardScaler, MinMaxScaler\n",
    "from sklearn.metrics import mean_squared_error, mean_absolute_error, r2_score, fbeta_score, recall_score, precision_score\n",
    "import pickle\n",
    "\n",
    "import warnings\n",
    "warnings.filterwarnings(\"ignore\")"
   ]
  },
  {
   "cell_type": "code",
   "execution_count": null,
   "id": "dd0fb0db-85af-4fc4-b3a2-c1008bfe6783",
   "metadata": {},
   "outputs": [],
   "source": [
    "def feature_engineering(df):\n",
    "    # Get Shipping Cost Percentage\n",
    "    df['shipping_cost_perc'] = df['freight_value']/df['order_total_price']\n",
    "    \n",
    "    # Get Purchase Day of Week\n",
    "    df['purchase_dow'] = df['order_purchase_timestamp'].dt.dayofweek\n",
    "    \n",
    "    # Get Distance Between Customer and Seller\n",
    "    df['customer_location'] = list(zip(df['customer_lat'], df['customer_lng']))\n",
    "    df['seller_location'] = list(zip(df['seller_lat'], df['seller_lng']))\n",
    "    df['distance'] = df.apply(lambda row: distance(row['customer_location'], row['seller_location']).km, axis=1)\n",
    "    \n",
    "    # Get Order Count per Day per Seller\n",
    "    df['date'] = df['order_purchase_timestamp'].dt.date.nunique()\n",
    "    df['seller_order_count'] = df.groupby(['date','seller_id'])['order_id'].transform('count')\n",
    "    \n",
    "    # Get Purchase Approval and Delivered Carrier Duration\n",
    "    df['order_approval_duration'] = (df['order_approved_at'].dt.date - df['order_purchase_timestamp'].dt.date).dt.days\n",
    "    df['order_carrier_duration'] = (df['order_delivered_carrier_date'].dt.date - df['order_purchase_timestamp'].dt.date).dt.days\n",
    "    \n",
    "    # Get Product Size\n",
    "    df['product_size'] = df['product_length_cm'] * df['product_width_cm'] * df['product_height_cm']\n",
    "    \n",
    "    return df"
   ]
  },
  {
   "cell_type": "code",
   "execution_count": null,
   "id": "bc1ed758-2a55-48c1-9f57-fff19b3657c8",
   "metadata": {},
   "outputs": [],
   "source": [
    "def product_categorization(df):\n",
    "    df['fashion'] = np.where(df['product_category_name'].str.contains(r'(?:fashio|perfumery)'), 1, 0)\n",
    "    df['consumption'] = np.where(df['product_category_name'].str.contains(r'(?:food|drink|cuisine)'), 1, 0)\n",
    "    df['garden'] = np.where(df['product_category_name'].str.contains(r'(?:garden|flower)'), 1, 0)\n",
    "    df['electronics'] = np.where(df['product_category_name'].str.contains(r'(?:electronic|computer|telephony|console|audio)'), 1, 0)\n",
    "    df['furniture_appliances'] = np.where(df['product_category_name'].str.contains(r'(?:furniture|appliance|bed|houseware|air_conditioning|table|kitchen|comfort|confort)'), 1, 0)\n",
    "    df['construction'] = np.where(df['product_category_name'].str.contains(r'(?:construction)'), 1, 0)\n",
    "    df['hobby_entertainment'] = np.where(df['product_category_name'].str.contains(r'(?:console|book|music|art|dvd)'), 1, 0)\n",
    "    df['kids'] = np.where(df['product_category_name'].str.contains(r'(?:baby|toy|diaper|children)'), 1, 0)\n",
    "    \n",
    "    return df"
   ]
  },
  {
   "cell_type": "code",
   "execution_count": null,
   "id": "a044efaf-4630-4d9e-97c4-a02201c28db4",
   "metadata": {},
   "outputs": [],
   "source": []
  },
  {
   "cell_type": "markdown",
   "id": "addd671d-a3a4-4f16-a801-aac9f43d519c",
   "metadata": {},
   "source": [
    "## Read Dataset"
   ]
  },
  {
   "cell_type": "code",
   "execution_count": null,
   "id": "3f335489-7d7c-4364-a776-61526aa3b475",
   "metadata": {},
   "outputs": [],
   "source": [
    "df = pd.read_parquet(config.INT_FILE_PATH / 'transactions.parquet')"
   ]
  },
  {
   "cell_type": "code",
   "execution_count": null,
   "id": "53513163-669e-4377-a63c-85908e8a48a4",
   "metadata": {},
   "outputs": [],
   "source": [
    "df_geo = pd.read_csv(config.RAW_FILE_PATH / 'olist_geolocation_dataset.csv')"
   ]
  },
  {
   "cell_type": "code",
   "execution_count": null,
   "id": "2b0d17f8-cd97-497b-b2c6-6763e5694af1",
   "metadata": {},
   "outputs": [],
   "source": [
    "df_geo_clean = df_geo.drop_duplicates(subset=['geolocation_zip_code_prefix','geolocation_city','geolocation_state'],keep='first')"
   ]
  },
  {
   "cell_type": "code",
   "execution_count": null,
   "id": "3348ea84-f866-48ae-aa2c-5a634b40db67",
   "metadata": {},
   "outputs": [],
   "source": [
    "df_review = pd.read_csv(config.RAW_FILE_PATH / 'olist_order_reviews_dataset.csv')"
   ]
  },
  {
   "cell_type": "code",
   "execution_count": null,
   "id": "58cd197c-c903-497b-a3fa-1780bb05636f",
   "metadata": {},
   "outputs": [],
   "source": []
  },
  {
   "cell_type": "code",
   "execution_count": null,
   "id": "2ffc862f-cc3e-4cbf-b77b-78125a065053",
   "metadata": {},
   "outputs": [],
   "source": []
  },
  {
   "cell_type": "markdown",
   "id": "e4b04f8a-b6c9-48dd-95fe-5df9bb4f2ea2",
   "metadata": {},
   "source": [
    "## Filter only original data"
   ]
  },
  {
   "cell_type": "code",
   "execution_count": null,
   "id": "bdf32233-4114-458f-a7c6-b884da9f782c",
   "metadata": {},
   "outputs": [],
   "source": [
    "df_original = df.iloc[:,:-6].dropna()"
   ]
  },
  {
   "cell_type": "code",
   "execution_count": null,
   "id": "0b97ad37-bc8e-498d-8890-f08473b547ae",
   "metadata": {},
   "outputs": [],
   "source": []
  },
  {
   "cell_type": "code",
   "execution_count": null,
   "id": "46114cfc-aca3-404d-a5c1-7e8156052d2f",
   "metadata": {},
   "outputs": [],
   "source": []
  },
  {
   "cell_type": "markdown",
   "id": "8367e0be-462d-43ae-8893-57050038a840",
   "metadata": {},
   "source": [
    "## Get Customer Lat Lng"
   ]
  },
  {
   "cell_type": "code",
   "execution_count": null,
   "id": "0f0bd025-e6cc-457f-9c50-ca65eef5c545",
   "metadata": {},
   "outputs": [],
   "source": [
    "df_merge = df_original.merge(df_geo_clean, how='left', left_on=['customer_zip_code_prefix', 'customer_city', 'customer_state'], right_on=['geolocation_zip_code_prefix', 'geolocation_city', 'geolocation_state'])"
   ]
  },
  {
   "cell_type": "code",
   "execution_count": null,
   "id": "34ec5e74-b2fc-4234-bca6-b43097b6a0c4",
   "metadata": {},
   "outputs": [],
   "source": [
    "df_merge.drop(['geolocation_zip_code_prefix', 'geolocation_city', 'geolocation_state'], axis=1,inplace=True)\n",
    "df_merge.rename(columns={'geolocation_lat':'customer_lat', 'geolocation_lng':'customer_lng'},inplace=True)"
   ]
  },
  {
   "cell_type": "code",
   "execution_count": null,
   "id": "73362f55-4898-41dd-8d44-16b5679abde1",
   "metadata": {},
   "outputs": [],
   "source": []
  },
  {
   "cell_type": "code",
   "execution_count": null,
   "id": "68b05392-fdb4-4e21-ae3a-39fb523a4549",
   "metadata": {},
   "outputs": [],
   "source": []
  },
  {
   "cell_type": "markdown",
   "id": "0c9369bc-3836-40f4-aec8-f9e624c6a7aa",
   "metadata": {},
   "source": [
    "## Get Seller Lat Lng"
   ]
  },
  {
   "cell_type": "code",
   "execution_count": null,
   "id": "50cc622a-a73a-42e6-a987-3df2ca67287b",
   "metadata": {},
   "outputs": [],
   "source": [
    "df_merge2 = df_merge.merge(df_geo_clean, how='left', left_on=['seller_zip_code_prefix', 'seller_city', 'seller_state'], right_on=['geolocation_zip_code_prefix', 'geolocation_city', 'geolocation_state'])"
   ]
  },
  {
   "cell_type": "code",
   "execution_count": null,
   "id": "34b1500d-eac1-4f38-8fb4-eff072af8df2",
   "metadata": {},
   "outputs": [],
   "source": [
    "df_merge2.drop(['geolocation_zip_code_prefix', 'geolocation_city', 'geolocation_state'], axis=1,inplace=True)\n",
    "df_merge2.rename(columns={'geolocation_lat':'seller_lat', 'geolocation_lng':'seller_lng'},inplace=True)"
   ]
  },
  {
   "cell_type": "code",
   "execution_count": null,
   "id": "95996fe6-e7b3-4abb-933c-81f9e017722d",
   "metadata": {},
   "outputs": [],
   "source": []
  },
  {
   "cell_type": "code",
   "execution_count": null,
   "id": "8b235d53-0cef-4b83-939e-039bee394e17",
   "metadata": {},
   "outputs": [],
   "source": []
  },
  {
   "cell_type": "markdown",
   "id": "2ce5c41a-13f0-4e5f-90fd-e1c0af72d32e",
   "metadata": {},
   "source": [
    "## Remove any Missing Lat Lng"
   ]
  },
  {
   "cell_type": "code",
   "execution_count": null,
   "id": "cc81265d-0a4c-419f-8387-ffad59f290d1",
   "metadata": {},
   "outputs": [],
   "source": [
    "df_exclude = (df_merge2['customer_lat'].isna()) | (df_merge2['customer_lng'].isna()) | (df_merge2['seller_lat'].isna()) | (df_merge2['seller_lng'].isna())"
   ]
  },
  {
   "cell_type": "code",
   "execution_count": null,
   "id": "a16dea6a-05c3-492a-b990-ef6e9714eeb0",
   "metadata": {},
   "outputs": [],
   "source": [
    "df_merge3 = df_merge2[~df_exclude]"
   ]
  },
  {
   "cell_type": "code",
   "execution_count": null,
   "id": "6539b31e-c6c4-45c7-b23d-4e4fd16b431d",
   "metadata": {},
   "outputs": [],
   "source": []
  },
  {
   "cell_type": "code",
   "execution_count": null,
   "id": "b62a9d9e-7dcc-4d1c-9216-1564326ac862",
   "metadata": {},
   "outputs": [],
   "source": []
  },
  {
   "cell_type": "markdown",
   "id": "43119c19-122c-4fe7-a41d-2f7a92f279a2",
   "metadata": {
    "tags": []
   },
   "source": [
    "## Correlation"
   ]
  },
  {
   "cell_type": "code",
   "execution_count": null,
   "id": "ceb86209-ff3b-42d0-af73-05639fca89f3",
   "metadata": {},
   "outputs": [],
   "source": [
    "df_corr = feature_engineering(df_merge3)"
   ]
  },
  {
   "cell_type": "code",
   "execution_count": null,
   "id": "974399a0-88f9-406d-9b71-bd1ebe52d514",
   "metadata": {},
   "outputs": [],
   "source": [
    "df_corr['delivery_days'] = (df_corr['order_delivered_customer_date'].dt.date - df_corr['order_purchase_timestamp'].dt.date).dt.days\n",
    "df_corr['estimated_days'] = (df_corr['order_estimated_delivery_date'].dt.date - df_corr['order_purchase_timestamp'].dt.date).dt.days"
   ]
  },
  {
   "cell_type": "code",
   "execution_count": null,
   "id": "fdc17a50-1be6-4302-a542-906a8bff2e61",
   "metadata": {},
   "outputs": [],
   "source": [
    "df_corr['late_flag'] = np.where(df_corr['delivery_days']>df_corr['estimated_days'],1,0)"
   ]
  },
  {
   "cell_type": "code",
   "execution_count": null,
   "id": "6f53c7fc-fa77-4c89-8079-22e0236b0e3e",
   "metadata": {},
   "outputs": [],
   "source": [
    "df_corr2 = df_corr.merge(df_review[['order_id','review_score']],how='left')"
   ]
  },
  {
   "cell_type": "code",
   "execution_count": null,
   "id": "c1f2549f-2f55-4e54-ada0-97fb3d73cdc9",
   "metadata": {},
   "outputs": [],
   "source": [
    "# Removing unnecessary columns for correlation\n",
    "df_corr2.drop(['date','seller_lng','seller_lat','customer_lng','customer_lat','seller_zip_code_prefix','customer_zip_code_prefix'],axis=1,inplace=True)"
   ]
  },
  {
   "cell_type": "code",
   "execution_count": null,
   "id": "a72288e3-ef10-45ae-bc69-0acc6a4dea1d",
   "metadata": {},
   "outputs": [],
   "source": [
    "mask = np.zeros_like(df_corr2[df_corr2.columns[::-1]].corr(), dtype=np.bool)\n",
    "mask[np.triu_indices_from(mask)] = True\n",
    "plt.figure(figsize=(25, 15))\n",
    "sns.heatmap(df_corr2[df_corr2.columns[::-1]].corr(), cmap=sns.diverging_palette(20, 220, n=200), annot=True, mask=mask, center = 0)\n",
    "plt.title(\"Features Correlation Heatmap\", fontsize = 30)\n",
    "plt.savefig('Features Correlation Heatmap.png',bbox_inches='tight',facecolor='white')\n",
    "plt.show()"
   ]
  },
  {
   "cell_type": "code",
   "execution_count": null,
   "id": "93fb512c-15f9-4a32-9426-a45cd0296926",
   "metadata": {},
   "outputs": [],
   "source": []
  },
  {
   "cell_type": "markdown",
   "id": "6f3e736e-3128-41a0-afe0-182f9143f48a",
   "metadata": {},
   "source": [
    "## Review Score Top 10 Correlation"
   ]
  },
  {
   "cell_type": "code",
   "execution_count": null,
   "id": "2557ad7f-1c1e-436d-83d0-00a577b0c18d",
   "metadata": {},
   "outputs": [],
   "source": [
    "corr = df_corr2[df_corr2.columns[::-1]].corr()"
   ]
  },
  {
   "cell_type": "code",
   "execution_count": null,
   "id": "2a4ece82-344f-4c38-aa3d-f9a66bf8bd22",
   "metadata": {},
   "outputs": [],
   "source": [
    "corr['review_score'].sort_values(ascending=True).head(10)"
   ]
  },
  {
   "cell_type": "markdown",
   "id": "f138e347-b088-4b67-986f-66d4113ccabc",
   "metadata": {},
   "source": [
    "From the above correlation, we can see that late flag, delivery days, order carrier duration and estimated days are in the top 5 negative correlation with review score. Delivery related components are the main driver that causes low review."
   ]
  },
  {
   "cell_type": "code",
   "execution_count": null,
   "id": "44e38a9a-0d5f-4773-a6b4-338bcb885be3",
   "metadata": {},
   "outputs": [],
   "source": []
  },
  {
   "cell_type": "code",
   "execution_count": null,
   "id": "878d7383-4339-4f11-a9fc-05134a3c0881",
   "metadata": {},
   "outputs": [],
   "source": []
  },
  {
   "cell_type": "markdown",
   "id": "9802e2e1-446a-498b-9024-740a185901c2",
   "metadata": {},
   "source": [
    "## Estimated Days % share and MAE"
   ]
  },
  {
   "cell_type": "code",
   "execution_count": null,
   "id": "1c07baa1-c605-465d-bfe1-7583213bcd02",
   "metadata": {},
   "outputs": [],
   "source": [
    "df_corr2['late_flag'].sum()/df_corr2.shape[0]"
   ]
  },
  {
   "cell_type": "code",
   "execution_count": null,
   "id": "3d758df6-1193-4afe-852d-310340f86d3d",
   "metadata": {},
   "outputs": [],
   "source": [
    "mean_absolute_error(df_corr2['delivery_days'],df_corr2['estimated_days'])"
   ]
  },
  {
   "cell_type": "markdown",
   "id": "ebb1eb00-1cc8-41d8-9331-6f48039adc4e",
   "metadata": {},
   "source": [
    "We can see that there are roughly 6% of products are delivered late, this looks quite low but it we look at the number of estimated delivery days, we can see that the MAE is 13-14 days which is relatively high. It is likely that the company would like to avoid any late delivery by increasing the number of buffer days in the estimated delivery days."
   ]
  },
  {
   "cell_type": "code",
   "execution_count": null,
   "id": "487098c3-0c09-4135-a1f3-ec68a8d678b3",
   "metadata": {},
   "outputs": [],
   "source": []
  },
  {
   "cell_type": "code",
   "execution_count": null,
   "id": "bf7f3cfa-5b91-45a8-bd3c-ffc5656155e4",
   "metadata": {},
   "outputs": [],
   "source": []
  },
  {
   "cell_type": "code",
   "execution_count": null,
   "id": "89ec1361-916f-43dc-a7fc-9190c561bdcb",
   "metadata": {},
   "outputs": [],
   "source": []
  },
  {
   "cell_type": "markdown",
   "id": "fe6f86fe-0aac-4864-81b6-153cfb439ba1",
   "metadata": {},
   "source": [
    "## Estimated Delivery Review Score Trend"
   ]
  },
  {
   "cell_type": "code",
   "execution_count": null,
   "id": "f7ef943b-6013-4f6c-870c-b67afe78b9f8",
   "metadata": {},
   "outputs": [],
   "source": [
    "est_del_review = pd.DataFrame({'min_estimated_days':[0,10,20,30,40,50], 'max_estimated_days':[10,20,30,40,50,np.inf]})"
   ]
  },
  {
   "cell_type": "code",
   "execution_count": null,
   "id": "21b9164c-2ea9-4dd9-802a-2c75a195a6ca",
   "metadata": {},
   "outputs": [],
   "source": [
    "est_del_review['review_score'] = est_del_review.apply(lambda x: df_corr2[(df_corr2['estimated_days'] > x['min_estimated_days']) & (df_corr2['estimated_days'] <= x['max_estimated_days'])].review_score.mean(), axis=1)"
   ]
  },
  {
   "cell_type": "code",
   "execution_count": null,
   "id": "3600e8b1-608c-447b-b295-a09814294ba3",
   "metadata": {},
   "outputs": [],
   "source": [
    "est_del_review"
   ]
  },
  {
   "cell_type": "markdown",
   "id": "fbab9b82-85aa-4131-8a84-93402182674e",
   "metadata": {},
   "source": [
    "From the above table we could see that the longer the estimated delivery days, the lower the review score. Hence, the strategy to increase estimated delivery days might not be the best solution as it still impacts the review score."
   ]
  },
  {
   "cell_type": "markdown",
   "id": "c6774499-bfb0-42aa-a20e-d74657428fad",
   "metadata": {},
   "source": [
    "Due to this reason we would like to propose a prediction model to better estimate the delivery duration as well as to avoid late delivery as much as possible. It is important to strike a balance between the estimated delivery duration and late delivery."
   ]
  },
  {
   "cell_type": "code",
   "execution_count": null,
   "id": "7d05de88-524f-492b-8b15-6903ba87535a",
   "metadata": {},
   "outputs": [],
   "source": []
  },
  {
   "cell_type": "code",
   "execution_count": null,
   "id": "9e8f5de4-1eea-48ba-af4c-a96870dc15ac",
   "metadata": {},
   "outputs": [],
   "source": []
  },
  {
   "cell_type": "code",
   "execution_count": null,
   "id": "89d14759-35b8-47e6-89fc-4c2a204f16d6",
   "metadata": {},
   "outputs": [],
   "source": []
  },
  {
   "cell_type": "markdown",
   "id": "45400d88-d66f-4536-ab9c-402a31940a2e",
   "metadata": {},
   "source": [
    "## Late Days Review Score Trend"
   ]
  },
  {
   "cell_type": "code",
   "execution_count": null,
   "id": "94ffb235-f365-410b-bc8a-602b50c2a14d",
   "metadata": {},
   "outputs": [],
   "source": [
    "late_days = df_corr2[df_corr2['late_flag']==1][['review_score','delivery_days','estimated_days']]"
   ]
  },
  {
   "cell_type": "code",
   "execution_count": null,
   "id": "c0fb6e55-dca0-4974-ac3a-8a62aea04223",
   "metadata": {},
   "outputs": [],
   "source": [
    "late_days['late_days'] = late_days['delivery_days'] - late_days['estimated_days']"
   ]
  },
  {
   "cell_type": "code",
   "execution_count": null,
   "id": "e088f975-3661-4e8a-9a84-927bb7fa2a12",
   "metadata": {},
   "outputs": [],
   "source": [
    "bins = [0,10,20,30,40,50,60,70,80,90,100,np.inf]\n",
    "late_days['late_days_bin'] = pd.cut(late_days['late_days'],bins)"
   ]
  },
  {
   "cell_type": "code",
   "execution_count": null,
   "id": "df5255a5-846c-4b7d-9ee5-cd1a0d6c3937",
   "metadata": {},
   "outputs": [],
   "source": [
    "late_days.groupby('late_days_bin').review_score.mean().reset_index()"
   ]
  },
  {
   "cell_type": "code",
   "execution_count": null,
   "id": "dcedf059-227f-4356-91bb-1334d9e98416",
   "metadata": {},
   "outputs": [],
   "source": [
    "late_days.late_days_bin.value_counts()"
   ]
  },
  {
   "cell_type": "markdown",
   "id": "89254278-19ed-4504-9162-657538a80208",
   "metadata": {},
   "source": [
    "From the above we can see that the review score is decreasing from 0 to 40 days of late delivery. Strangely, there is an increasing trend from 40 days and above late delivery. There are relatively small count of data for late delivery above 40 days, thus we would assume that the review might not be an accurate representative."
   ]
  },
  {
   "cell_type": "code",
   "execution_count": null,
   "id": "fbc5edb6-941a-4f65-aa78-981b70c8de28",
   "metadata": {},
   "outputs": [],
   "source": []
  },
  {
   "cell_type": "code",
   "execution_count": null,
   "id": "8e5423fd-c360-4e39-80f7-c0b54a24fb17",
   "metadata": {},
   "outputs": [],
   "source": []
  },
  {
   "cell_type": "markdown",
   "id": "d51129c0-62a6-4b36-8bf6-cb3e3ea719c3",
   "metadata": {},
   "source": [
    "## Late Flag based on Delivery Days"
   ]
  },
  {
   "cell_type": "code",
   "execution_count": null,
   "id": "aaa3318f-6304-4bfe-8ea1-d733ed90f3fe",
   "metadata": {},
   "outputs": [],
   "source": [
    "df_corr2[df_corr2['late_flag']==0].delivery_days.max()"
   ]
  },
  {
   "cell_type": "code",
   "execution_count": null,
   "id": "3b85ad21-cf23-4573-abae-07f55a3c92cc",
   "metadata": {},
   "outputs": [],
   "source": [
    "df_corr2[df_corr2['delivery_days']>70].shape[0]/df_corr2.shape[0]"
   ]
  },
  {
   "cell_type": "code",
   "execution_count": null,
   "id": "e43bef5c-49dd-4bc0-b878-98d09215052e",
   "metadata": {},
   "outputs": [],
   "source": [
    "df_corr2[df_corr2['delivery_days']>70].shape[0]/df_corr2[df_corr2['late_flag']==1].shape[0]"
   ]
  },
  {
   "cell_type": "code",
   "execution_count": null,
   "id": "92e4dc4a-fccd-4680-ad3a-7af42bc6998f",
   "metadata": {},
   "outputs": [],
   "source": [
    "sns.boxplot(df_corr2['late_flag'],df_corr2['delivery_days'])\n",
    "plt.savefig('Late Days.png',bbox_inches='tight',facecolor='white')\n",
    "plt.show()"
   ]
  },
  {
   "cell_type": "markdown",
   "id": "5d01efb3-00e1-4acf-b297-038e025af2b8",
   "metadata": {},
   "source": [
    "In addition, we also see that delivery days of 70 and above are all estimated incorrectly. Hence, all products that is delivered beyond 70 days are considered as late delivery. <br>\n",
    "There is also not enough information as to why there are cases with a very long delivery duration. Perhaps one data that could help with this is mode of delivery information (train, ship, flight, etc.). However, there is only 0.1% of such cases in the entire dataset or 2% of the entire late delivery."
   ]
  },
  {
   "cell_type": "code",
   "execution_count": null,
   "id": "699e960f-2b78-4354-b283-df49d43176af",
   "metadata": {},
   "outputs": [],
   "source": []
  },
  {
   "cell_type": "code",
   "execution_count": null,
   "id": "d8e0ea05-704a-4773-aa56-71d3355dd030",
   "metadata": {},
   "outputs": [],
   "source": []
  },
  {
   "cell_type": "code",
   "execution_count": null,
   "id": "ac117cf7-2e41-46cd-96d7-37059b4e0d3f",
   "metadata": {},
   "outputs": [],
   "source": []
  },
  {
   "cell_type": "markdown",
   "id": "be89b5ef-84a3-458e-aba5-760edb77e18e",
   "metadata": {},
   "source": [
    "## Train Test Split"
   ]
  },
  {
   "cell_type": "code",
   "execution_count": null,
   "id": "0f0b5445-78ea-475f-ac53-2a867c703367",
   "metadata": {},
   "outputs": [],
   "source": [
    "df_merge3['delivery_days'] = (df_merge3['order_delivered_customer_date'].dt.date - df_merge3['order_purchase_timestamp'].dt.date).dt.days\n",
    "df_merge3['estimated_days'] = (df_merge3['order_estimated_delivery_date'].dt.date - df_merge3['order_purchase_timestamp'].dt.date).dt.days"
   ]
  },
  {
   "cell_type": "code",
   "execution_count": null,
   "id": "a98d4a75-3e10-4fa2-9a6f-a39bc34b3018",
   "metadata": {},
   "outputs": [],
   "source": [
    "X = df_merge3.drop(['delivery_days','estimated_days','order_delivered_customer_date','order_estimated_delivery_date'],axis=1)"
   ]
  },
  {
   "cell_type": "code",
   "execution_count": null,
   "id": "8d313ee6-3a53-4e1e-a467-44813262a8d1",
   "metadata": {},
   "outputs": [],
   "source": [
    "y = df_merge3[['delivery_days','estimated_days']]"
   ]
  },
  {
   "cell_type": "code",
   "execution_count": null,
   "id": "dba9cb37-3198-4cd0-ab00-360a123c4b3e",
   "metadata": {},
   "outputs": [],
   "source": []
  },
  {
   "cell_type": "markdown",
   "id": "5b035312-26cb-43aa-95b3-3a606e2cb204",
   "metadata": {},
   "source": [
    "We split the data into 80% training and 20% testing"
   ]
  },
  {
   "cell_type": "code",
   "execution_count": null,
   "id": "ed4549b1-43f5-4aee-a46f-9b0ab8d8dc7f",
   "metadata": {},
   "outputs": [],
   "source": [
    "X_train, X_test, y_train, y_test = train_test_split(X, y, train_size=0.8, test_size=0.2, random_state=2022)"
   ]
  },
  {
   "cell_type": "code",
   "execution_count": null,
   "id": "a82cb26e-9061-4bb5-b222-5cc6f48a2a60",
   "metadata": {},
   "outputs": [],
   "source": []
  },
  {
   "cell_type": "code",
   "execution_count": null,
   "id": "ef62782c-3b15-4ec3-9da5-6a0af722873e",
   "metadata": {},
   "outputs": [],
   "source": [
    "# Flag Top 10 Items sold in the app\n",
    "top_products = df.groupby('product_category_name').order_total_price.sum().nlargest(10).index\n",
    "\n",
    "X_train['top_ten'] = np.where(X_train['product_category_name'].isin(top_products), 1, 0)\n",
    "X_test['top_ten'] = np.where(X_test['product_category_name'].isin(top_products), 1, 0)"
   ]
  },
  {
   "cell_type": "code",
   "execution_count": null,
   "id": "d6ce6907-6c2f-4331-9d5e-a0492713892c",
   "metadata": {},
   "outputs": [],
   "source": [
    "# Feature Engineering\n",
    "X_train2 = feature_engineering(X_train)\n",
    "X_test2 = feature_engineering(X_test)"
   ]
  },
  {
   "cell_type": "code",
   "execution_count": null,
   "id": "ac1cac81-b1c2-48fc-8559-4ce89c0f0b19",
   "metadata": {},
   "outputs": [],
   "source": [
    "# Get length before further product categorization\n",
    "train_len = X_train2.shape[1]\n",
    "test_len = X_test2.shape[1]"
   ]
  },
  {
   "cell_type": "code",
   "execution_count": null,
   "id": "85c9d4a5-b474-47e0-9b45-ed5434b25211",
   "metadata": {},
   "outputs": [],
   "source": [
    "# Additional Feature Engineering on Further Product Categorization\n",
    "X_train3 = product_categorization(X_train2)\n",
    "X_test3 = product_categorization(X_test2)"
   ]
  },
  {
   "cell_type": "code",
   "execution_count": null,
   "id": "ba2ad210-e474-4f63-b088-78993aa83df3",
   "metadata": {},
   "outputs": [],
   "source": [
    "# Get length of categorization columns\n",
    "prod_cat_len_train = X_train3.shape[1] - train_len\n",
    "prod_cat_len_test = X_test3.shape[1] - test_len"
   ]
  },
  {
   "cell_type": "code",
   "execution_count": null,
   "id": "7f0bff3b-bce4-4ee6-93b7-0d995a124f12",
   "metadata": {},
   "outputs": [],
   "source": [
    "X_train_before_purchase = X_train3[['seller_order_count', 'distance', 'price', 'freight_value', 'shipping_cost_perc', 'product_weight_g', 'product_length_cm', 'product_height_cm', 'product_width_cm', 'product_size', 'purchase_dow', 'top_ten'] + list(X_train3.columns[-prod_cat_len_train:])]\n",
    "X_train_carrier_received = X_train3[['seller_order_count', 'distance', 'price', 'freight_value', 'shipping_cost_perc', 'product_weight_g', 'product_length_cm', 'product_height_cm', 'product_width_cm', 'product_size', 'purchase_dow', 'order_approval_duration', 'order_carrier_duration', 'top_ten'] + list(X_train3.columns[-prod_cat_len_train:])]"
   ]
  },
  {
   "cell_type": "code",
   "execution_count": null,
   "id": "055f48b2-6051-449d-9d11-87cac2badbe8",
   "metadata": {},
   "outputs": [],
   "source": [
    "X_test_before_purchase = X_test3[['seller_order_count', 'distance', 'price', 'freight_value', 'shipping_cost_perc', 'product_weight_g', 'product_length_cm', 'product_height_cm', 'product_width_cm', 'product_size', 'purchase_dow', 'top_ten'] + list(X_test3.columns[-prod_cat_len_test:])]\n",
    "X_test_carrier_received = X_test3[['seller_order_count', 'distance', 'price', 'freight_value', 'shipping_cost_perc', 'product_weight_g', 'product_length_cm', 'product_height_cm', 'product_width_cm', 'product_size', 'purchase_dow', 'order_approval_duration', 'order_carrier_duration', 'top_ten'] + list(X_test3.columns[-prod_cat_len_test:])]"
   ]
  },
  {
   "cell_type": "code",
   "execution_count": null,
   "id": "ff6abd73-90f2-47ba-aa7d-3216b857f39e",
   "metadata": {},
   "outputs": [],
   "source": []
  },
  {
   "cell_type": "code",
   "execution_count": null,
   "id": "9de4ff81-abbf-4e35-903b-2fe21fd59985",
   "metadata": {},
   "outputs": [],
   "source": []
  },
  {
   "cell_type": "code",
   "execution_count": null,
   "id": "8c80a54d-bf41-423e-957b-4ebfb9cc7b5c",
   "metadata": {},
   "outputs": [],
   "source": []
  },
  {
   "cell_type": "markdown",
   "id": "77a0e581-fb3f-410a-a00c-6d7b455e13dc",
   "metadata": {},
   "source": [
    "## Train Estimated Delivery Duration Model"
   ]
  },
  {
   "cell_type": "markdown",
   "id": "ae21d629-7d30-4c81-a082-029fdd94ca78",
   "metadata": {},
   "source": [
    "### Using Random Forest Regressor"
   ]
  },
  {
   "cell_type": "code",
   "execution_count": null,
   "id": "7d5bdcd2-0bd2-4ba6-9349-1bde38e4ae40",
   "metadata": {},
   "outputs": [],
   "source": []
  },
  {
   "cell_type": "markdown",
   "id": "70273acb-2259-44a3-aadd-34a94b9aef5e",
   "metadata": {},
   "source": [
    "#### Training Steps (run if pickled model is not available, else skip this section)"
   ]
  },
  {
   "cell_type": "code",
   "execution_count": null,
   "id": "ec523c42-4567-4ca4-8264-9f57de80dced",
   "metadata": {},
   "outputs": [],
   "source": [
    "rfr = RandomForestRegressor(n_jobs=-1, random_state=2022)"
   ]
  },
  {
   "cell_type": "code",
   "execution_count": null,
   "id": "8cdf077e-a17d-4216-8cea-89f1d8960e35",
   "metadata": {},
   "outputs": [],
   "source": [
    "rfr.fit(X_train_before_purchase, y_train['delivery_days'])"
   ]
  },
  {
   "cell_type": "code",
   "execution_count": null,
   "id": "213ee816-442f-468d-9880-16bb2620d54a",
   "metadata": {},
   "outputs": [],
   "source": [
    "# Pickle trained model\n",
    "with open(\"RandomForestRegressor.pickle\",\"wb\") as f:\n",
    "    pickle.dump(rfr, f)"
   ]
  },
  {
   "cell_type": "markdown",
   "id": "4cdaf274-191b-4039-8fa6-d2e5e82d99b9",
   "metadata": {},
   "source": [
    "#### End of Training Steps"
   ]
  },
  {
   "cell_type": "code",
   "execution_count": null,
   "id": "4c1d061a-b82f-454f-81cd-21bf25a7dbca",
   "metadata": {},
   "outputs": [],
   "source": []
  },
  {
   "cell_type": "code",
   "execution_count": null,
   "id": "896ac9da-ac63-4cd8-a5bc-7ad94a30df6b",
   "metadata": {},
   "outputs": [],
   "source": []
  },
  {
   "cell_type": "markdown",
   "id": "66a6c2f5-9ce4-4599-9d84-2ca8551d38b5",
   "metadata": {},
   "source": [
    "#### Load Pickled Training Model"
   ]
  },
  {
   "cell_type": "code",
   "execution_count": null,
   "id": "c293784e-06ff-4b65-93f9-2a0e035c3a25",
   "metadata": {},
   "outputs": [],
   "source": [
    "f = open(\"RandomForestRegressor.pickle\",'rb')\n",
    "rfr = pickle.load(f)"
   ]
  },
  {
   "cell_type": "markdown",
   "id": "a53451af-48b2-4629-9534-12653a12146e",
   "metadata": {},
   "source": [
    "#### End of Load Training Model"
   ]
  },
  {
   "cell_type": "code",
   "execution_count": null,
   "id": "7fc7db24-c786-4747-9552-4f12fa399a65",
   "metadata": {},
   "outputs": [],
   "source": []
  },
  {
   "cell_type": "code",
   "execution_count": null,
   "id": "c16272a0-a6f8-4b3b-9bb7-e4c9e41f287c",
   "metadata": {},
   "outputs": [],
   "source": [
    "y_pred = rfr.predict(X_test_before_purchase)"
   ]
  },
  {
   "cell_type": "code",
   "execution_count": null,
   "id": "05fe3dd5-bcb1-42c3-a4a7-00b6c22a3692",
   "metadata": {},
   "outputs": [],
   "source": [
    "res = pd.DataFrame({'actual_days':y_test['delivery_days'], 'estimated_days':y_test['estimated_days'], 'pred_days':y_pred})"
   ]
  },
  {
   "cell_type": "code",
   "execution_count": null,
   "id": "50db128e-6a1d-4a5c-85a6-97f2728a68e4",
   "metadata": {},
   "outputs": [],
   "source": []
  },
  {
   "cell_type": "markdown",
   "id": "0d6a10e3-54ae-4165-81d4-c9005385e7e2",
   "metadata": {},
   "source": [
    "### Compare MAE and RMSE between Prediction Model and Original Estimated Delivery Days"
   ]
  },
  {
   "cell_type": "code",
   "execution_count": null,
   "id": "13565ed1-4ad1-4cb3-8f1e-079bae329f40",
   "metadata": {},
   "outputs": [],
   "source": [
    "mean_absolute_error(y_test['delivery_days'],y_pred)"
   ]
  },
  {
   "cell_type": "code",
   "execution_count": null,
   "id": "cb12d5a4-81ed-4f07-beb8-49db8a3e609d",
   "metadata": {},
   "outputs": [],
   "source": [
    "mean_absolute_error(y_test['delivery_days'],y_test['estimated_days'])"
   ]
  },
  {
   "cell_type": "code",
   "execution_count": null,
   "id": "b3d5e6f8-93b6-461e-bdc4-4bd6748beac1",
   "metadata": {},
   "outputs": [],
   "source": []
  },
  {
   "cell_type": "code",
   "execution_count": null,
   "id": "6a8f1e9e-20c7-4d48-aa86-38fe97e4f53e",
   "metadata": {},
   "outputs": [],
   "source": [
    "mean_squared_error(y_test['delivery_days'],y_pred, squared=False)"
   ]
  },
  {
   "cell_type": "code",
   "execution_count": null,
   "id": "489fea3b-2237-4a07-90f4-04113221572f",
   "metadata": {},
   "outputs": [],
   "source": [
    "mean_squared_error(y_test['delivery_days'],y_test['estimated_days'], squared=False)"
   ]
  },
  {
   "cell_type": "code",
   "execution_count": null,
   "id": "589960e9-d417-4311-9456-b80b157cf583",
   "metadata": {},
   "outputs": [],
   "source": []
  },
  {
   "cell_type": "markdown",
   "id": "b129df50-6483-4762-b716-4eb09433c2ea",
   "metadata": {},
   "source": [
    "From the above result, we can see that our prediction model is able to predict a tighter estimated delivery duration compare to the original estimation days. Our prediction is on average 8 days closer to the actual delivery days."
   ]
  },
  {
   "cell_type": "code",
   "execution_count": null,
   "id": "c0988652-1bd2-4770-b351-7212063c3110",
   "metadata": {},
   "outputs": [],
   "source": []
  },
  {
   "cell_type": "code",
   "execution_count": null,
   "id": "c1ff6eef-256e-4fa5-9cae-481154182b44",
   "metadata": {},
   "outputs": [],
   "source": []
  },
  {
   "cell_type": "code",
   "execution_count": null,
   "id": "247383bd-5da4-4d3e-88bb-020fc178a8d9",
   "metadata": {},
   "outputs": [],
   "source": []
  },
  {
   "cell_type": "markdown",
   "id": "2daf042d-76f4-46d4-ac35-59d49f7c23a8",
   "metadata": {},
   "source": [
    "### Compare % share of Late Delivery between Prediction Model and Original Estimated Delivery Days"
   ]
  },
  {
   "cell_type": "code",
   "execution_count": null,
   "id": "04a61f34-3555-437d-beca-074b1a8e69d7",
   "metadata": {},
   "outputs": [],
   "source": [
    "res['estimated_late'] = np.where(res['actual_days']>res['estimated_days'], 1, 0)\n",
    "res['pred_late'] = np.where(res['actual_days']>res['pred_days'], 1, 0)"
   ]
  },
  {
   "cell_type": "code",
   "execution_count": null,
   "id": "e8c48a90-f1e4-4f30-9d77-fefa545f770e",
   "metadata": {},
   "outputs": [],
   "source": [
    "res.estimated_late.mean(), res.pred_late.mean()"
   ]
  },
  {
   "cell_type": "code",
   "execution_count": null,
   "id": "05195f6a-a287-4ebe-be6d-35d6084f7bfc",
   "metadata": {},
   "outputs": [],
   "source": []
  },
  {
   "cell_type": "markdown",
   "id": "c99d5d0d-cd00-4809-a0b2-7b0e05696cd1",
   "metadata": {},
   "source": [
    "From the above result, we can see that the 37% of the estimated delivery days predicted by prediction model are late. One of the reason is because the prediction model tries to estimate the exact delivery days from both direction without knowing late or early delivery. Because of this, we can add buffer to the predicted days, in our case it is 6 days (MAE is 5 days, so we assume the prediction is +/- 5 days from delivery days)"
   ]
  },
  {
   "cell_type": "code",
   "execution_count": null,
   "id": "61103917-d5a5-424e-81f8-0c43cc50c7fa",
   "metadata": {},
   "outputs": [],
   "source": []
  },
  {
   "cell_type": "code",
   "execution_count": null,
   "id": "2308c64e-fcd6-4fb8-ae9c-791d7895217a",
   "metadata": {},
   "outputs": [],
   "source": []
  },
  {
   "cell_type": "markdown",
   "id": "70d13c53-ffb5-45db-9663-c140af3ca1cc",
   "metadata": {},
   "source": [
    "### Add Buffer to Model Prediction"
   ]
  },
  {
   "cell_type": "code",
   "execution_count": null,
   "id": "96a9e2c5-018f-4aa2-95ad-683c77a5d869",
   "metadata": {},
   "outputs": [],
   "source": [
    "buffer = np.ceil(mean_absolute_error(y_test['delivery_days'],y_pred))"
   ]
  },
  {
   "cell_type": "code",
   "execution_count": null,
   "id": "06c929ff-0889-461e-8a61-471ebd99e9e0",
   "metadata": {},
   "outputs": [],
   "source": [
    "res['pred_late'] = np.where(res['actual_days']>res['pred_days'] + buffer, 1, 0)"
   ]
  },
  {
   "cell_type": "code",
   "execution_count": null,
   "id": "1544e4b8-eca2-4f12-ab7e-25766351f649",
   "metadata": {},
   "outputs": [],
   "source": [
    "res.estimated_late.mean(), res.pred_late.mean()"
   ]
  },
  {
   "cell_type": "code",
   "execution_count": null,
   "id": "42a76df8-fb4c-4024-a267-199db75c2787",
   "metadata": {},
   "outputs": [],
   "source": []
  },
  {
   "cell_type": "code",
   "execution_count": null,
   "id": "b88374b1-13aa-4af6-9b48-bfcb229ddc08",
   "metadata": {},
   "outputs": [],
   "source": [
    "mean_absolute_error(y_test['delivery_days'], y_pred+buffer)"
   ]
  },
  {
   "cell_type": "code",
   "execution_count": null,
   "id": "f44cb86c-8c33-4208-b709-073ac58a3234",
   "metadata": {},
   "outputs": [],
   "source": [
    "mean_squared_error(y_test['delivery_days'], y_pred+buffer, squared=False)"
   ]
  },
  {
   "cell_type": "code",
   "execution_count": null,
   "id": "1f100991-634d-4586-8f73-4e0e1dc614ba",
   "metadata": {},
   "outputs": [],
   "source": []
  },
  {
   "cell_type": "markdown",
   "id": "1670b01e-1213-4e6d-b3d6-dc49fb8f943e",
   "metadata": {},
   "source": [
    "With the additional of buffer, we can see that the late prediction is reduced to only around 12%. However, it is still considered high. Thus, we would like to improve this by predicting late delivery after item is received by carrier.<br>\n",
    "On the other hand, the MAE is still lower by the estimated delivery by 5 days."
   ]
  },
  {
   "cell_type": "code",
   "execution_count": null,
   "id": "2ee6d2a2-a4d0-439f-9ef9-cadc78bd3af1",
   "metadata": {},
   "outputs": [],
   "source": []
  },
  {
   "cell_type": "code",
   "execution_count": null,
   "id": "304e0738-d309-40dd-8efc-4f6520b630c2",
   "metadata": {},
   "outputs": [],
   "source": []
  },
  {
   "cell_type": "code",
   "execution_count": null,
   "id": "7bf5ee5e-7d86-45a2-8757-d4f1a1e66da9",
   "metadata": {},
   "outputs": [],
   "source": []
  },
  {
   "cell_type": "markdown",
   "id": "de824fae-7e1f-431c-b458-c56d4a836069",
   "metadata": {},
   "source": [
    "### Feature Importance"
   ]
  },
  {
   "cell_type": "code",
   "execution_count": null,
   "id": "95c3efb8-3ffc-4b6a-85fe-ea133fadb75f",
   "metadata": {},
   "outputs": [],
   "source": [
    "feature_importance = pd.DataFrame({'feature':rfr.feature_names_in_, 'score':rfr.feature_importances_})"
   ]
  },
  {
   "cell_type": "code",
   "execution_count": null,
   "id": "3a3ee3c9-0451-4c09-af74-e328457bfc61",
   "metadata": {},
   "outputs": [],
   "source": [
    "feature_importance.sort_values('score',ascending=False).head(10)"
   ]
  },
  {
   "cell_type": "code",
   "execution_count": null,
   "id": "919fb20f-aacd-4914-b527-f7d4407e01fd",
   "metadata": {},
   "outputs": [],
   "source": []
  },
  {
   "cell_type": "markdown",
   "id": "cd6c5ac2-87f5-4c35-bb50-d8384862858b",
   "metadata": {},
   "source": [
    "From the above feature importance, we can see that distance is the main factor on how delivery duration is being estimated. Then, it is followd by freight value and shipping cost percentage. These two factors are related to the cost of freight, the more expensive it is, the more premium the delivery method."
   ]
  },
  {
   "cell_type": "code",
   "execution_count": null,
   "id": "69e47c68-7298-4563-9b68-e4b4533083a3",
   "metadata": {},
   "outputs": [],
   "source": []
  },
  {
   "cell_type": "code",
   "execution_count": null,
   "id": "0374e199-896f-4776-979c-e1c5c1ce39db",
   "metadata": {},
   "outputs": [],
   "source": []
  },
  {
   "cell_type": "code",
   "execution_count": null,
   "id": "bb7cc186-422b-4c03-911d-c4dfb9ca19be",
   "metadata": {},
   "outputs": [],
   "source": []
  },
  {
   "cell_type": "markdown",
   "id": "eff253c3-7c2a-4e21-a5d8-623db80d7c1d",
   "metadata": {},
   "source": [
    "### Using XGBoost Regressor"
   ]
  },
  {
   "cell_type": "code",
   "execution_count": null,
   "id": "2438cdb0-2663-42cf-bc9c-be206119f2bf",
   "metadata": {},
   "outputs": [],
   "source": [
    "import xgboost as xgb"
   ]
  },
  {
   "cell_type": "code",
   "execution_count": null,
   "id": "003aa566-4639-4c39-8113-99733d71308d",
   "metadata": {},
   "outputs": [],
   "source": [
    "xg_reg = xgb.XGBRegressor()"
   ]
  },
  {
   "cell_type": "code",
   "execution_count": null,
   "id": "1908d3d4-9670-41e7-9b1a-9d76cc572bf3",
   "metadata": {},
   "outputs": [],
   "source": [
    "xg_reg.fit(X_train_before_purchase, y_train['delivery_days'])"
   ]
  },
  {
   "cell_type": "code",
   "execution_count": null,
   "id": "86bffe84-4a27-48e4-b55f-511d756ac6ca",
   "metadata": {},
   "outputs": [],
   "source": [
    "y_pred_xgb = xg_reg.predict(X_test_before_purchase)"
   ]
  },
  {
   "cell_type": "code",
   "execution_count": null,
   "id": "0a49bb94-2447-4046-9dae-1b5bbd5642e8",
   "metadata": {},
   "outputs": [],
   "source": []
  },
  {
   "cell_type": "markdown",
   "id": "fd654239-e40d-491f-adc8-61b50c6ec162",
   "metadata": {},
   "source": [
    "### Compare MAE and RMSE between Prediction Model and Original Estimated Delivery Days"
   ]
  },
  {
   "cell_type": "code",
   "execution_count": null,
   "id": "fb00a208-7190-4722-bd28-f566b5d0b475",
   "metadata": {},
   "outputs": [],
   "source": [
    "res['pred_days_xgb'] = y_pred_xgb"
   ]
  },
  {
   "cell_type": "code",
   "execution_count": null,
   "id": "88a80413-71e7-4250-83a0-7429cc47fb5f",
   "metadata": {},
   "outputs": [],
   "source": [
    "mean_absolute_error(y_test['delivery_days'],y_pred_xgb)"
   ]
  },
  {
   "cell_type": "code",
   "execution_count": null,
   "id": "4e35c6db-6fcc-44ce-ad46-0ef430307092",
   "metadata": {},
   "outputs": [],
   "source": [
    "mean_squared_error(y_test['delivery_days'],y_pred_xgb, squared=False)"
   ]
  },
  {
   "cell_type": "code",
   "execution_count": null,
   "id": "eb27a2af-aa41-434c-9233-9c141ccee98e",
   "metadata": {},
   "outputs": [],
   "source": []
  },
  {
   "cell_type": "code",
   "execution_count": null,
   "id": "2ddf5749-0634-4125-bb2c-690b767cc02d",
   "metadata": {},
   "outputs": [],
   "source": []
  },
  {
   "cell_type": "markdown",
   "id": "93df593e-1f33-4f14-966e-67e0657b5e7f",
   "metadata": {},
   "source": [
    "### Compare % share of Late Delivery between Prediction Model and Original Estimated Delivery Days"
   ]
  },
  {
   "cell_type": "code",
   "execution_count": null,
   "id": "c12fc9c9-a414-47d7-916b-31c1d391f636",
   "metadata": {},
   "outputs": [],
   "source": [
    "res['pred_late_xgb'] = np.where(res['actual_days']>res['pred_days_xgb'], 1, 0)"
   ]
  },
  {
   "cell_type": "code",
   "execution_count": null,
   "id": "6e585434-4493-421f-85a3-1e3bb522bea3",
   "metadata": {},
   "outputs": [],
   "source": [
    "res.estimated_late.mean(), res.pred_late_xgb.mean()"
   ]
  },
  {
   "cell_type": "code",
   "execution_count": null,
   "id": "e1553db2-55f1-41b9-8cf1-b1266a4d3664",
   "metadata": {},
   "outputs": [],
   "source": []
  },
  {
   "cell_type": "code",
   "execution_count": null,
   "id": "e98d3384-3705-4551-964d-464800489863",
   "metadata": {},
   "outputs": [],
   "source": []
  },
  {
   "cell_type": "markdown",
   "id": "06b290db-37b9-4937-9caa-001ca02061e3",
   "metadata": {},
   "source": [
    "### Add Buffer to Model Prediction"
   ]
  },
  {
   "cell_type": "code",
   "execution_count": null,
   "id": "94f34beb-86e0-41a8-876f-7f04e3fdd4ef",
   "metadata": {},
   "outputs": [],
   "source": [
    "buffer = np.ceil(mean_absolute_error(y_test['delivery_days'],y_pred_xgb))"
   ]
  },
  {
   "cell_type": "code",
   "execution_count": null,
   "id": "b8a05475-9915-4744-a98a-bcb0a7755c64",
   "metadata": {},
   "outputs": [],
   "source": [
    "mean_absolute_error(y_test['delivery_days'],y_pred_xgb+buffer)"
   ]
  },
  {
   "cell_type": "code",
   "execution_count": null,
   "id": "9fe73d0c-4b2b-43be-81b9-9a209f485ea2",
   "metadata": {},
   "outputs": [],
   "source": [
    "mean_squared_error(y_test['delivery_days'],y_pred_xgb+buffer, squared=False)"
   ]
  },
  {
   "cell_type": "code",
   "execution_count": null,
   "id": "18a112bf-d7cc-45ab-aaa4-f41ad3afc35d",
   "metadata": {},
   "outputs": [],
   "source": [
    "res['pred_late_xgb'] = np.where(res['actual_days']>res['pred_days_xgb'] + buffer, 1, 0)"
   ]
  },
  {
   "cell_type": "code",
   "execution_count": null,
   "id": "639d2aa0-14fa-4d0c-9dde-3c4ef6605356",
   "metadata": {},
   "outputs": [],
   "source": [
    "res.estimated_late.mean(), res.pred_late_xgb.mean()"
   ]
  },
  {
   "cell_type": "code",
   "execution_count": null,
   "id": "c749102c-92d9-412d-88ae-c383c2e75fa6",
   "metadata": {},
   "outputs": [],
   "source": []
  },
  {
   "cell_type": "markdown",
   "id": "1de7118c-54b6-4e7c-b106-955b5ee8605e",
   "metadata": {},
   "source": [
    "As we can see, the result is slightly worse than Random Forest model, hence we will use Random Forest model as our predictor."
   ]
  },
  {
   "cell_type": "code",
   "execution_count": null,
   "id": "860dd667-5292-4125-a7da-1e65a1dfb3d5",
   "metadata": {},
   "outputs": [],
   "source": []
  },
  {
   "cell_type": "code",
   "execution_count": null,
   "id": "1676b770-f644-41e7-ae92-cd6a798363ec",
   "metadata": {},
   "outputs": [],
   "source": []
  },
  {
   "cell_type": "code",
   "execution_count": null,
   "id": "73684963-ffb0-43a0-a8c8-3d091e2be09c",
   "metadata": {},
   "outputs": [],
   "source": [
    "feature_importance_xg_reg = pd.DataFrame({'feature':xg_reg.feature_names_in_, 'score':xg_reg.feature_importances_})"
   ]
  },
  {
   "cell_type": "code",
   "execution_count": null,
   "id": "72f4d5e1-cbed-4459-b325-62e8dd2a9b27",
   "metadata": {},
   "outputs": [],
   "source": [
    "feature_importance_xg_reg.sort_values('score',ascending=False).head(10)"
   ]
  },
  {
   "cell_type": "code",
   "execution_count": null,
   "id": "2278eb3f-38f6-48a1-86cf-30b84735f66a",
   "metadata": {},
   "outputs": [],
   "source": []
  },
  {
   "cell_type": "markdown",
   "id": "9dcb5c5a-90c7-452b-83c7-1b15a66764cf",
   "metadata": {},
   "source": [
    "We can also see that distance is the main factor of how delivery duration is being estimated. However, hobby_entertainment comes next and it difficult to justify why this is so. Hence, we will proceed with Random Forest as our predictor."
   ]
  },
  {
   "cell_type": "code",
   "execution_count": null,
   "id": "57f13f56-6f3d-436e-8799-0d16e599a925",
   "metadata": {},
   "outputs": [],
   "source": []
  },
  {
   "cell_type": "code",
   "execution_count": null,
   "id": "823a8737-bfbf-4f08-97be-e77984a72a98",
   "metadata": {},
   "outputs": [],
   "source": []
  },
  {
   "cell_type": "code",
   "execution_count": null,
   "id": "86d1f1d7-4dbb-4b6a-b16a-90621e9d9939",
   "metadata": {},
   "outputs": [],
   "source": []
  },
  {
   "cell_type": "code",
   "execution_count": null,
   "id": "69758b82-f2ce-495d-b057-b78e2a5c69bb",
   "metadata": {},
   "outputs": [],
   "source": []
  },
  {
   "cell_type": "code",
   "execution_count": null,
   "id": "195421f4-f26c-4616-8bef-dcc42247956f",
   "metadata": {},
   "outputs": [],
   "source": []
  },
  {
   "cell_type": "markdown",
   "id": "5e191345-2579-4ce1-93ab-f6353e2536d9",
   "metadata": {},
   "source": [
    "## Late Prediction After Carrier Received"
   ]
  },
  {
   "cell_type": "markdown",
   "id": "5b533ec0-3b2f-452e-95e3-c9c94d0614a7",
   "metadata": {},
   "source": [
    "### Using Random Forest Classifier"
   ]
  },
  {
   "cell_type": "code",
   "execution_count": null,
   "id": "bc334a16-a077-4eaf-8446-2fd15fdfd8b7",
   "metadata": {},
   "outputs": [],
   "source": [
    "# Assuming estimated days are the predicted days for now\n",
    "y_train['late'] = np.where(y_train['delivery_days'] > y_train['estimated_days'], 1, 0)"
   ]
  },
  {
   "cell_type": "code",
   "execution_count": null,
   "id": "2a16f176-29aa-4be8-9278-cc1f189d4d82",
   "metadata": {},
   "outputs": [],
   "source": []
  },
  {
   "cell_type": "markdown",
   "id": "c41a723f-5884-4eeb-99ff-c4d72d82e9aa",
   "metadata": {},
   "source": [
    "#### Training Steps (run if pickled model is not available, else skip this section)"
   ]
  },
  {
   "cell_type": "code",
   "execution_count": null,
   "id": "e29781b0-690d-444d-9150-649ec1c2c2fe",
   "metadata": {},
   "outputs": [],
   "source": [
    "rfc = RandomForestClassifier(random_state=2022)"
   ]
  },
  {
   "cell_type": "code",
   "execution_count": null,
   "id": "7026c6a0-f7fd-4704-b86a-dcdcf52cb9ac",
   "metadata": {},
   "outputs": [],
   "source": [
    "#rfc.fit(X_train_carrier_received, y_train['late'])\n",
    "rfc.fit(X_test_carrier_received, res['pred_late'])"
   ]
  },
  {
   "cell_type": "code",
   "execution_count": null,
   "id": "611409d6-025e-4bd1-b639-34e29dcedd7f",
   "metadata": {},
   "outputs": [],
   "source": [
    "# Pickle trained model\n",
    "with open(\"RandomForestClassifier_carrier.pickle\",\"wb\") as f:\n",
    "    pickle.dump(rfc, f)"
   ]
  },
  {
   "cell_type": "markdown",
   "id": "225937ba-c837-4735-84cc-e6d80191cbc2",
   "metadata": {},
   "source": [
    "#### End of Training Steps"
   ]
  },
  {
   "cell_type": "code",
   "execution_count": null,
   "id": "c4d11812-d96b-41ff-80f2-336ab5471e7b",
   "metadata": {},
   "outputs": [],
   "source": []
  },
  {
   "cell_type": "markdown",
   "id": "ead110a4-5f60-4e63-9a32-33c266d3d7c0",
   "metadata": {},
   "source": [
    "#### Load Pickled Training Model"
   ]
  },
  {
   "cell_type": "code",
   "execution_count": null,
   "id": "b219880c-2c25-473f-8a9d-891a33992e6f",
   "metadata": {},
   "outputs": [],
   "source": [
    "f = open(\"RandomForestClassifier_carrier.pickle\",'rb')\n",
    "rfc = pickle.load(f)"
   ]
  },
  {
   "cell_type": "markdown",
   "id": "ab39e3e2-e57e-4211-9f4c-cb3f90c1ca45",
   "metadata": {},
   "source": [
    "#### End of Load Training Model"
   ]
  },
  {
   "cell_type": "code",
   "execution_count": null,
   "id": "4224af80-f008-44e0-bd17-d9ec6728bce4",
   "metadata": {},
   "outputs": [],
   "source": []
  },
  {
   "cell_type": "code",
   "execution_count": null,
   "id": "c77e87c0-5b34-4a10-93de-e0899ec569bb",
   "metadata": {},
   "outputs": [],
   "source": []
  },
  {
   "cell_type": "markdown",
   "id": "f59f1c59-cec8-4f56-af6c-501b9a731f05",
   "metadata": {},
   "source": [
    "### Predict Late Delivery"
   ]
  },
  {
   "cell_type": "code",
   "execution_count": null,
   "id": "a47db2bd-a7b5-46a8-8e30-3273dd5bbc7a",
   "metadata": {},
   "outputs": [],
   "source": [
    "y_pred_late = rfc.predict(X_test_carrier_received)"
   ]
  },
  {
   "cell_type": "code",
   "execution_count": null,
   "id": "2c0f0544-54b5-4595-a308-2909a9c9d617",
   "metadata": {},
   "outputs": [],
   "source": [
    "y_pred_late.sum()"
   ]
  },
  {
   "cell_type": "code",
   "execution_count": null,
   "id": "a796bc39-b6b3-4e34-a1d8-81f5a3762629",
   "metadata": {},
   "outputs": [],
   "source": []
  },
  {
   "cell_type": "markdown",
   "id": "fc140c45-7ebd-46fb-8543-81ea84389d8d",
   "metadata": {},
   "source": [
    "Note that the number of predicted late delivery is relatively low due to low number of deliveries from the source (imbalance data)."
   ]
  },
  {
   "cell_type": "code",
   "execution_count": null,
   "id": "b3a6da48-4ea1-4b98-b111-abc24274ba75",
   "metadata": {},
   "outputs": [],
   "source": []
  },
  {
   "cell_type": "code",
   "execution_count": null,
   "id": "c626c4ce-6c7e-4104-857d-70d170f5b2af",
   "metadata": {},
   "outputs": [],
   "source": []
  },
  {
   "cell_type": "markdown",
   "id": "313b37e9-6e51-4629-8a67-1f69842c5156",
   "metadata": {},
   "source": [
    "In the following case, we would like to implement a strategy to send early notification to inform customer regarding the late delivery. We could also send a voucher to the customer to minimize the damage. With this, we hope that the customer expectation could be readjusted and thus improve customer review score."
   ]
  },
  {
   "cell_type": "code",
   "execution_count": null,
   "id": "7935cd7f-0163-4d2c-9e84-961da70127d2",
   "metadata": {},
   "outputs": [],
   "source": [
    "res['pred_late_flag'] = y_pred_late"
   ]
  },
  {
   "cell_type": "code",
   "execution_count": null,
   "id": "c5930d85-6f5b-4978-bea4-ee7cea9be26e",
   "metadata": {},
   "outputs": [],
   "source": []
  },
  {
   "cell_type": "code",
   "execution_count": null,
   "id": "b13140b4-0155-461e-939b-cb9a25887f9c",
   "metadata": {},
   "outputs": [],
   "source": [
    "# For all pred late flag, customer will be informed for the delay\n",
    "res['pred_days_adjusted'] = np.where(res['pred_late_flag']==1, res['actual_days'], res['pred_days']+buffer)"
   ]
  },
  {
   "cell_type": "code",
   "execution_count": null,
   "id": "81c2ec7a-ed73-4972-982d-865b16c9d3f7",
   "metadata": {},
   "outputs": [],
   "source": [
    "# If we add x days to predicted days\n",
    "np.where(res['actual_days']>np.ceil(res['pred_days_adjusted']), 1, 0).mean()"
   ]
  },
  {
   "cell_type": "code",
   "execution_count": null,
   "id": "3251d72c-1ab7-4eb7-a61c-f2d7cf69d19b",
   "metadata": {},
   "outputs": [],
   "source": []
  },
  {
   "cell_type": "markdown",
   "id": "20c6fd78-2bca-4bc8-8fbb-c51ad7ebf4f5",
   "metadata": {},
   "source": [
    "With the above implementation, we could achieve late rate of just below 10%. Although this is still slightly higher than the original estimated delivery, but we manage to strike a balance between the estimated delivery days and late orders."
   ]
  },
  {
   "cell_type": "code",
   "execution_count": null,
   "id": "f2019921-0ca4-453f-acd4-efcf979c5f6f",
   "metadata": {},
   "outputs": [],
   "source": []
  },
  {
   "cell_type": "code",
   "execution_count": null,
   "id": "e449b52a-6f7e-41fc-af03-169fab732840",
   "metadata": {},
   "outputs": [],
   "source": []
  },
  {
   "cell_type": "code",
   "execution_count": null,
   "id": "643074f0-5331-411a-8661-32e5ff52c426",
   "metadata": {},
   "outputs": [],
   "source": []
  },
  {
   "cell_type": "code",
   "execution_count": null,
   "id": "2f1456ae-f4f8-416c-bb3e-1da66d05c00e",
   "metadata": {},
   "outputs": [],
   "source": []
  },
  {
   "cell_type": "code",
   "execution_count": null,
   "id": "51a1383e-5d4c-486b-91c6-a3218a159f3a",
   "metadata": {},
   "outputs": [],
   "source": []
  },
  {
   "cell_type": "markdown",
   "id": "cc602d7f-4630-45d3-a2db-d9cf6a9c560b",
   "metadata": {},
   "source": [
    "### Using XGBoost Classifier"
   ]
  },
  {
   "cell_type": "code",
   "execution_count": null,
   "id": "9dfd4011-50af-4376-8bdd-f0ef37531fcb",
   "metadata": {},
   "outputs": [],
   "source": [
    "xg_cls = xgb.XGBClassifier()"
   ]
  },
  {
   "cell_type": "code",
   "execution_count": null,
   "id": "0b0b0795-437b-4570-82d1-c5c5ae984ee3",
   "metadata": {},
   "outputs": [],
   "source": [
    "xg_cls.fit(X_train_carrier_received, y_train['late'])"
   ]
  },
  {
   "cell_type": "code",
   "execution_count": null,
   "id": "93a47fa6-ec0b-452e-8b31-bd94f65cd2f8",
   "metadata": {},
   "outputs": [],
   "source": []
  },
  {
   "cell_type": "markdown",
   "id": "c6d2fbca-2698-431e-833d-dff855cdee1c",
   "metadata": {},
   "source": [
    "### Predict Late Delivery"
   ]
  },
  {
   "cell_type": "code",
   "execution_count": null,
   "id": "427f7959-017d-4729-a29d-4503df80625b",
   "metadata": {},
   "outputs": [],
   "source": [
    "y_pred_late_xgb = xg_cls.predict(X_test_carrier_received)"
   ]
  },
  {
   "cell_type": "code",
   "execution_count": null,
   "id": "6accbe34-975c-4d92-81c0-b13e292fb0c2",
   "metadata": {},
   "outputs": [],
   "source": [
    "y_pred_late_xgb.sum()"
   ]
  },
  {
   "cell_type": "code",
   "execution_count": null,
   "id": "450aa74c-7d1e-4d7a-89b5-1e45f9cceba7",
   "metadata": {},
   "outputs": [],
   "source": []
  },
  {
   "cell_type": "code",
   "execution_count": null,
   "id": "4dbd3b4e-459e-409e-a966-bf6871e6490c",
   "metadata": {},
   "outputs": [],
   "source": [
    "res['pred_late_flag_xgb'] = y_pred_late_xgb"
   ]
  },
  {
   "cell_type": "code",
   "execution_count": null,
   "id": "addd8ec4-75c9-43f0-aec1-bee5a2989518",
   "metadata": {},
   "outputs": [],
   "source": []
  },
  {
   "cell_type": "code",
   "execution_count": null,
   "id": "af5a57ca-4400-451b-97e6-2768e0c835ac",
   "metadata": {},
   "outputs": [],
   "source": [
    "# For all pred late flag, customer will be informed for the delay\n",
    "res['pred_days_adjusted_xgb'] = np.where(res['pred_late_flag_xgb']==1, res['actual_days'], res['pred_days_xgb']+buffer)"
   ]
  },
  {
   "cell_type": "code",
   "execution_count": null,
   "id": "f0ef8afa-d96d-4f87-a4c7-b78933811b93",
   "metadata": {},
   "outputs": [],
   "source": [
    "# If we add x days to predicted days\n",
    "np.where(res['actual_days']>np.ceil(res['pred_days_adjusted_xgb']), 1, 0).mean()"
   ]
  },
  {
   "cell_type": "code",
   "execution_count": null,
   "id": "7f6c6189-d24e-4115-9b44-0ed06fffd491",
   "metadata": {},
   "outputs": [],
   "source": []
  },
  {
   "cell_type": "markdown",
   "id": "321368ad-74c3-4e34-b7c1-ecb2d3dfa6bf",
   "metadata": {},
   "source": [
    "Using XGBoost, the late rate is still hovering around 11%-12% and thus is inferior compare to Random Forest model. Thus, we will use the Random Foreset as our predictor for late prediction as well."
   ]
  },
  {
   "cell_type": "code",
   "execution_count": null,
   "id": "f34cecdb-d1be-4800-b93d-7e594cf51ff0",
   "metadata": {},
   "outputs": [],
   "source": []
  },
  {
   "cell_type": "code",
   "execution_count": null,
   "id": "20f1f030-59cd-45f9-9f3c-7ac7b2606e6c",
   "metadata": {},
   "outputs": [],
   "source": []
  },
  {
   "cell_type": "code",
   "execution_count": null,
   "id": "b0bdd124-69d8-4262-8bb2-1d0322b84bb7",
   "metadata": {},
   "outputs": [],
   "source": []
  },
  {
   "cell_type": "code",
   "execution_count": null,
   "id": "25f739da-ccbc-4a1a-b1d4-7901aab66f64",
   "metadata": {},
   "outputs": [],
   "source": []
  },
  {
   "cell_type": "code",
   "execution_count": null,
   "id": "9fbec2a4-e42a-4f5a-a8f8-c03bfe22358b",
   "metadata": {},
   "outputs": [],
   "source": []
  },
  {
   "cell_type": "markdown",
   "id": "bf601311-6d8f-4e4f-b6c7-a1658c551d21",
   "metadata": {},
   "source": [
    "## Add F1 / F2 score ???"
   ]
  },
  {
   "cell_type": "code",
   "execution_count": null,
   "id": "eabf5c36-5fba-4567-bcc7-13e2bcc68721",
   "metadata": {},
   "outputs": [],
   "source": [
    "rf_late = np.where(res['actual_days']>np.ceil(res['pred_days_adjusted']), 1, 0)"
   ]
  },
  {
   "cell_type": "code",
   "execution_count": null,
   "id": "257564e8-d3ed-4ac9-b4eb-772812043176",
   "metadata": {},
   "outputs": [],
   "source": [
    "fbeta_score(res['estimated_late'], rf_late, beta=1)"
   ]
  },
  {
   "cell_type": "code",
   "execution_count": null,
   "id": "05f98829-390e-4879-95d0-47b7d49a40c5",
   "metadata": {},
   "outputs": [],
   "source": [
    "fbeta_score(res['estimated_late'], rf_late, beta=2)"
   ]
  },
  {
   "cell_type": "code",
   "execution_count": null,
   "id": "fb0645f4-41c6-4ec5-be20-acaae2bc50d7",
   "metadata": {},
   "outputs": [],
   "source": []
  },
  {
   "cell_type": "markdown",
   "id": "b08cb08b-cfc7-403c-a60e-9a9352497986",
   "metadata": {},
   "source": [
    "We also measure the F1 and F2 score. F1 score measures the Harmonic Mean where Precision and Recall are equally weighted, while F2 score measures Harmonic Mean where Recall is being weighted heavier compared to Precision. From the above, we can see that the F1 and F2 score is 59% and 71% respectively."
   ]
  },
  {
   "cell_type": "markdown",
   "id": "c2a2bc2a-c8a2-4e9f-8fdb-185549b4fb03",
   "metadata": {},
   "source": [
    "Precision: Measuring how many late prediction is correctly predicted<br>\n",
    "Recall: Measuring how many actual late is predicted correctly"
   ]
  },
  {
   "cell_type": "code",
   "execution_count": null,
   "id": "fbe89e69-19bf-49bd-b056-ce8be8ef037c",
   "metadata": {},
   "outputs": [],
   "source": []
  },
  {
   "cell_type": "code",
   "execution_count": null,
   "id": "f387d022-b478-4bbb-a93b-b17e124c7cdc",
   "metadata": {},
   "outputs": [],
   "source": []
  },
  {
   "cell_type": "code",
   "execution_count": null,
   "id": "f51cc55f-f066-4d0c-b0f5-56294f85c2f1",
   "metadata": {},
   "outputs": [],
   "source": [
    "precision_score(res['estimated_late'], res['pred_late_flag'])"
   ]
  },
  {
   "cell_type": "code",
   "execution_count": null,
   "id": "4f0c58b3-54e3-4296-aa6e-5506ce3abcd1",
   "metadata": {},
   "outputs": [],
   "source": [
    "recall_score(res['estimated_late'], res['pred_late_flag'])"
   ]
  },
  {
   "cell_type": "code",
   "execution_count": null,
   "id": "1e9b6b03-c774-4439-b69c-b127dc73aca6",
   "metadata": {},
   "outputs": [],
   "source": [
    "fbeta_score(res['estimated_late'], res['pred_late_flag'], beta=1)"
   ]
  },
  {
   "cell_type": "code",
   "execution_count": null,
   "id": "0ab2e30b-15cc-428d-8a63-fae90abcee1f",
   "metadata": {},
   "outputs": [],
   "source": [
    "fbeta_score(res['estimated_late'], res['pred_late_flag'], beta=2)"
   ]
  },
  {
   "cell_type": "code",
   "execution_count": null,
   "id": "e3601e70-35c5-45c6-8efb-119967894c43",
   "metadata": {},
   "outputs": [],
   "source": []
  },
  {
   "cell_type": "code",
   "execution_count": null,
   "id": "c73ae721-4243-481a-81fc-1530a0d2cab7",
   "metadata": {},
   "outputs": [],
   "source": []
  },
  {
   "cell_type": "code",
   "execution_count": null,
   "id": "7d341d31-d079-4160-996a-09f166b1ff0c",
   "metadata": {},
   "outputs": [],
   "source": []
  },
  {
   "cell_type": "code",
   "execution_count": null,
   "id": "80d1f455-d76e-4485-9411-652232346424",
   "metadata": {},
   "outputs": [],
   "source": []
  },
  {
   "cell_type": "code",
   "execution_count": null,
   "id": "75aeed93-70a3-437c-a91f-3ffe6c4d4c00",
   "metadata": {},
   "outputs": [],
   "source": []
  },
  {
   "cell_type": "code",
   "execution_count": null,
   "id": "665a15b7-7706-45e1-b3ec-003250a29089",
   "metadata": {},
   "outputs": [],
   "source": []
  },
  {
   "cell_type": "code",
   "execution_count": null,
   "id": "1fa71a70-1fe1-49d8-bf95-2aef4cc4404e",
   "metadata": {},
   "outputs": [],
   "source": []
  },
  {
   "cell_type": "code",
   "execution_count": null,
   "id": "c4253826-c002-4a5b-a541-baeba602867a",
   "metadata": {},
   "outputs": [],
   "source": []
  },
  {
   "cell_type": "code",
   "execution_count": null,
   "id": "4b1548ac-08ad-4779-aeab-ec8f8ec54c14",
   "metadata": {},
   "outputs": [],
   "source": []
  },
  {
   "cell_type": "markdown",
   "id": "6ac6b93d-643f-4d29-acd9-6fd959f14297",
   "metadata": {},
   "source": [
    "## Late Prediction After Carrier Received with Model Prediction Data (Check)"
   ]
  },
  {
   "cell_type": "markdown",
   "id": "2a105f78-64c0-4df0-bfa3-4b5303271e11",
   "metadata": {},
   "source": [
    "### Using Random Forest Classifier"
   ]
  },
  {
   "cell_type": "code",
   "execution_count": null,
   "id": "5e04df92-3498-4cb6-84d2-df98853b8cf4",
   "metadata": {},
   "outputs": [],
   "source": [
    "new_train_cls = pd.concat([X_test_carrier_received, res['pred_late']],axis=1)"
   ]
  },
  {
   "cell_type": "code",
   "execution_count": null,
   "id": "bfbadb62-cada-4dcc-aed5-50b7bc4c9d30",
   "metadata": {},
   "outputs": [],
   "source": [
    "new_train_cls.columns"
   ]
  },
  {
   "cell_type": "code",
   "execution_count": null,
   "id": "2084ba68-e25a-4564-9bd0-5c6596f3331c",
   "metadata": {},
   "outputs": [],
   "source": [
    "new_X = new_train_cls.drop('pred_late',axis=1)\n",
    "new_y = new_train_cls['pred_late']"
   ]
  },
  {
   "cell_type": "code",
   "execution_count": null,
   "id": "db5aeda4-4cfe-4f7b-a4a3-8c1eed377d79",
   "metadata": {},
   "outputs": [],
   "source": [
    "new_X_train, new_X_test, new_y_train, new_y_test = train_test_split(new_X, new_y, train_size=0.8, test_size=0.2, random_state=2022)"
   ]
  },
  {
   "cell_type": "code",
   "execution_count": null,
   "id": "a0b71abe-b830-4ef8-98df-5360a39b4239",
   "metadata": {},
   "outputs": [],
   "source": []
  },
  {
   "cell_type": "markdown",
   "id": "690e6c43-02ae-4e36-a61d-05504accadd5",
   "metadata": {},
   "source": [
    "#### Training Steps (run if pickled model is not available, else skip this section)"
   ]
  },
  {
   "cell_type": "code",
   "execution_count": null,
   "id": "ed600a29-ef83-41a7-a363-9e4694465ca8",
   "metadata": {},
   "outputs": [],
   "source": [
    "rfc = RandomForestClassifier(random_state=2022)"
   ]
  },
  {
   "cell_type": "code",
   "execution_count": null,
   "id": "e8a1bb74-9ee5-42da-93e3-22754e67be3d",
   "metadata": {},
   "outputs": [],
   "source": [
    "#rfc.fit(X_train_carrier_received, y_train['late'])\n",
    "rfc.fit(new_X_train, new_y_train)"
   ]
  },
  {
   "cell_type": "code",
   "execution_count": null,
   "id": "7542badc-50e6-4b7f-814d-93a7e61ae805",
   "metadata": {},
   "outputs": [],
   "source": [
    "# Pickle trained model\n",
    "with open(\"RandomForestClassifier_carrier_new.pickle\",\"wb\") as f:\n",
    "    pickle.dump(rfc, f)"
   ]
  },
  {
   "cell_type": "markdown",
   "id": "d4f8fcf1-8a72-45d1-a0c0-b7daf8c3f0bc",
   "metadata": {},
   "source": [
    "#### End of Training Steps"
   ]
  },
  {
   "cell_type": "code",
   "execution_count": null,
   "id": "a43e5c06-acf7-4425-8e5e-0c7938e5d3bb",
   "metadata": {},
   "outputs": [],
   "source": []
  },
  {
   "cell_type": "markdown",
   "id": "5fbca167-3bf1-493c-9bf9-c21bc701fbb2",
   "metadata": {},
   "source": [
    "#### Load Pickled Training Model"
   ]
  },
  {
   "cell_type": "code",
   "execution_count": null,
   "id": "bcec9849-6621-4555-a7d6-982180c00297",
   "metadata": {},
   "outputs": [],
   "source": [
    "f = open(\"RandomForestClassifier_carrier.pickle\",'rb')\n",
    "rfc = pickle.load(f)"
   ]
  },
  {
   "cell_type": "markdown",
   "id": "e405eb0f-2dcb-4e10-aed1-096f9af00dff",
   "metadata": {},
   "source": [
    "#### End of Load Training Model"
   ]
  },
  {
   "cell_type": "code",
   "execution_count": null,
   "id": "d4c1170c-e09f-48ef-a5d8-266191f0f4ef",
   "metadata": {},
   "outputs": [],
   "source": []
  },
  {
   "cell_type": "code",
   "execution_count": null,
   "id": "3f3693db-fbd4-4e3d-a8f1-dead80d20f21",
   "metadata": {},
   "outputs": [],
   "source": []
  },
  {
   "cell_type": "markdown",
   "id": "d36df3fd-eb1c-42fb-ac5e-13bf8749d29f",
   "metadata": {},
   "source": [
    "### Predict Late Delivery"
   ]
  },
  {
   "cell_type": "code",
   "execution_count": null,
   "id": "c89f67b5-3991-436f-bc34-d475f2097e2e",
   "metadata": {},
   "outputs": [],
   "source": [
    "new_y_pred_late = rfc.predict(new_X_test)"
   ]
  },
  {
   "cell_type": "code",
   "execution_count": null,
   "id": "296aa7b3-55ff-4f06-8fd6-b8017979b1b4",
   "metadata": {},
   "outputs": [],
   "source": [
    "new_y_pred_late.sum()"
   ]
  },
  {
   "cell_type": "code",
   "execution_count": null,
   "id": "5217e5c1-66ce-4808-8093-c5c0cd9544cd",
   "metadata": {},
   "outputs": [],
   "source": [
    "fbeta_score(new_y_test, new_y_pred_late, beta=1)"
   ]
  },
  {
   "cell_type": "code",
   "execution_count": null,
   "id": "a1349b6c-cbde-49cd-b0b0-eda978bd8a44",
   "metadata": {},
   "outputs": [],
   "source": [
    "fbeta_score(new_y_test, new_y_pred_late, beta=2)"
   ]
  },
  {
   "cell_type": "markdown",
   "id": "107e8e7e-a993-4cf5-9ef7-1872ac03db6c",
   "metadata": {},
   "source": [
    "Note that the number of predicted late delivery is relatively low because the number of late deliveries are very low from the source (imbalance data)."
   ]
  },
  {
   "cell_type": "code",
   "execution_count": null,
   "id": "b92ae92c-7f95-4085-b8c2-0ca2606d054c",
   "metadata": {},
   "outputs": [],
   "source": []
  },
  {
   "cell_type": "code",
   "execution_count": null,
   "id": "44e4dfd2-4daa-4beb-8f26-28feae5d177c",
   "metadata": {},
   "outputs": [],
   "source": [
    "new_res = pd.DataFrame({'pred_late':new_y_test,'new_pred_late':new_y_pred_late})"
   ]
  },
  {
   "cell_type": "code",
   "execution_count": null,
   "id": "6165b6b8-da80-45f8-a1f8-51c0f275f76f",
   "metadata": {},
   "outputs": [],
   "source": [
    "new_res[new_res['new_pred_late']==1].pred_late.value_counts()"
   ]
  },
  {
   "cell_type": "code",
   "execution_count": null,
   "id": "fcb886b2-4255-4ffb-af4f-ded69c301f06",
   "metadata": {},
   "outputs": [],
   "source": []
  },
  {
   "cell_type": "code",
   "execution_count": null,
   "id": "fdad2b3d-1426-4013-8032-3aeb8c473722",
   "metadata": {},
   "outputs": [],
   "source": []
  },
  {
   "cell_type": "code",
   "execution_count": null,
   "id": "ca9d2e0a-c554-4396-9f6d-b4f666bdc6d7",
   "metadata": {},
   "outputs": [],
   "source": []
  }
 ],
 "metadata": {
  "kernelspec": {
   "display_name": "Python 3 (ipykernel)",
   "language": "python",
   "name": "python3"
  },
  "language_info": {
   "codemirror_mode": {
    "name": "ipython",
    "version": 3
   },
   "file_extension": ".py",
   "mimetype": "text/x-python",
   "name": "python",
   "nbconvert_exporter": "python",
   "pygments_lexer": "ipython3",
   "version": "3.9.12"
  }
 },
 "nbformat": 4,
 "nbformat_minor": 5
}
