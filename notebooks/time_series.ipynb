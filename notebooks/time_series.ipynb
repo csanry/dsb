{
 "cells": [
  {
   "cell_type": "markdown",
   "id": "67c09b6c",
   "metadata": {},
   "source": [
    "### Load Packages and Data"
   ]
  },
  {
   "cell_type": "code",
   "execution_count": null,
   "id": "2c9a4a2a",
   "metadata": {},
   "outputs": [],
   "source": [
    "### time series forecasting \n",
    "import numpy as np\n",
    "import pandas as pd \n",
    "import matplotlib.pyplot as plt\n",
    "import seaborn as sns\n",
    "from numpy.typing import ArrayLike\n",
    "\n",
    "from src import config\n",
    "\n",
    "pd.set_option(\"display.max_columns\", None)\n",
    "\n",
    "%matplotlib inline\n",
    "sns.set_style('white')\n",
    "sns.set_palette('deep')"
   ]
  },
  {
   "cell_type": "code",
   "execution_count": null,
   "id": "f29174c1-17ad-4874-ad0f-a3f9c8d793d3",
   "metadata": {
    "tags": []
   },
   "outputs": [],
   "source": [
    "!pip install statsmodels\n",
    "!pip install xgboost"
   ]
  },
  {
   "cell_type": "code",
   "execution_count": null,
   "id": "c89f6025-7a65-4966-b721-e4bd60dfdbb1",
   "metadata": {},
   "outputs": [],
   "source": [
    "import xgboost as xgb\n",
    "from sklearn.metrics import mean_squared_error\n",
    "from statsmodels.tsa.seasonal import seasonal_decompose\n",
    "from statsmodels.tsa.api import ExponentialSmoothing"
   ]
  },
  {
   "cell_type": "code",
   "execution_count": null,
   "id": "f85689af",
   "metadata": {},
   "outputs": [],
   "source": [
    "# read in data \n",
    "df = pd.read_parquet(config.INT_FILE_PATH / 'transactions.parquet')\n",
    "\n",
    "# preview the data\n",
    "df.head()"
   ]
  },
  {
   "cell_type": "code",
   "execution_count": null,
   "id": "27721dee-07b4-40db-804c-06fd56b45e5e",
   "metadata": {},
   "outputs": [],
   "source": [
    "# select only necessary rows\n",
    "df = df.loc[:, [\"order_purchase_timestamp\", \"order_total_price\"]]"
   ]
  },
  {
   "cell_type": "code",
   "execution_count": null,
   "id": "291743f0-810b-4c7a-8050-59c1f4660eef",
   "metadata": {},
   "outputs": [],
   "source": [
    "# resample to weekly time period\n",
    "weekly_sales = df.set_index(\"order_purchase_timestamp\").resample(\"W\")[[\"order_total_price\"]].sum()"
   ]
  },
  {
   "cell_type": "code",
   "execution_count": null,
   "id": "6988f585-5e4f-4dde-b98a-1f36d4fec34e",
   "metadata": {},
   "outputs": [],
   "source": [
    "# preview the data\n",
    "weekly_sales"
   ]
  },
  {
   "cell_type": "markdown",
   "id": "49b00103",
   "metadata": {},
   "source": [
    "### Decomposition"
   ]
  },
  {
   "cell_type": "code",
   "execution_count": null,
   "id": "f0f5e477-cc22-48f2-8adf-a605fde53e38",
   "metadata": {},
   "outputs": [],
   "source": [
    "decompose = seasonal_decompose(weekly_sales, extrapolate_trend=12)"
   ]
  },
  {
   "cell_type": "code",
   "execution_count": null,
   "id": "92b8a9e8-0615-4522-a176-9a3a8642dd75",
   "metadata": {},
   "outputs": [],
   "source": [
    "# observed\n",
    "obs = decompose.observed\n",
    "# trend\n",
    "trend = decompose.trend\n",
    "# seasonal\n",
    "season = decompose.seasonal\n",
    "# error\n",
    "random = decompose.resid"
   ]
  },
  {
   "cell_type": "code",
   "execution_count": null,
   "id": "f314f9b2-e5b8-4d43-b76d-3a6d004acef5",
   "metadata": {
    "tags": []
   },
   "outputs": [],
   "source": [
    "fig, axes = plt.subplots(4, 1, figsize=(15,8), sharex=True)\n",
    "fig.suptitle('Time Series of Purchase Values')\n",
    "\n",
    "sns.lineplot(x=obs.index, y=obs, ax=axes[0], data=obs)\n",
    "sns.lineplot(x=trend.index, y=trend, ax=axes[1], data=trend)\n",
    "sns.lineplot(x=season.index, y=season, ax=axes[2], data=season)\n",
    "sns.lineplot(x=random.index, y=random, ax=axes[3], data=random)\n",
    "\n",
    "plt.show()"
   ]
  },
  {
   "cell_type": "code",
   "execution_count": null,
   "id": "408c40cd-e7da-4fb9-852c-08e169b80233",
   "metadata": {
    "tags": []
   },
   "outputs": [],
   "source": [
    "weekly_sales.info()"
   ]
  },
  {
   "cell_type": "code",
   "execution_count": null,
   "id": "10470690",
   "metadata": {},
   "outputs": [],
   "source": [
    "# remove the last 8 weeks with erroneous 0 values\n",
    "weekly_sales_raw = weekly_sales.iloc[:-8, :]"
   ]
  },
  {
   "cell_type": "code",
   "execution_count": null,
   "id": "d8e950bc",
   "metadata": {},
   "outputs": [],
   "source": [
    "### Replace 0 values with a small value\n",
    "weekly_sales_clean = weekly_sales_raw.copy(deep=True)\n",
    "weekly_sales_clean.loc[weekly_sales_clean[\"order_total_price\"] == 0, \"order_total_price\"] = 1"
   ]
  },
  {
   "cell_type": "markdown",
   "id": "244acfff",
   "metadata": {},
   "source": [
    "### Train test split"
   ]
  },
  {
   "cell_type": "code",
   "execution_count": null,
   "id": "d2d383ee-01ea-45cd-90d3-97ffc06865ce",
   "metadata": {},
   "outputs": [],
   "source": [
    "train_size = int(len(weekly_sales_clean) * 0.80)\n",
    "train, test = weekly_sales_clean[:train_size], weekly_sales_clean[train_size:]"
   ]
  },
  {
   "cell_type": "code",
   "execution_count": null,
   "id": "049fcec1-972c-4dac-aad8-ac27e5700c7b",
   "metadata": {
    "tags": []
   },
   "outputs": [],
   "source": [
    "train.head()"
   ]
  },
  {
   "cell_type": "code",
   "execution_count": null,
   "id": "06901f31-2644-488a-8129-e6f893774e4f",
   "metadata": {
    "tags": []
   },
   "outputs": [],
   "source": [
    "# X_train, y_train = train.drop(columns=\"order_total_price\"), train[\"order_total_price\"]\n",
    "# X_test, y_test = test.drop(columns=\"order_total_price\"), test[\"order_total_price\"]"
   ]
  },
  {
   "cell_type": "code",
   "execution_count": null,
   "id": "00622e2d",
   "metadata": {},
   "outputs": [],
   "source": [
    "## create function to define MAPE\n",
    "def mean_absolute_percentage_error(actual: ArrayLike, pred: ArrayLike): \n",
    "    actual, pred = np.array(actual), np.array(pred)\n",
    "    return np.mean(np.abs((actual - pred) / actual))"
   ]
  },
  {
   "cell_type": "markdown",
   "id": "6484d0b5",
   "metadata": {},
   "source": [
    "### Triple Exponential Smoothing Models"
   ]
  },
  {
   "cell_type": "code",
   "execution_count": null,
   "id": "277cfbff",
   "metadata": {},
   "outputs": [],
   "source": [
    "# additive trend and seasonal\n",
    "HWM1 = ExponentialSmoothing(\n",
    "    train,\n",
    "    seasonal_periods=12,\n",
    "    trend=\"add\",\n",
    "    seasonal=\"add\",\n",
    "    use_boxcox=True,\n",
    "    initialization_method=\"estimated\",\n",
    ").fit()\n",
    "\n",
    "fcastHWM1 = HWM1.forecast(21).rename(\"Holt's Winters additive trend\")\n",
    "\n",
    "plt.figure(figsize=(12,8))\n",
    "plt.xticks(rotation=45)\n",
    "plt.title('Order Total Price')\n",
    "plt.plot(weekly_sales_clean['order_total_price'], marker=\"o\", color=\"black\")\n",
    "plt.plot(HWM1.fittedvalues, marker=\"o\", color=\"blue\")\n",
    "(line1,) = plt.plot(fcastHWM1, marker=\"o\", color=\"blue\")\n",
    "plt.legend([line1],[fcastHWM1.name])\n",
    "plt.show()"
   ]
  },
  {
   "cell_type": "code",
   "execution_count": null,
   "id": "620550f1",
   "metadata": {},
   "outputs": [],
   "source": [
    "# additive trend and multiplicative seasonal\n",
    "HWM2 = ExponentialSmoothing(\n",
    "    train,\n",
    "    seasonal_periods=24,\n",
    "    trend=\"add\",\n",
    "    seasonal=\"mul\",\n",
    "    use_boxcox=True,\n",
    "    initialization_method=\"estimated\",\n",
    ").fit()\n",
    "\n",
    "fcastHWM2 = HWM2.forecast(21).rename(\"Holt's Winters additive trend\")\n",
    "\n",
    "plt.figure(figsize=(12,8))\n",
    "plt.xticks(rotation=45)\n",
    "plt.title('Order Total Price')\n",
    "plt.plot(weekly_sales_clean['order_total_price'], marker=\"o\", color=\"black\")\n",
    "plt.plot(HWM2.fittedvalues, marker=\"o\", color=\"blue\")\n",
    "(line2,) = plt.plot(fcastHWM2, marker=\"o\", color=\"blue\")\n",
    "plt.legend([line2],[fcastHWM2.name])\n",
    "plt.show()"
   ]
  },
  {
   "cell_type": "code",
   "execution_count": null,
   "id": "981ac86e",
   "metadata": {},
   "outputs": [],
   "source": [
    "# additive model with damped trend\n",
    "HWM3 = ExponentialSmoothing(\n",
    "    train,\n",
    "    seasonal_periods=12,\n",
    "    trend=\"add\",\n",
    "    seasonal=\"add\",\n",
    "    damped_trend=True,\n",
    "    use_boxcox=True,\n",
    "    initialization_method=\"estimated\",\n",
    ").fit()\n",
    "\n",
    "fcastHWM3 = HWM3.forecast(50).rename(\"Holt's Winters additive damped trend\")\n",
    "\n",
    "plt.figure(figsize=(12,8))\n",
    "plt.xticks(rotation=45)\n",
    "plt.title('Order Total Price')\n",
    "plt.plot(weekly_sales_clean['order_total_price'], marker=\"o\", color=\"black\")\n",
    "plt.plot(HWM3.fittedvalues, marker=\"o\", color=\"blue\")\n",
    "(line3,) = plt.plot(fcastHWM3, marker=\"o\", color=\"blue\")\n",
    "plt.legend([line3],[fcastHWM3.name])\n",
    "plt.show()"
   ]
  },
  {
   "cell_type": "code",
   "execution_count": null,
   "id": "a82fabab",
   "metadata": {},
   "outputs": [],
   "source": [
    "# multiplicative model with damped trend\n",
    "HWM4 = ExponentialSmoothing(\n",
    "    train,\n",
    "    seasonal_periods=12,\n",
    "    trend=\"add\",\n",
    "    seasonal=\"mul\",\n",
    "    damped_trend=True,\n",
    "    use_boxcox=True,\n",
    "    initialization_method=\"estimated\",\n",
    ").fit()\n",
    "\n",
    "fcastHWM4 = HWM4.forecast(21).rename(\"Holt's Winters multiplicative damped trend\")\n",
    "\n",
    "plt.figure(figsize=(12,8))\n",
    "plt.xticks(rotation=45)\n",
    "plt.title('Order Total Price')\n",
    "plt.plot(weekly_sales_clean['order_total_price'], marker=\"o\", color=\"black\")\n",
    "plt.plot(HWM4.fittedvalues, marker=\"o\", color=\"blue\")\n",
    "(line4,) = plt.plot(fcastHWM4, marker=\"o\", color=\"blue\")\n",
    "plt.legend([line4],[fcastHWM4.name])\n",
    "plt.show()"
   ]
  },
  {
   "cell_type": "markdown",
   "id": "a9ee1423",
   "metadata": {},
   "source": [
    "### Evaluation "
   ]
  },
  {
   "cell_type": "code",
   "execution_count": null,
   "id": "7630d30b",
   "metadata": {},
   "outputs": [],
   "source": [
    "# generate forecasts for each model\n",
    "fcastHWM1 = HWM1.forecast(len(test)).rename(\"Holt's Winters additive trend\")\n",
    "fcastHWM2 = HWM2.forecast(len(test)).rename(\"Holt's Winters multiplicative trend\")\n",
    "fcastHWM3 = HWM3.forecast(len(test)).rename(\"Holt's Winters additive damped trend\")\n",
    "fcastHWM4 = HWM4.forecast(len(test)).rename(\"Holt's Winters multiplicative damped trend\")\n",
    "\n",
    "# Find lowest MAPE from the 4 HWM models\n",
    "min_mape = np.inf\n",
    "min_HWM = pd.DataFrame()\n",
    "for HWM in [fcastHWM1, fcastHWM2, fcastHWM3, fcastHWM4]:\n",
    "    cur_mape = mean_absolute_percentage_error(test, HWM)\n",
    "    if cur_mape < min_mape:\n",
    "        min_mape = cur_mape\n",
    "        min_HWM = pd.DataFrame(HWM)\n",
    "        min_model = HWM.name\n",
    "\n",
    "# return best model and MAPE\n",
    "print(f\"Best Model: {min_model}\")\n",
    "print(f\"MAPE: {min_mape:.2%}\")"
   ]
  },
  {
   "cell_type": "markdown",
   "id": "23f36dc1",
   "metadata": {},
   "source": [
    "### Ensemble Based Models "
   ]
  },
  {
   "cell_type": "code",
   "execution_count": null,
   "id": "d710fd9a",
   "metadata": {},
   "outputs": [],
   "source": [
    "# preview data\n",
    "weekly_sales_clean.head()"
   ]
  },
  {
   "cell_type": "markdown",
   "id": "266cd3ab",
   "metadata": {},
   "source": [
    "### Preprocessing"
   ]
  },
  {
   "cell_type": "code",
   "execution_count": null,
   "id": "df525454",
   "metadata": {},
   "outputs": [],
   "source": [
    "# create 1, 2, 3 week lag periods\n",
    "weekly_sales_clean[\"X_1\"] = weekly_sales_clean[\"order_total_price\"].shift(1)\n",
    "weekly_sales_clean[\"X_2\"] = weekly_sales_clean[\"order_total_price\"].shift(2)\n",
    "weekly_sales_clean[\"X_3\"] = weekly_sales_clean[\"order_total_price\"].shift(3)"
   ]
  },
  {
   "cell_type": "code",
   "execution_count": null,
   "id": "d563f872",
   "metadata": {},
   "outputs": [],
   "source": [
    "# split models and prepare X and y arrays\n",
    "train_size = int(len(weekly_sales_clean) * 0.8)\n",
    "train_ensemble, test_ensemble = weekly_sales_clean[:train_size], weekly_sales_clean[train_size:]"
   ]
  },
  {
   "cell_type": "code",
   "execution_count": null,
   "id": "4d74cc7e",
   "metadata": {},
   "outputs": [],
   "source": [
    "X_train, y_train = train_ensemble.drop(columns=\"order_total_price\"), train_ensemble[\"order_total_price\"]\n",
    "X_test, y_test = test_ensemble.drop(columns=\"order_total_price\"), test_ensemble[\"order_total_price\"]"
   ]
  },
  {
   "cell_type": "markdown",
   "id": "266cd3ab",
   "metadata": {},
   "source": [
    "### Modelling"
   ]
  },
  {
   "cell_type": "code",
   "execution_count": null,
   "id": "f3487e6c-d9ad-42fc-ab10-a89d42018986",
   "metadata": {
    "tags": []
   },
   "outputs": [],
   "source": [
    "xgb_model = xgb.XGBRegressor(n_estimators=400, learning_rate=0.03).set_params(early_stopping_rounds=3)\n",
    "xgb_model.fit(X_train, y_train, \n",
    "              eval_set=[(X_test, y_test)], \n",
    "              verbose=False)\n",
    "\n",
    "y_pred = xgb_model.predict(X_test)\n",
    "\n",
    "print(f\"RMSE for xgb is: {mean_squared_error(y_test, y_pred, squared=False):.2f}\")\n",
    "print(f\"MAPE for xgb is {mean_absolute_percentage_error(y_test, y_pred):.2%}\")"
   ]
  },
  {
   "cell_type": "code",
   "execution_count": null,
   "id": "64f17e7d-6be0-4498-87ba-83f3c8195bf6",
   "metadata": {
    "jupyter": {
     "outputs_hidden": true
    },
    "tags": []
   },
   "outputs": [],
   "source": [
    "train_pred = pd.Series(xgb_model.predict(X_train))\n",
    "test_pred = pd.Series(xgb_model.predict(X_test))\n",
    "\n",
    "predictions = pd.concat([train_pred, test_pred], axis=0)\n",
    "predictions.index = weekly_sales_filt.index\n",
    "\n",
    "ax = plt.gca()\n",
    "\n",
    "weekly_sales_clean[['order_total_price']].plot(figsize=(15, 6), ax=ax, marker=\"o\", color=\"black\")\n",
    "predictions.plot(figsize=(15, 6), ax=ax, marker=\"o\", color=\"blue\")\n",
    "plt.show()"
   ]
  }
 ],
 "metadata": {
  "interpreter": {
   "hash": "44a3c08237e01b3f273f94d4b0b6f4bfc3fd3da5036836380d570cd78e561537"
  },
  "kernelspec": {
   "display_name": "Python 3.9.12 ('dsb')",
   "language": "python",
   "name": "python3"
  },
  "language_info": {
   "codemirror_mode": {
    "name": "ipython",
    "version": 3
   },
   "file_extension": ".py",
   "mimetype": "text/x-python",
   "name": "python",
   "nbconvert_exporter": "python",
   "pygments_lexer": "ipython3",
   "version": "3.9.12"
  }
 },
 "nbformat": 4,
 "nbformat_minor": 5
}
