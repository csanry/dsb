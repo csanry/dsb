{
 "cells": [
  {
   "cell_type": "code",
   "execution_count": null,
   "metadata": {},
   "outputs": [],
   "source": [
    "import pandas as pd\n",
    "import numpy as np\n",
    "from sklearn.cluster import KMeans\n",
    "from sklearn.decomposition import PCA\n",
    "import matplotlib.pyplot as plt\n",
    "\n",
    "from src import config"
   ]
  },
  {
   "cell_type": "markdown",
   "metadata": {},
   "source": [
    "### Combine datasets to 1 master dataframe"
   ]
  },
  {
   "cell_type": "code",
   "execution_count": null,
   "metadata": {},
   "outputs": [],
   "source": [
    "orders_df = pd.read_csv(config.RAW_FILE_PATH /'olist_orders_dataset.csv')\n",
    "\n",
    "# remove unavailable and cancelled orders\n",
    "orders_df = orders_df[orders_df['order_status'].str.contains('unavailable|canceled')==False]"
   ]
  },
  {
   "cell_type": "code",
   "execution_count": null,
   "metadata": {},
   "outputs": [],
   "source": [
    "payments_df = pd.read_csv(config.RAW_FILE_PATH /'olist_order_payments_dataset.csv')\n",
    "payments_df.drop_duplicates(['order_id'], inplace=True)"
   ]
  },
  {
   "cell_type": "code",
   "execution_count": null,
   "metadata": {},
   "outputs": [],
   "source": [
    "order_items_df = pd.read_csv(config.RAW_FILE_PATH /'olist_order_items_dataset.csv')\n",
    "products_df = pd.read_csv(config.RAW_FILE_PATH /'olist_products_dataset.csv')\n",
    "product_cat_df = pd.read_csv(config.RAW_FILE_PATH /'product_category_name_translation.csv')"
   ]
  },
  {
   "cell_type": "code",
   "execution_count": null,
   "metadata": {},
   "outputs": [],
   "source": [
    "master_df = orders_df.merge(payments_df, on = 'order_id'). \\\n",
    "            merge(order_items_df, on = 'order_id'). \\\n",
    "            merge(products_df, on = 'product_id'). \\\n",
    "            merge(product_cat_df, on = 'product_category_name')"
   ]
  },
  {
   "cell_type": "code",
   "execution_count": null,
   "metadata": {},
   "outputs": [],
   "source": [
    "# create dataframe for customers and product category\n",
    "customer_category_df = master_df.groupby(['customer_id', 'product_category_name_english']) \\\n",
    "                        ['order_item_id'].agg('sum').reset_index()\n",
    "\n",
    "# create dataframe for clustering \n",
    "# dataframe to contain details of customer-category interaction and amount spent\n",
    "final_df = pd.pivot_table(customer_category_df,\n",
    "                                   values = 'order_item_id',\n",
    "                                   index = 'customer_id',\n",
    "                                   columns = 'product_category_name_english',\n",
    "                                   fill_value = 0)\n",
    "\n",
    "customer_spent_df = master_df.groupby(['customer_id'])['payment_value'].agg('sum').reset_index()\n",
    "final_df = final_df.merge(customer_spent_df, on = 'customer_id')"
   ]
  },
  {
   "cell_type": "code",
   "execution_count": null,
   "metadata": {},
   "outputs": [],
   "source": [
    "# visualise outliers \n",
    "# change 500 to 1000 or 10000 etc \n",
    "plt.boxplot(customer_spent_df[customer_spent_df['payment_value'] < 500]['payment_value'])"
   ]
  },
  {
   "cell_type": "code",
   "execution_count": null,
   "metadata": {},
   "outputs": [],
   "source": [
    "# exclude customers who spend more than 500 to avoid poor clustering in kmeans\n",
    "final_df = final_df[final_df['payment_value'] <500]\n",
    "final_df['payment_value'] = (final_df['payment_value'] - final_df['payment_value'].mean()) / final_df['payment_value'].std()\n",
    "final_df.set_index('customer_id', inplace = True)"
   ]
  },
  {
   "cell_type": "markdown",
   "metadata": {},
   "source": [
    "### Dimensionality reduction with PCA"
   ]
  },
  {
   "cell_type": "code",
   "execution_count": null,
   "metadata": {},
   "outputs": [],
   "source": [
    "# insights on how many features to keep based on cumulative variance plot\n",
    "pca = PCA()\n",
    "pca.fit(final_df)"
   ]
  },
  {
   "cell_type": "code",
   "execution_count": null,
   "metadata": {},
   "outputs": [],
   "source": [
    "plt.figure(figsize=(10,5))\n",
    "plt.plot(range(1,73), pca.explained_variance_ratio_.cumsum(), marker = 'o', linestyle = '--')\n",
    "plt.xlabel('Number of components')\n",
    "plt.ylabel('Cumulative explained variance')"
   ]
  },
  {
   "cell_type": "markdown",
   "metadata": {},
   "source": [
    "Since 11 components can explain about 80% of the variance, we will use 11 principal components. "
   ]
  },
  {
   "cell_type": "code",
   "execution_count": null,
   "metadata": {},
   "outputs": [],
   "source": [
    "# perform pca with 11 components\n",
    "pca = PCA(n_components = 11)\n",
    "pca.fit(final_df)\n",
    "\n",
    "scores_pca = pca.transform(final_df)"
   ]
  },
  {
   "cell_type": "markdown",
   "metadata": {},
   "source": [
    "### Performing KMeans"
   ]
  },
  {
   "cell_type": "code",
   "execution_count": null,
   "metadata": {},
   "outputs": [],
   "source": [
    "# fit kmeans using transformed data from pca\n",
    "inertia = []\n",
    "for i in range(3,21):\n",
    "    kmeans_pca = KMeans(n_clusters = i, init = 'k-means++', random_state = 42)\n",
    "    kmeans_pca.fit(scores_pca)\n",
    "    inertia.append(kmeans_pca.inertia_)\n",
    "    \n",
    "plt.figure(figsize = (10,10))\n",
    "plt.plot(range(3,21), inertia, marker = 'o', linestyle = '--')\n",
    "plt.xlabel('Number of clusters')\n",
    "plt.ylabel('inertia')"
   ]
  },
  {
   "cell_type": "markdown",
   "metadata": {},
   "source": [
    "Since there is no obvious kink observed in the plot, we will use 15 clusters."
   ]
  },
  {
   "cell_type": "code",
   "execution_count": null,
   "metadata": {},
   "outputs": [],
   "source": [
    "# implement kmeans\n",
    "kmeans_pca = KMeans(n_clusters = 15, init = 'k-means++', random_state = 42)\n",
    "kmeans_pca.fit(scores_pca)"
   ]
  },
  {
   "cell_type": "markdown",
   "metadata": {},
   "source": [
    "### Analysing results from clustering"
   ]
  },
  {
   "cell_type": "code",
   "execution_count": null,
   "metadata": {},
   "outputs": [],
   "source": [
    "# examine the category of products bought by customers in each cluster\n",
    "final_df.reset_index(inplace = True)\n",
    "final_df['cluster'] = kmeans_pca.labels_\n",
    "for i in range(15):\n",
    "    print('-'*40)\n",
    "    print('Cluster:',i)\n",
    "    print('-'*40)\n",
    "    clusterx_customers = final_df[final_df['cluster']==i]['customer_id'].unique().tolist()\n",
    "    clusterx_products = customer_category_df[customer_category_df['customer_id'].isin(clusterx_customers)]\n",
    "    print(clusterx_products['product_category_name_english'].value_counts())"
   ]
  },
  {
   "cell_type": "markdown",
   "metadata": {},
   "source": [
    "Cluster numbers 0, 1, and 4 have a higher percentage of products from multiple categories unlike the remaining clusters where majority of the customers bought from a single product category. Further analysis will be performed for clusters 0, 1, and 4. "
   ]
  },
  {
   "cell_type": "code",
   "execution_count": null,
   "metadata": {},
   "outputs": [],
   "source": [
    "# Cluster 0\n",
    "cluster1_customers = final_df[final_df['cluster']==1]['customer_id'].unique().tolist()\n",
    "cluster1_df = customer_category_df[customer_category_df['customer_id'].isin(cluster1_customers)]\n",
    "\n",
    "# subset to find customers who bought from more than 1 category\n",
    "multi_c_df = cluster1_df.groupby(['customer_id'])['product_category_name_english'].agg('count').reset_index(name=\"count\")\n",
    "multi_c_users = multi_c_df[multi_c_df['count']>1]['customer_id'].unique()\n",
    "\n",
    "multi_c_df = customer_category_df[customer_category_df['customer_id'].isin(multi_c_users)]\n",
    "multi_c_df"
   ]
  },
  {
   "cell_type": "code",
   "execution_count": null,
   "metadata": {
    "scrolled": true
   },
   "outputs": [],
   "source": [
    "multi_c_df = multi_c_df.groupby('customer_id').agg({'product_category_name_english': ', '.join}).reset_index()\n",
    "ch = multi_c_df.groupby('product_category_name_english').value_counts().reset_index(name = 'count')\n",
    "ch[ch['count']>1]"
   ]
  }
 ],
 "metadata": {
  "kernelspec": {
   "display_name": "Python 3 (ipykernel)",
   "language": "python",
   "name": "python3"
  },
  "language_info": {
   "codemirror_mode": {
    "name": "ipython",
    "version": 3
   },
   "file_extension": ".py",
   "mimetype": "text/x-python",
   "name": "python",
   "nbconvert_exporter": "python",
   "pygments_lexer": "ipython3",
   "version": "3.9.12"
  }
 },
 "nbformat": 4,
 "nbformat_minor": 4
}
