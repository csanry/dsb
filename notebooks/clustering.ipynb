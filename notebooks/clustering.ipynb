{
 "cells": [
  {
   "cell_type": "code",
   "execution_count": null,
   "metadata": {},
   "outputs": [],
   "source": [
    "import pandas as pd\n",
    "import numpy as np\n",
    "from sklearn.cluster import KMeans, DBSCAN\n",
    "from sklearn.decomposition import PCA\n",
    "import matplotlib.pyplot as plt\n",
    "import datetime as dt\n",
    "\n",
    "from src import config"
   ]
  },
  {
   "cell_type": "markdown",
   "metadata": {},
   "source": [
    "### Combine datasets to 1 master dataframe"
   ]
  },
  {
   "cell_type": "code",
   "execution_count": null,
   "metadata": {},
   "outputs": [],
   "source": [
    "orders_df = pd.read_csv(config.RAW_FILE_PATH /'olist_orders_dataset.csv')\n",
    "\n",
    "# remove unavailable and cancelled orders\n",
    "orders_df = orders_df[orders_df['order_status'].str.contains('unavailable|canceled')==False]"
   ]
  },
  {
   "cell_type": "code",
   "execution_count": null,
   "metadata": {},
   "outputs": [],
   "source": [
    "payments_df = pd.read_csv(config.RAW_FILE_PATH /'olist_order_payments_dataset.csv')\n",
    "payments_df.drop_duplicates(['order_id'], inplace=True)"
   ]
  },
  {
   "cell_type": "code",
   "execution_count": null,
   "metadata": {},
   "outputs": [],
   "source": [
    "order_items_df = pd.read_csv(config.RAW_FILE_PATH /'olist_order_items_dataset.csv')\n",
    "products_df = pd.read_csv(config.RAW_FILE_PATH /'olist_products_dataset.csv')\n",
    "product_cat_df = pd.read_csv(config.RAW_FILE_PATH /'product_category_name_translation.csv')"
   ]
  },
  {
   "cell_type": "code",
   "execution_count": null,
   "metadata": {},
   "outputs": [],
   "source": [
    "master_df = orders_df.merge(payments_df, on = 'order_id'). \\\n",
    "            merge(order_items_df, on = 'order_id'). \\\n",
    "            merge(products_df, on = 'product_id'). \\\n",
    "            merge(product_cat_df, on = 'product_category_name')\n",
    "\n",
    "master_df['order_purchase_timestamp'] = pd.to_datetime(master_df['order_purchase_timestamp']).dt.date\n",
    "master_df['order_purchase_timestamp'].min(), master_df['order_purchase_timestamp'].max()"
   ]
  },
  {
   "cell_type": "code",
   "execution_count": null,
   "metadata": {},
   "outputs": [],
   "source": [
    "# subset to only 1 year of transactions\n",
    "master_df = master_df[master_df['order_purchase_timestamp'] > dt.date(2017, 9, 3)]"
   ]
  },
  {
   "cell_type": "code",
   "execution_count": null,
   "metadata": {},
   "outputs": [],
   "source": [
    "# create dataframe for customers and product category\n",
    "customer_category_df = master_df.groupby(['customer_id', 'product_category_name_english']) \\\n",
    "                        ['order_item_id'].agg('sum').reset_index()\n",
    "\n",
    "# create dataframe for clustering \n",
    "# dataframe to contain details of customer-category interaction and amount spent\n",
    "df = pd.pivot_table(customer_category_df,\n",
    "                                   values = 'order_item_id',\n",
    "                                   index = 'customer_id',\n",
    "                                   columns = 'product_category_name_english',\n",
    "                                   fill_value = 0)\n",
    "\n",
    "customer_spent_df = master_df.groupby(['customer_id'])['payment_value'].agg('sum').reset_index()\n",
    "df = df.merge(customer_spent_df, on = 'customer_id')"
   ]
  },
  {
   "cell_type": "code",
   "execution_count": null,
   "metadata": {},
   "outputs": [],
   "source": [
    "# visualise outliers \n",
    "plt.boxplot(customer_spent_df[customer_spent_df['payment_value'] < 500]['payment_value'])"
   ]
  },
  {
   "cell_type": "code",
   "execution_count": null,
   "metadata": {},
   "outputs": [],
   "source": [
    "# percentage of customers who spent below $500\n",
    "len(customer_spent_df[customer_spent_df['payment_value'] < 500]) / len(customer_spent_df) * 100"
   ]
  },
  {
   "cell_type": "markdown",
   "metadata": {},
   "source": [
    "Since 93% of the customers spend below $500, we will focus on this group for clustering. (Having too many outliers may hinder clustering steps.)"
   ]
  },
  {
   "cell_type": "code",
   "execution_count": null,
   "metadata": {},
   "outputs": [],
   "source": [
    "# exclude customers who spend more than 500 to avoid poor clustering in kmeans\n",
    "df = df[df['payment_value'] < 500]\n",
    "df['payment_standardised'] = (df['payment_value'] - df['payment_value'].mean()) / df['payment_value'].std()\n",
    "df.set_index('customer_id', inplace = True)\n",
    "final_df = df.drop(columns = ['payment_value'])"
   ]
  },
  {
   "cell_type": "markdown",
   "metadata": {},
   "source": [
    "### Dimensionality reduction with PCA"
   ]
  },
  {
   "cell_type": "code",
   "execution_count": null,
   "metadata": {},
   "outputs": [],
   "source": [
    "# insights on how many features to keep based on cumulative variance plot\n",
    "pca = PCA()\n",
    "pca.fit(final_df)"
   ]
  },
  {
   "cell_type": "code",
   "execution_count": null,
   "metadata": {},
   "outputs": [],
   "source": [
    "plt.figure(figsize=(10,5))\n",
    "plt.plot(range(1,73), pca.explained_variance_ratio_.cumsum(), marker = 'o', linestyle = '--')\n",
    "plt.xlabel('Number of components')\n",
    "plt.ylabel('Cumulative explained variance')"
   ]
  },
  {
   "cell_type": "markdown",
   "metadata": {},
   "source": [
    "Since 11 components can explain about 80% of the variance, we will use 11 principal components for the next step."
   ]
  },
  {
   "cell_type": "code",
   "execution_count": null,
   "metadata": {},
   "outputs": [],
   "source": [
    "# perform pca with 11 components\n",
    "pca = PCA(n_components = 11, random_state = 42)\n",
    "X_pca = pca.fit_transform(final_df)"
   ]
  },
  {
   "cell_type": "markdown",
   "metadata": {},
   "source": [
    "### Performing KMeans"
   ]
  },
  {
   "cell_type": "code",
   "execution_count": null,
   "metadata": {},
   "outputs": [],
   "source": [
    "# fit kmeans using transformed data from pca\n",
    "inertia = []\n",
    "for i in range(2,30):\n",
    "    kmeans_pca = KMeans(n_clusters = i, init = 'k-means++', random_state = 42)\n",
    "    kmeans_pca.fit(X_pca)\n",
    "    inertia.append(kmeans_pca.inertia_)\n",
    "    \n",
    "plt.figure(figsize = (10,10))\n",
    "plt.plot(range(2,30), inertia, marker = 'o', linestyle = '--')\n",
    "plt.xlabel('Number of clusters')\n",
    "plt.ylabel('inertia')"
   ]
  },
  {
   "cell_type": "markdown",
   "metadata": {},
   "source": [
    "Since there is no obvious \"elbow\" observed, we will use 15 clusters."
   ]
  },
  {
   "cell_type": "code",
   "execution_count": null,
   "metadata": {},
   "outputs": [],
   "source": [
    "# implement KMeans\n",
    "kmeans_pca = KMeans(n_clusters = 15, init = 'k-means++', random_state = 42)\n",
    "kmeans_pca.fit(X_pca)"
   ]
  },
  {
   "cell_type": "markdown",
   "metadata": {},
   "source": [
    "### Results from KMeans"
   ]
  },
  {
   "cell_type": "code",
   "execution_count": null,
   "metadata": {},
   "outputs": [],
   "source": [
    "# examine the category of products bought by customers in each cluster\n",
    "kmeans_df = df.reset_index().copy(deep=True)\n",
    "kmeans_df['cluster'] = kmeans_pca.labels_\n",
    "for i in range(15):\n",
    "    print('-'*40)\n",
    "    print('Cluster:',i)\n",
    "    print('-'*40)\n",
    "    clusterx_customers = kmeans_df[kmeans_df['cluster']==i]['customer_id'].unique().tolist()\n",
    "    clusterx_products = customer_category_df[customer_category_df['customer_id'].isin(clusterx_customers)]\n",
    "    \n",
    "    print(clusterx_products['product_category_name_english'].value_counts())"
   ]
  },
  {
   "cell_type": "markdown",
   "metadata": {},
   "source": [
    "Cluster numbers 1, 3, 4, and 6 have a higher percentage of products from multiple categories unlike the remaining clusters where majority of the customers bought from a single product category. Further analysis will be performed for these clusters."
   ]
  },
  {
   "cell_type": "code",
   "execution_count": null,
   "metadata": {},
   "outputs": [],
   "source": [
    "clusters = [1,3,4,6]\n",
    "for c in clusters:\n",
    "    customer_list = kmeans_df[kmeans_df['cluster']==c]['customer_id'].unique().tolist()\n",
    "    clusterx_df = customer_category_df[customer_category_df['customer_id'].isin(customer_list)]\n",
    "\n",
    "    # subset to find customers who bought from more than 1 category\n",
    "    subset_df = clusterx_df.groupby(['customer_id'])['product_category_name_english'].agg('count').reset_index(name=\"count\")\n",
    "    subset_list = subset_df[subset_df['count']>1]['customer_id'].unique()\n",
    "\n",
    "    multi_c_df = customer_category_df[customer_category_df['customer_id'].isin(subset_list)]\n",
    "    multi_c_df = multi_c_df.rename(columns = {'product_category_name_english': 'product_category'})\n",
    "    multi_c_df = multi_c_df.groupby('customer_id').agg({'product_category': ', '.join}).reset_index()\n",
    "    multi_c_df = multi_c_df.groupby('product_category')['customer_id'].agg('count').reset_index(name = 'count')\n",
    "    multi_c_df.sort_values('count', ascending = False, inplace = True)\n",
    "    print('-'*60)\n",
    "    print('Cluster:', c)\n",
    "    print('-'*60)\n",
    "    print(multi_c_df.head(5))\n",
    "    print(\" \")"
   ]
  },
  {
   "cell_type": "code",
   "execution_count": null,
   "metadata": {},
   "outputs": [],
   "source": [
    "print('Average spending per cluster')\n",
    "\n",
    "clusters = [1,3,4,6]\n",
    "for c in clusters:\n",
    "    clusterx = kmeans_df[kmeans_df['cluster']==c]\n",
    "    print('Cluster {0}: ${1}'.format(c, round(clusterx['payment_value'].agg('mean'),2)))\n",
    "    "
   ]
  },
  {
   "cell_type": "markdown",
   "metadata": {},
   "source": [
    "### Performing DBSCAN "
   ]
  },
  {
   "cell_type": "code",
   "execution_count": null,
   "metadata": {},
   "outputs": [],
   "source": [
    "dbs = DBSCAN()\n",
    "dbs.fit(X_pca)\n",
    "labels = dbs.labels_\n",
    "\n",
    "# Number of clusters in labels, ignoring noise if present.\n",
    "n_clusters_ = len(set(labels)) - (1 if -1 in labels else 0)\n",
    "n_noise_ = list(labels).count(-1)\n",
    "\n",
    "print('Estimated number of clusters: %d' % n_clusters_)\n",
    "print('Estimated number of noise points: %d' % n_noise_)"
   ]
  },
  {
   "cell_type": "markdown",
   "metadata": {},
   "source": [
    "### Results from DBSCAN"
   ]
  },
  {
   "cell_type": "code",
   "execution_count": null,
   "metadata": {},
   "outputs": [],
   "source": [
    "# examine the category of products bought by customers in each cluster\n",
    "dsb_df = final_df.reset_index().copy(deep=True)\n",
    "dsb_df['cluster'] = dbs.labels_\n",
    "for i in range(37):\n",
    "    print('-'*40)\n",
    "    print('Cluster:',i)\n",
    "    print('-'*40)\n",
    "    clusterx_customers = dsb_df[dsb_df['cluster']==i]['customer_id'].unique().tolist()\n",
    "    clusterx_products = customer_category_df[customer_category_df['customer_id'].isin(clusterx_customers)]\n",
    "    \n",
    "    print(clusterx_products['product_category_name_english'].value_counts())"
   ]
  },
  {
   "cell_type": "code",
   "execution_count": null,
   "metadata": {},
   "outputs": [],
   "source": [
    "cluster = [0]\n",
    "for c in cluster:\n",
    "    customer_list = dsb_df[dsb_df['cluster']==c]['customer_id'].unique().tolist()\n",
    "    clusterx_df = customer_category_df[customer_category_df['customer_id'].isin(customer_list)]\n",
    "\n",
    "    # subset to find customers who bought from more than 1 category\n",
    "    subset_df = clusterx_df.groupby(['customer_id'])['product_category_name_english'].agg('count').reset_index(name=\"count\")\n",
    "    subset_list = subset_df[subset_df['count']>1]['customer_id'].unique()\n",
    "\n",
    "    multi_c_df = customer_category_df[customer_category_df['customer_id'].isin(subset_list)]\n",
    "    multi_c_df = multi_c_df.rename(columns = {'product_category_name_english': 'product_category'})\n",
    "    multi_c_df = multi_c_df.groupby('customer_id').agg({'product_category': ', '.join}).reset_index()\n",
    "    multi_c_df = multi_c_df.groupby('product_category')['customer_id'].agg('count').reset_index(name = 'count')\n",
    "    multi_c_df.sort_values('count', ascending = False, inplace = True)\n",
    "    print('-'*60)\n",
    "    print('Cluster:', c)\n",
    "    print('-'*60)\n",
    "    print(multi_c_df.head(5))\n",
    "    print(\" \")"
   ]
  }
 ],
 "metadata": {
  "kernelspec": {
   "display_name": "Python 3 (ipykernel)",
   "language": "python",
   "name": "python3"
  },
  "language_info": {
   "codemirror_mode": {
    "name": "ipython",
    "version": 3
   },
   "file_extension": ".py",
   "mimetype": "text/x-python",
   "name": "python",
   "nbconvert_exporter": "python",
   "pygments_lexer": "ipython3",
   "version": "3.9.12"
  }
 },
 "nbformat": 4,
 "nbformat_minor": 4
}
