{
 "cells": [
  {
   "cell_type": "code",
   "execution_count": null,
   "id": "d6578533-8a3b-4d9a-9599-8109dcdbfccb",
   "metadata": {},
   "outputs": [],
   "source": [
    "# Import"
   ]
  },
  {
   "cell_type": "code",
   "execution_count": null,
   "id": "16b9918d-c905-424b-aacc-1ce4f6274203",
   "metadata": {},
   "outputs": [],
   "source": [
    "import pandas as pd\n",
    "import numpy as np\n",
    "import matplotlib.pyplot as plt\n",
    "import seaborn as sns\n",
    "from sklearn.preprocessing import LabelEncoder\n",
    "from sklearn.preprocessing import OneHotEncoder\n",
    "import pandas\n",
    "from sklearn.decomposition import PCA\n",
    "import numpy\n",
    "import matplotlib.pyplot as plot\n",
    "import random\n",
    "from scipy import sparse\n",
    "from lightfm import LightFM\n",
    "from lightfm.evaluation import auc_score"
   ]
  },
  {
   "cell_type": "markdown",
   "id": "4a055c5b-e355-4caa-80b2-e7d5231e152b",
   "metadata": {},
   "source": [
    "# Load Data"
   ]
  },
  {
   "cell_type": "code",
   "execution_count": null,
   "id": "c2114467-c8ad-4a21-90e3-8f48ef99b879",
   "metadata": {},
   "outputs": [],
   "source": [
    "# list of prefered dataframe names in same order as directory\n",
    "customers = pd.read_csv(\"/project/data/raw/olist_customers_dataset.csv\")\n",
    "location = pd.read_csv(\"/project/data/raw/olist_geolocation_dataset.csv\")\n",
    "orders = pd.read_csv(\"/project/data/raw/olist_orders_dataset.csv\")\n",
    "order_items = pd.read_csv(\"/project/data/raw/olist_order_items_dataset.csv\")\n",
    "payments = pd.read_csv(\"/project/data/raw/olist_order_payments_dataset.csv\")\n",
    "reviews = pd.read_csv(\"/project/data/raw/olist_order_reviews_dataset.csv\")\n",
    "products = pd.read_csv(\"/project/data/raw/olist_products_dataset.csv\")\n",
    "sellers = pd.read_csv(\"/project/data/raw/olist_sellers_dataset.csv\")\n",
    "translation = pd.read_csv(\"/project/data/raw/product_category_name_translation.csv\")"
   ]
  },
  {
   "cell_type": "markdown",
   "id": "a0b858da-bf19-479e-9d0c-9276af0f6119",
   "metadata": {},
   "source": [
    "# Merge Order with order item"
   ]
  },
  {
   "cell_type": "code",
   "execution_count": null,
   "id": "feca09d1-1f3d-481e-8eb1-31589be4cad6",
   "metadata": {},
   "outputs": [],
   "source": [
    "location = location.sort_values(by=['geolocation_zip_code_prefix'])"
   ]
  },
  {
   "cell_type": "code",
   "execution_count": null,
   "id": "cbd1d4a7-4c26-4a9c-a13e-d66648a16851",
   "metadata": {},
   "outputs": [],
   "source": [
    "location = location.groupby(['geolocation_zip_code_prefix','geolocation_city','geolocation_state']).max().reset_index()"
   ]
  },
  {
   "cell_type": "code",
   "execution_count": null,
   "id": "45077715-2472-42ea-9dd8-0736cf5c6b02",
   "metadata": {},
   "outputs": [],
   "source": [
    "location"
   ]
  },
  {
   "cell_type": "code",
   "execution_count": null,
   "id": "e0e46f69-0da8-4216-9044-9045191ae169",
   "metadata": {},
   "outputs": [],
   "source": [
    "customers.columns"
   ]
  },
  {
   "cell_type": "code",
   "execution_count": null,
   "id": "311c7a1f-47e4-4136-bba8-85bf08a92514",
   "metadata": {},
   "outputs": [],
   "source": [
    "master_df = orders.merge(order_items, on=\"order_id\").merge(customers, on=\"customer_id\").merge(sellers, on=\"seller_id\").merge(products, on=\"product_id\").merge(translation, on='product_category_name').merge(reviews, on=\"order_id\").merge(location, left_on=['customer_zip_code_prefix', 'customer_city', 'customer_state'], right_on=['geolocation_zip_code_prefix','geolocation_city','geolocation_state'])\n",
    "master_df = master_df.sort_values(by=['order_purchase_timestamp'])\n",
    "master_df['order_delivered_customer_date'] =  pd.to_datetime(master_df['order_delivered_customer_date'], format='%Y-%m-%d %H:%M:%S')\n",
    "master_df['order_estimated_delivery_date'] =  pd.to_datetime(master_df['order_estimated_delivery_date'], format='%Y-%m-%d %H:%M:%S')"
   ]
  },
  {
   "cell_type": "code",
   "execution_count": null,
   "id": "0aaaf8ed-876d-451b-aa36-32938163b7d5",
   "metadata": {},
   "outputs": [],
   "source": [
    "master_df.rename(columns ={'geolocation_lat':'customer_geolocation_lat','geolocation_lng':'customer_geolocation_lng'},inplace= True)"
   ]
  },
  {
   "cell_type": "code",
   "execution_count": null,
   "id": "66386c36-0c22-4afb-a08b-a0c9cd711452",
   "metadata": {},
   "outputs": [],
   "source": [
    "master_df = master_df.merge(location, left_on=['seller_zip_code_prefix', 'seller_city', 'seller_state'], right_on=['geolocation_zip_code_prefix','geolocation_city','geolocation_state'])"
   ]
  },
  {
   "cell_type": "code",
   "execution_count": null,
   "id": "552958b8-2cfc-4e91-bd59-acbb3e127bee",
   "metadata": {},
   "outputs": [],
   "source": [
    "master_df.rename(columns ={'geolocation_lat':'seller_geolocation_lat','geolocation_lng':'seller_geolocation_lng'},inplace= True)\n",
    "master_df.drop(columns=['geolocation_zip_code_prefix_x','geolocation_city_x','geolocation_state_x','geolocation_zip_code_prefix_y','geolocation_city_y','geolocation_state_y'],inplace= True)"
   ]
  },
  {
   "cell_type": "markdown",
   "id": "4971c9f3-f9ff-4e68-95c2-a3b72f6ab985",
   "metadata": {},
   "source": [
    "Get only delivered item"
   ]
  },
  {
   "cell_type": "code",
   "execution_count": null,
   "id": "9cc61df6-826b-49d3-b67d-318d5eb38262",
   "metadata": {},
   "outputs": [],
   "source": [
    "master_df.dropna(subset = ['order_delivered_customer_date'],inplace=True)"
   ]
  },
  {
   "cell_type": "code",
   "execution_count": null,
   "id": "5af23494-bb92-4881-b4d3-eb7ae7edf2bb",
   "metadata": {},
   "outputs": [],
   "source": [
    "#master_df['is_late'] = master_df['order_delivered_customer_date'] > master_df['order_estimated_delivery_date']"
   ]
  },
  {
   "cell_type": "code",
   "execution_count": null,
   "id": "96a1ae85-8842-4e2b-972e-d7b913f0d7f9",
   "metadata": {},
   "outputs": [],
   "source": [
    "master_df['day_diff_delivered_estimate'] = (master_df['order_delivered_customer_date'] - master_df['order_estimated_delivery_date']).dt.days\n"
   ]
  },
  {
   "cell_type": "code",
   "execution_count": null,
   "id": "cfb0cf13-7d8a-4682-b26c-f22aace36a50",
   "metadata": {},
   "outputs": [],
   "source": [
    "def haversine_distance(lat1, lon1, lat2, lon2):\n",
    "   r = 6371\n",
    "   phi1 = np.radians(lat1)\n",
    "   phi2 = np.radians(lat2)\n",
    "   delta_phi = np.radians(lat2 - lat1)\n",
    "   delta_lambda = np.radians(lon2 - lon1)\n",
    "   a = np.sin(delta_phi / 2)**2 + np.cos(phi1) * np.cos(phi2) *   np.sin(delta_lambda / 2)**2\n",
    "   res = r * (2 * np.arctan2(np.sqrt(a), np.sqrt(1 - a)))\n",
    "   return np.round(res, 2)"
   ]
  },
  {
   "cell_type": "code",
   "execution_count": null,
   "id": "7d926f45-5681-429f-900f-76475c3700f4",
   "metadata": {},
   "outputs": [],
   "source": [
    "master_df['distance_between_seller_and_buyer'] = haversine_distance(master_df['customer_geolocation_lat'],master_df['customer_geolocation_lng'],master_df['seller_geolocation_lat'],master_df['seller_geolocation_lng'])"
   ]
  },
  {
   "cell_type": "code",
   "execution_count": null,
   "id": "64ca6ec2-3e67-447a-b72e-cd585285d366",
   "metadata": {},
   "outputs": [],
   "source": [
    "df = master_df[['distance_between_seller_and_buyer','day_diff_delivered_estimate']]"
   ]
  },
  {
   "cell_type": "code",
   "execution_count": null,
   "id": "11eda27a-064f-4753-a3a2-219a90972dfa",
   "metadata": {},
   "outputs": [],
   "source": [
    "fig, ax = plt.subplots(figsize=(6, 6))\n",
    "sns.set_theme(style=\"whitegrid\")\n",
    "#sns.scatterplot(data=df, x=\"distance_between_seller_and_buyer\", y=\"day_diff_delivered_estimate\",ax=ax)\n",
    "\n",
    "sns.kdeplot(\n",
    "    data=df,\n",
    "    x=\"distance_between_seller_and_buyer\",\n",
    "    y=\"day_diff_delivered_estimate\",\n",
    "    levels=5,\n",
    "    fill=True,\n",
    "    alpha=0.6,\n",
    "    cut=2,\n",
    "    ax=ax,\n",
    ")"
   ]
  }
 ],
 "metadata": {
  "kernelspec": {
   "display_name": "Python 3 (ipykernel)",
   "language": "python",
   "name": "python3"
  },
  "language_info": {
   "codemirror_mode": {
    "name": "ipython",
    "version": 3
   },
   "file_extension": ".py",
   "mimetype": "text/x-python",
   "name": "python",
   "nbconvert_exporter": "python",
   "pygments_lexer": "ipython3",
   "version": "3.9.12"
  }
 },
 "nbformat": 4,
 "nbformat_minor": 5
}
