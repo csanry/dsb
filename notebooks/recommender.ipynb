{
 "cells": [
  {
   "cell_type": "markdown",
   "id": "05d212d9-6d04-465c-8cf3-6257f5796c2b",
   "metadata": {},
   "source": [
    "# Install Libraries"
   ]
  },
  {
   "cell_type": "code",
   "execution_count": null,
   "id": "b9a27a6b-9f27-4328-bb5b-a9d1441b345a",
   "metadata": {},
   "outputs": [],
   "source": [
    "!pip install lightfm"
   ]
  },
  {
   "cell_type": "markdown",
   "id": "87aa512f-addf-44db-86dc-6b263e860ea5",
   "metadata": {},
   "source": [
    "# Import"
   ]
  },
  {
   "cell_type": "code",
   "execution_count": null,
   "id": "203c950b-f70e-4a6e-83b1-4bb83b1ad20f",
   "metadata": {},
   "outputs": [],
   "source": [
    "import pandas as pd\n",
    "import numpy as np\n",
    "import matplotlib.pyplot as plt\n",
    "import seaborn as sns\n",
    "from sklearn.preprocessing import LabelEncoder\n",
    "from sklearn.preprocessing import OneHotEncoder\n",
    "import pandas\n",
    "from sklearn.decomposition import PCA\n",
    "import numpy\n",
    "import matplotlib.pyplot as plot\n",
    "import random\n",
    "from scipy import sparse\n",
    "from lightfm import LightFM\n",
    "from lightfm.evaluation import auc_score"
   ]
  },
  {
   "cell_type": "markdown",
   "id": "ed5d438d-1170-4e09-8a5a-4757466f4e08",
   "metadata": {},
   "source": [
    "# Load Data"
   ]
  },
  {
   "cell_type": "code",
   "execution_count": null,
   "id": "3a841932-e22c-4722-b8b2-26916f8c366a",
   "metadata": {},
   "outputs": [],
   "source": [
    "# list of prefered dataframe names in same order as directory\n",
    "customers = pd.read_csv(\"/project/data/raw/olist_customers_dataset.csv\")\n",
    "location = pd.read_csv(\"/project/data/raw/olist_geolocation_dataset.csv\")\n",
    "orders = pd.read_csv(\"/project/data/raw/olist_orders_dataset.csv\")\n",
    "order_items = pd.read_csv(\"/project/data/raw/olist_order_items_dataset.csv\")\n",
    "payments = pd.read_csv(\"/project/data/raw/olist_order_payments_dataset.csv\")\n",
    "reviews = pd.read_csv(\"/project/data/raw/olist_order_reviews_dataset.csv\")\n",
    "products = pd.read_csv(\"/project/data/raw/olist_products_dataset.csv\")\n",
    "sellers = pd.read_csv(\"/project/data/raw/olist_sellers_dataset.csv\")\n",
    "translation = pd.read_csv(\"/project/data/raw/product_category_name_translation.csv\")"
   ]
  },
  {
   "cell_type": "markdown",
   "id": "5bae99bd-f3f3-4eee-a749-cdbbbdbb346c",
   "metadata": {},
   "source": [
    "# Looking at customer table"
   ]
  },
  {
   "cell_type": "code",
   "execution_count": null,
   "id": "c702fd06-cae8-4349-b1f3-d74f480832a7",
   "metadata": {},
   "outputs": [],
   "source": [
    "customers.head()"
   ]
  },
  {
   "cell_type": "markdown",
   "id": "84784c1b-b492-45b1-afd9-31ce3ac2a804",
   "metadata": {},
   "source": [
    "Our customers have not much information, we are unable to use much information about our customer to do customer-feature \n",
    "\n",
    "But we can use the interaction as user feature (aka collaborative filtering)"
   ]
  },
  {
   "cell_type": "markdown",
   "id": "e8fd1b5c-c3d5-4578-b02d-9b19c80c0638",
   "metadata": {},
   "source": [
    "# Merge Order with order item"
   ]
  },
  {
   "cell_type": "code",
   "execution_count": null,
   "id": "19a6478a-a3ca-45e5-bdae-c599c3081d3d",
   "metadata": {},
   "outputs": [],
   "source": [
    "master_df = orders.merge(order_items, on=\"order_id\").merge(customers, on=\"customer_id\").merge(sellers, on=\"seller_id\").merge(products, on=\"product_id\").merge(translation, on='product_category_name')\n",
    "master_df = master_df.sort_values(by=['order_purchase_timestamp'])"
   ]
  },
  {
   "cell_type": "markdown",
   "id": "a2415fa9-ec7c-4946-94e8-56bd19e92ed0",
   "metadata": {},
   "source": [
    "# Master Table is the giant table"
   ]
  },
  {
   "cell_type": "code",
   "execution_count": null,
   "id": "3cdefc55-2b75-427e-9c5d-ee1914837e77",
   "metadata": {},
   "outputs": [],
   "source": [
    "master_df.head(5)"
   ]
  },
  {
   "cell_type": "markdown",
   "id": "d59e14b0-c48a-4956-8ee8-f862cdac33a4",
   "metadata": {},
   "source": [
    "# Check how many customer with more than 1 item purchase"
   ]
  },
  {
   "cell_type": "code",
   "execution_count": null,
   "id": "a24f57a4-de9c-4388-9768-7ae28d1b5f3e",
   "metadata": {},
   "outputs": [],
   "source": [
    "temp = master_df.groupby(\"customer_unique_id\").count()[\"order_id\"].reset_index()\n",
    "temp = temp[temp[\"order_id\"] > 1]\n",
    "temp.sort_values(by='order_id',ascending = False).reset_index(drop=True)"
   ]
  },
  {
   "cell_type": "markdown",
   "id": "db15d650-9fc2-445e-bc2e-8ae2318a8e92",
   "metadata": {},
   "source": [
    "We focus on the 11612 customer that got at least two item, as we can use their engagement with the system, and predict what they will buy next, we will take 20% of the transaction as testing and use 80% to feed our lightfm model to train our recommender system\n",
    "\n",
    "After merging we got a few missing row due to NA category"
   ]
  },
  {
   "cell_type": "markdown",
   "id": "2f84bfdb-bebb-480e-af2a-f0e794aa42db",
   "metadata": {},
   "source": [
    "# Create a unique list of user and a unique list of item"
   ]
  },
  {
   "cell_type": "code",
   "execution_count": null,
   "id": "83a79912-3c72-4890-8e81-526d6630e812",
   "metadata": {},
   "outputs": [],
   "source": [
    "user_list = master_df[\"customer_unique_id\"].unique()\n",
    "item_list = master_df[\"product_id\"].unique()"
   ]
  },
  {
   "cell_type": "markdown",
   "id": "24839a18-d2ea-443e-a08d-a8f04ff2aa5d",
   "metadata": {},
   "source": [
    "# Create a list of mapping"
   ]
  },
  {
   "cell_type": "markdown",
   "id": "474ebf3f-bcdc-4e24-b625-076fe8bacb85",
   "metadata": {},
   "source": [
    "Create a index to user and a reverse user to index mapping, as we change to 2-d matrix, we lost the column name, so by having a dictionary is useful"
   ]
  },
  {
   "cell_type": "code",
   "execution_count": null,
   "id": "dedd4247-081e-436b-bfe9-e68a9b66e490",
   "metadata": {},
   "outputs": [],
   "source": [
    "def gen_mapping(input_list):\n",
    "    a2b = {}\n",
    "    b2a = {}\n",
    "    for a, b in enumerate(input_list):\n",
    "        a2b[b] = a\n",
    "        b2a[a] = b\n",
    "    return a2b,b2a"
   ]
  },
  {
   "cell_type": "code",
   "execution_count": null,
   "id": "d5959c7b-dae4-4b94-bb01-a60c1bc826e0",
   "metadata": {},
   "outputs": [],
   "source": [
    "user_to_index_mapping , index_to_user_mapping = gen_mapping(user_list)\n",
    "item_to_index_mapping , index_to_item_mapping= gen_mapping(item_list)"
   ]
  },
  {
   "cell_type": "code",
   "execution_count": null,
   "id": "494abd0f-c4bd-49e9-bfb7-d88cd274491c",
   "metadata": {},
   "outputs": [],
   "source": [
    "user_to_product_rating = master_df[['customer_unique_id', 'product_id']].sort_values(by='customer_unique_id').reset_index(drop=True)"
   ]
  },
  {
   "cell_type": "code",
   "execution_count": null,
   "id": "43ca9c80-6539-4506-8b40-0c8c3ab589a6",
   "metadata": {},
   "outputs": [],
   "source": [
    "user_to_product_rating"
   ]
  },
  {
   "cell_type": "markdown",
   "id": "2756a9a7-01a0-4d0c-af9f-73e14e1cb369",
   "metadata": {
    "tags": []
   },
   "source": [
    "# Split Train Test"
   ]
  },
  {
   "cell_type": "code",
   "execution_count": null,
   "id": "9d65f5a2-9735-4e7c-a4a4-b76def9e489f",
   "metadata": {},
   "outputs": [],
   "source": [
    "np.random.seed(2022)\n",
    "\n",
    "#Split 80% for training 20% for testing\n",
    "rows = np.random.binomial(1, .8, size=len(user_to_product_rating)).astype('bool')\n",
    "\n",
    "user_to_product_rating_train = user_to_product_rating[rows].reset_index(drop=True)\n",
    "user_to_product_rating_test = user_to_product_rating[~rows].reset_index(drop=True)"
   ]
  },
  {
   "cell_type": "markdown",
   "id": "c79e5d72-a38e-4ca3-935d-563fa02f6e2b",
   "metadata": {},
   "source": [
    "# Convert Interaction into matrix"
   ]
  },
  {
   "cell_type": "code",
   "execution_count": null,
   "id": "a06ffd92-ccf7-4f41-b870-b114114a8bd7",
   "metadata": {},
   "outputs": [],
   "source": [
    "def get_interaction_matrix(df, df_column_as_row, df_column_as_col, row_indexing_map, \n",
    "                          col_indexing_map):\n",
    "    \n",
    "    row = df[df_column_as_row].apply(lambda x: row_indexing_map[x]).values\n",
    "    col = df[df_column_as_col].apply(lambda x: col_indexing_map[x]).values\n",
    "    value = [1 for x in range(len(df[df_column_as_col]))]\n",
    "    return sparse.coo_matrix((value, (row, col)), shape = (len(row_indexing_map), len(col_indexing_map)))"
   ]
  },
  {
   "cell_type": "code",
   "execution_count": null,
   "id": "70f77abd-b023-4501-b979-2ed80ac100d2",
   "metadata": {},
   "outputs": [],
   "source": [
    "user_to_product_interaction_train = get_interaction_matrix(user_to_product_rating_train, \"customer_unique_id\", \n",
    "                                                    \"product_id\", user_to_index_mapping, item_to_index_mapping)\n",
    "user_to_product_interaction_test = get_interaction_matrix(user_to_product_rating_test, \"customer_unique_id\", \n",
    "                                                    \"product_id\", user_to_index_mapping, item_to_index_mapping)"
   ]
  },
  {
   "cell_type": "markdown",
   "id": "c67d3843-4292-41d6-8f38-fe28042e4a7b",
   "metadata": {},
   "source": [
    "## Model with only collaborative interactions"
   ]
  },
  {
   "cell_type": "code",
   "execution_count": null,
   "id": "85dfa2fe-c3c4-4dcf-855a-7bc431b1b918",
   "metadata": {},
   "outputs": [],
   "source": [
    "from lightfm import LightFM\n",
    "from lightfm.evaluation import auc_score\n",
    "\n",
    "#Create simple model\n",
    "model_without_features = LightFM()\n",
    "model_without_features.fit(user_to_product_interaction_train)\n",
    "\n",
    "# Check AUC score\n",
    "auc_without_features = auc_score(model = model_without_features, test_interactions = user_to_product_interaction_test)\n",
    "print(\"Average AUC with only collaborative interactions:\", auc_without_features.mean())"
   ]
  },
  {
   "cell_type": "code",
   "execution_count": null,
   "id": "91f469c8-21e7-4f75-93a7-55f8f2d944fc",
   "metadata": {},
   "outputs": [],
   "source": [
    "def recommendation_for_user( model, items, user_to_product_interaction_matrix, user):\n",
    "\n",
    "    # getting the userindex\n",
    "    userindex = user_to_index_mapping.get(user, None)\n",
    "    if userindex == None:\n",
    "        print(\"Not a valid customer\")\n",
    "        return None\n",
    "    users = userindex\n",
    "    # products already bought\n",
    "    known_positives = items[user_to_product_interaction_matrix.tocsr()[userindex].indices]\n",
    "    # scores from model prediction\n",
    "    scores = model.predict(user_ids = users, item_ids = np.arange(user_to_product_interaction_matrix.shape[1]))\n",
    "\n",
    "    # top items\n",
    "    top_items = items[np.argsort(-scores)]\n",
    "\n",
    "    # printing out the result\n",
    "    print(\"User:\\t\\t\\t\", user)\n",
    "    print(\"Known Purchases:\")\n",
    "    for x in known_positives[:3]:\n",
    "        print(\"\\t\\t\\t\",x)\n",
    "        print(\"\\t\\t\\t\",master_df[master_df['product_id']==x]['product_category_name_english'].iloc[0])\n",
    "    print(\"Recommended Item:\")\n",
    "    for x in top_items[:3]:\n",
    "        print(\"\\t\\t\\t\",x)\n",
    "        print(\"\\t\\t\\t\",master_df[master_df['product_id']==x]['product_category_name_english'].iloc[0])"
   ]
  },
  {
   "cell_type": "code",
   "execution_count": null,
   "id": "b8c8e3a7-5835-4770-a89b-25b218e2df99",
   "metadata": {},
   "outputs": [],
   "source": [
    "recommendation_for_user(model_without_features,item_list,user_to_product_interaction_train,'3a51803cc0d012c3b5dc8b7528cb05f7')"
   ]
  },
  {
   "cell_type": "markdown",
   "id": "7a1c2f75-ac67-447b-8760-1d71caf5574b",
   "metadata": {},
   "source": [
    "# Preview a few user"
   ]
  },
  {
   "cell_type": "code",
   "execution_count": null,
   "id": "bf92b46d-b3c9-4eb8-9077-d30029555612",
   "metadata": {},
   "outputs": [],
   "source": [
    "for x in user_list[:10]:\n",
    "    recommendation_for_user(model_without_features,item_list,user_to_product_interaction_train,x)\n",
    "    print(\"-\"*100)"
   ]
  },
  {
   "cell_type": "markdown",
   "id": "21a537da-ae8b-423e-9bbf-90acb2be0abc",
   "metadata": {},
   "source": [
    "# Adding Content Filtering"
   ]
  },
  {
   "cell_type": "markdown",
   "id": "fa6a29f4-7eea-493d-8361-69b63bfd805b",
   "metadata": {},
   "source": [
    "<b>Product-feature interactions df:</b>\n",
    "\n",
    "We want to now create a dataframe that describes the relationship between product and features."
   ]
  },
  {
   "cell_type": "code",
   "execution_count": null,
   "id": "e19561f0-3668-4f2c-8001-5f0f9c90dbc9",
   "metadata": {},
   "outputs": [],
   "source": [
    "product_to_feature = master_df[[\"product_id\",\"product_category_name_english\", \"seller_id\",\"seller_city\", \"seller_state\"]].drop_duplicates('product_id').reset_index(drop=True)"
   ]
  },
  {
   "cell_type": "markdown",
   "id": "6a362d1d-bba8-4368-981f-d54bdb73e90e",
   "metadata": {},
   "source": [
    "This dense the list of product and feature into two columns [product_id, feature]"
   ]
  },
  {
   "cell_type": "code",
   "execution_count": null,
   "id": "2e5d6f25-b820-4361-bad7-676ce907848c",
   "metadata": {},
   "outputs": [],
   "source": [
    "product_to_feature = pd.concat([product_to_feature[[\"product_id\",x]].rename(columns = {x:'feature'}) for x in [\"product_category_name_english\", \"seller_id\",\"seller_city\", \"seller_state\"]], ignore_index = True)\n",
    "product_to_feature"
   ]
  },
  {
   "cell_type": "code",
   "execution_count": null,
   "id": "c1a34e8a-94bf-4f8a-aad9-33cb7cae107b",
   "metadata": {},
   "outputs": [],
   "source": [
    "item_features_list = product_to_feature['feature'].unique()"
   ]
  },
  {
   "cell_type": "code",
   "execution_count": null,
   "id": "26cf84bb-9465-440d-800b-4d9f9cb118c7",
   "metadata": {},
   "outputs": [],
   "source": [
    "item_feature_to_index_mapping ,index_to_item_feature_mapping = gen_mapping(item_features_list)"
   ]
  },
  {
   "cell_type": "code",
   "execution_count": null,
   "id": "a854ddde-7804-4757-9b21-9f8dd2fcf2a8",
   "metadata": {},
   "outputs": [],
   "source": [
    "# generate item_to_feature interaction\n",
    "product_to_feature_interaction = get_interaction_matrix(product_to_feature, \"product_id\", \"feature\", \n",
    "                                                        item_to_index_mapping, item_feature_to_index_mapping)"
   ]
  },
  {
   "cell_type": "markdown",
   "id": "18d1bb26-30de-45df-af3d-06254b84151d",
   "metadata": {},
   "source": [
    "## Model with only collaborative interactions + content filtering"
   ]
  },
  {
   "cell_type": "code",
   "execution_count": null,
   "id": "98c3dc65-fef0-4163-a11d-4e3d9b48a035",
   "metadata": {},
   "outputs": [],
   "source": [
    "#Create simple model\n",
    "model_with_features = LightFM()\n",
    "model_with_features.fit(user_to_product_interaction_train,\n",
    "          item_features=product_to_feature_interaction)\n",
    "\n",
    "# Check AUC score\n",
    "auc_with_features = auc_score(model = model_with_features, test_interactions = user_to_product_interaction_test,\n",
    "          item_features=product_to_feature_interaction )\n",
    "print(\"Average AUC with only collaborative interactions + content filtering :\", auc_with_features.mean())"
   ]
  }
 ],
 "metadata": {
  "kernelspec": {
   "display_name": "Python 3 (ipykernel)",
   "language": "python",
   "name": "python3"
  },
  "language_info": {
   "codemirror_mode": {
    "name": "ipython",
    "version": 3
   },
   "file_extension": ".py",
   "mimetype": "text/x-python",
   "name": "python",
   "nbconvert_exporter": "python",
   "pygments_lexer": "ipython3",
   "version": "3.9.12"
  },
  "vscode": {
   "interpreter": {
    "hash": "b09ec625f77bf4fd762565a912b97636504ad6ec901eb2d0f4cf5a7de23e1ee5"
   }
  }
 },
 "nbformat": 4,
 "nbformat_minor": 5
}
