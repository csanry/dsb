{
 "cells": [
  {
   "cell_type": "markdown",
   "id": "05d212d9-6d04-465c-8cf3-6257f5796c2b",
   "metadata": {},
   "source": [
    "# Install Libraries"
   ]
  },
  {
   "cell_type": "code",
   "execution_count": null,
   "id": "b9a27a6b-9f27-4328-bb5b-a9d1441b345a",
   "metadata": {},
   "outputs": [],
   "source": [
    "!pip install lightfm"
   ]
  },
  {
   "cell_type": "markdown",
   "id": "87aa512f-addf-44db-86dc-6b263e860ea5",
   "metadata": {},
   "source": [
    "# Import"
   ]
  },
  {
   "cell_type": "code",
   "execution_count": null,
   "id": "203c950b-f70e-4a6e-83b1-4bb83b1ad20f",
   "metadata": {},
   "outputs": [],
   "source": [
    "import pandas as pd\n",
    "import numpy as np\n",
    "import matplotlib.pyplot as plt\n",
    "import seaborn as sns\n",
    "from sklearn.preprocessing import LabelEncoder\n",
    "from sklearn.preprocessing import OneHotEncoder\n",
    "import pandas\n",
    "from sklearn.decomposition import PCA\n",
    "import numpy\n",
    "import matplotlib.pyplot as plot\n",
    "import random\n",
    "from scipy import sparse\n",
    "from lightfm import LightFM\n",
    "from lightfm.evaluation import auc_score"
   ]
  },
  {
   "cell_type": "markdown",
   "id": "ed5d438d-1170-4e09-8a5a-4757466f4e08",
   "metadata": {},
   "source": [
    "# Load Data"
   ]
  },
  {
   "cell_type": "code",
   "execution_count": null,
   "id": "3a841932-e22c-4722-b8b2-26916f8c366a",
   "metadata": {},
   "outputs": [],
   "source": [
    "# list of prefered dataframe names in same order as directory\n",
    "customers = pd.read_csv(\"/project/data/raw/olist_customers_dataset.csv\")\n",
    "location = pd.read_csv(\"/project/data/raw/olist_geolocation_dataset.csv\")\n",
    "orders = pd.read_csv(\"/project/data/raw/olist_orders_dataset.csv\")\n",
    "order_items = pd.read_csv(\"/project/data/raw/olist_order_items_dataset.csv\")\n",
    "payments = pd.read_csv(\"/project/data/raw/olist_order_payments_dataset.csv\")\n",
    "reviews = pd.read_csv(\"/project/data/raw/olist_order_reviews_dataset.csv\")\n",
    "products = pd.read_csv(\"/project/data/raw/olist_products_dataset.csv\")\n",
    "sellers = pd.read_csv(\"/project/data/raw/olist_sellers_dataset.csv\")\n",
    "translation = pd.read_csv(\"/project/data/raw/product_category_name_translation.csv\")"
   ]
  },
  {
   "cell_type": "markdown",
   "id": "5bae99bd-f3f3-4eee-a749-cdbbbdbb346c",
   "metadata": {},
   "source": [
    "# Looking at customer table"
   ]
  },
  {
   "cell_type": "code",
   "execution_count": null,
   "id": "c702fd06-cae8-4349-b1f3-d74f480832a7",
   "metadata": {},
   "outputs": [],
   "source": [
    "customers.head()"
   ]
  },
  {
   "cell_type": "markdown",
   "id": "84784c1b-b492-45b1-afd9-31ce3ac2a804",
   "metadata": {},
   "source": [
    "Our customers have not much information, we are unable to use much information about our customer to do customer-feature \n",
    "\n",
    "But we can use the interaction as user feature (aka collaborative filtering)"
   ]
  },
  {
   "cell_type": "markdown",
   "id": "e8fd1b5c-c3d5-4578-b02d-9b19c80c0638",
   "metadata": {},
   "source": [
    "# Merge Order with order item"
   ]
  },
  {
   "cell_type": "code",
   "execution_count": null,
   "id": "19a6478a-a3ca-45e5-bdae-c599c3081d3d",
   "metadata": {},
   "outputs": [],
   "source": [
    "master_df = orders.merge(order_items, on=\"order_id\").merge(customers, on=\"customer_id\").merge(sellers, on=\"seller_id\").merge(products, on=\"product_id\").merge(translation, on='product_category_name').merge(reviews, on=\"order_id\")\n",
    "master_df = master_df.sort_values(by=['order_purchase_timestamp'])"
   ]
  },
  {
   "cell_type": "markdown",
   "id": "a2415fa9-ec7c-4946-94e8-56bd19e92ed0",
   "metadata": {},
   "source": [
    "# Master Table is the giant table"
   ]
  },
  {
   "cell_type": "code",
   "execution_count": null,
   "id": "3cdefc55-2b75-427e-9c5d-ee1914837e77",
   "metadata": {},
   "outputs": [],
   "source": [
    "master_df.head(5)"
   ]
  },
  {
   "cell_type": "markdown",
   "id": "d59e14b0-c48a-4956-8ee8-f862cdac33a4",
   "metadata": {},
   "source": [
    "# Check how many customer with more than 1 item purchase"
   ]
  },
  {
   "cell_type": "code",
   "execution_count": null,
   "id": "a24f57a4-de9c-4388-9768-7ae28d1b5f3e",
   "metadata": {},
   "outputs": [],
   "source": [
    "temp = master_df.groupby(\"customer_unique_id\").count()[\"order_id\"].reset_index()\n",
    "temp = temp[temp[\"order_id\"] > 1]\n",
    "temp.sort_values(by='order_id',ascending = False).reset_index(drop=True)"
   ]
  },
  {
   "cell_type": "markdown",
   "id": "db15d650-9fc2-445e-bc2e-8ae2318a8e92",
   "metadata": {},
   "source": [
    "We focus on the 11612 customer that got at least two item, as we can use their engagement with the system, and predict what they will buy next, we will take 20% of the transaction as testing and use 80% to feed our lightfm model to train our recommender system\n",
    "\n",
    "After merging we got a few missing row due to NA category"
   ]
  },
  {
   "cell_type": "markdown",
   "id": "2f84bfdb-bebb-480e-af2a-f0e794aa42db",
   "metadata": {},
   "source": [
    "# Create a unique list of user and a unique list of item"
   ]
  },
  {
   "cell_type": "code",
   "execution_count": null,
   "id": "83a79912-3c72-4890-8e81-526d6630e812",
   "metadata": {},
   "outputs": [],
   "source": [
    "user_list = master_df[\"customer_unique_id\"].unique()\n",
    "item_list = master_df[\"product_id\"].unique()"
   ]
  },
  {
   "cell_type": "markdown",
   "id": "24839a18-d2ea-443e-a08d-a8f04ff2aa5d",
   "metadata": {},
   "source": [
    "# Create a list of mapping"
   ]
  },
  {
   "cell_type": "code",
   "execution_count": null,
   "id": "d5959c7b-dae4-4b94-bb01-a60c1bc826e0",
   "metadata": {},
   "outputs": [],
   "source": [
    "user_to_index_mapping = {}\n",
    "index_to_user_mapping = {}\n",
    "for user_index, user_id in enumerate(user_list):\n",
    "    user_to_index_mapping[user_id] = user_index\n",
    "    index_to_user_mapping[user_index] = user_id"
   ]
  },
  {
   "cell_type": "code",
   "execution_count": null,
   "id": "bb0e6a7d-e59b-4ff9-b1ce-39489d107aeb",
   "metadata": {},
   "outputs": [],
   "source": [
    "item_to_index_mapping = {}\n",
    "index_to_item_mapping = {}\n",
    "for item_index, item_id in enumerate(item_list):\n",
    "    item_to_index_mapping[item_id] = item_index\n",
    "    index_to_item_mapping[item_index] = item_id"
   ]
  },
  {
   "cell_type": "code",
   "execution_count": null,
   "id": "494abd0f-c4bd-49e9-bfb7-d88cd274491c",
   "metadata": {},
   "outputs": [],
   "source": [
    "user_to_product_rating = master_df[['customer_unique_id', 'product_id']].sort_values(by='customer_unique_id').reset_index(drop=True)"
   ]
  },
  {
   "cell_type": "code",
   "execution_count": null,
   "id": "43ca9c80-6539-4506-8b40-0c8c3ab589a6",
   "metadata": {},
   "outputs": [],
   "source": [
    "user_to_product_rating"
   ]
  },
  {
   "cell_type": "markdown",
   "id": "2756a9a7-01a0-4d0c-af9f-73e14e1cb369",
   "metadata": {
    "tags": []
   },
   "source": [
    "# Split Train Test"
   ]
  },
  {
   "cell_type": "code",
   "execution_count": null,
   "id": "9d65f5a2-9735-4e7c-a4a4-b76def9e489f",
   "metadata": {},
   "outputs": [],
   "source": [
    "np.random.seed(10)\n",
    "\n",
    "#Split 80% for training 20% for testing\n",
    "rows = np.random.binomial(1, .8, size=len(user_to_product_rating)).astype('bool')\n",
    "\n",
    "user_to_product_rating_train = user_to_product_rating[rows].reset_index(drop=True)\n",
    "user_to_product_rating_test = user_to_product_rating[~rows].reset_index(drop=True)"
   ]
  },
  {
   "cell_type": "markdown",
   "id": "c79e5d72-a38e-4ca3-935d-563fa02f6e2b",
   "metadata": {},
   "source": [
    "# Convert Interaction into matric"
   ]
  },
  {
   "cell_type": "code",
   "execution_count": null,
   "id": "a06ffd92-ccf7-4f41-b870-b114114a8bd7",
   "metadata": {},
   "outputs": [],
   "source": [
    "def get_interaction_matrix(df, df_column_as_row, df_column_as_col, row_indexing_map, \n",
    "                          col_indexing_map):\n",
    "    \n",
    "    row = df[df_column_as_row].apply(lambda x: row_indexing_map[x]).values\n",
    "    col = df[df_column_as_col].apply(lambda x: col_indexing_map[x]).values\n",
    "    value = [1 for x in range(len(df[df_column_as_col]))]\n",
    "    return sparse.coo_matrix((value, (row, col)), shape = (len(row_indexing_map), len(col_indexing_map)))"
   ]
  },
  {
   "cell_type": "code",
   "execution_count": null,
   "id": "70f77abd-b023-4501-b979-2ed80ac100d2",
   "metadata": {},
   "outputs": [],
   "source": [
    "user_to_product_interaction_train = get_interaction_matrix(user_to_product_rating_train, \"customer_unique_id\", \n",
    "                                                    \"product_id\", user_to_index_mapping, item_to_index_mapping)\n",
    "user_to_product_interaction_test = get_interaction_matrix(user_to_product_rating_test, \"customer_unique_id\", \n",
    "                                                    \"product_id\", user_to_index_mapping, item_to_index_mapping)"
   ]
  },
  {
   "cell_type": "markdown",
   "id": "c67d3843-4292-41d6-8f38-fe28042e4a7b",
   "metadata": {},
   "source": [
    "## Model with only collaborative interactions"
   ]
  },
  {
   "cell_type": "code",
   "execution_count": null,
   "id": "85dfa2fe-c3c4-4dcf-855a-7bc431b1b918",
   "metadata": {},
   "outputs": [],
   "source": [
    "from lightfm import LightFM\n",
    "from lightfm.evaluation import auc_score\n",
    "\n",
    "#Create simple model\n",
    "model_without_features = LightFM()\n",
    "model_without_features.fit(user_to_product_interaction_train)\n",
    "\n",
    "# Check AUC score\n",
    "auc_without_features = auc_score(model = model_without_features, test_interactions = user_to_product_interaction_test)\n",
    "print(\"Average AUC with only collaborative interactions:\", auc_without_features.mean())"
   ]
  },
  {
   "cell_type": "code",
   "execution_count": null,
   "id": "91f469c8-21e7-4f75-93a7-55f8f2d944fc",
   "metadata": {},
   "outputs": [],
   "source": [
    "def recommendation_for_user( model, items, user_to_product_interaction_matrix, user):\n",
    "\n",
    "    # getting the userindex\n",
    "    userindex = user_to_index_mapping.get(user, None)\n",
    "    if userindex == None:\n",
    "        print(\"Not a valid customer\")\n",
    "        return None\n",
    "    users = userindex\n",
    "    # products already bought\n",
    "    known_positives = items[user_to_product_interaction_matrix.tocsr()[userindex].indices]\n",
    "    # scores from model prediction\n",
    "    scores = model.predict(user_ids = users, item_ids = np.arange(user_to_product_interaction_matrix.shape[1]))\n",
    "\n",
    "    # top items\n",
    "\n",
    "    top_items = items[np.argsort(-scores)]\n",
    "\n",
    "    # printing out the result\n",
    "    print(\"User:\\t\\t\\t\", user)\n",
    "    print(\"Known Purchases:\")\n",
    "    for x in known_positives[:3]:\n",
    "        print(\"\\t\\t\\t\",x)\n",
    "        print(\"\\t\\t\\t\",master_df[master_df['product_id']==x]['product_category_name_english'].iloc[0])\n",
    "    print(\"Recommended Item:\")\n",
    "    for x in top_items[:3]:\n",
    "        print(\"\\t\\t\\t\",x)\n",
    "        print(\"\\t\\t\\t\",master_df[master_df['product_id']==x]['product_category_name_english'].iloc[0])"
   ]
  },
  {
   "cell_type": "code",
   "execution_count": null,
   "id": "b8c8e3a7-5835-4770-a89b-25b218e2df99",
   "metadata": {},
   "outputs": [],
   "source": [
    "recommendation_for_user(model_without_features,item_list,user_to_product_interaction_train,'3a51803cc0d012c3b5dc8b7528cb05f7')"
   ]
  },
  {
   "cell_type": "markdown",
   "id": "21a537da-ae8b-423e-9bbf-90acb2be0abc",
   "metadata": {},
   "source": [
    "# Adding Content Filtering"
   ]
  },
  {
   "cell_type": "markdown",
   "id": "fa6a29f4-7eea-493d-8361-69b63bfd805b",
   "metadata": {},
   "source": [
    "<b>Product-feature interactions df:</b>\n",
    "\n",
    "We want to now create a dataframe that describes the relationship between product and features."
   ]
  },
  {
   "cell_type": "code",
   "execution_count": null,
   "id": "e19561f0-3668-4f2c-8001-5f0f9c90dbc9",
   "metadata": {},
   "outputs": [],
   "source": [
    "product_to_feature = master_df[[\"product_id\",\"product_category_name_english\", \"seller_id\",\"seller_city\", \"seller_state\"]].drop_duplicates('product_id').reset_index(drop=True)"
   ]
  },
  {
   "cell_type": "code",
   "execution_count": null,
   "id": "e786d404-9f9b-4f92-b3ba-57d4622c20cb",
   "metadata": {},
   "outputs": [],
   "source": [
    "# Transpose product_to_feature to extract features for each product_id\n",
    "df = product_to_feature.set_index('product_id').T.reset_index(drop=True)\n",
    "\n",
    "# Need to create list of product_id's repeated 6 times for each feature the resulting df will hold\n",
    "cols = list(df.columns)\n",
    "res =  [ele for ele in cols for i in range(len(product_to_feature.columns) - 1)]\n",
    "\n",
    "# Create empty dataframe with index as product_id\n",
    "features = pd.DataFrame(index = res)\n",
    "features.index.name = 'product_id'\n",
    "\n",
    "# Reset index so 'product_id' becomes column\n",
    "features = features.reset_index()\n",
    "\n",
    "# create empty column to fill\n",
    "features['feature'] = \"\"\n",
    "\n",
    "# Create list of feature items to replace empty column\n",
    "feature_items = []\n",
    "for col in cols:\n",
    "    for i in range(len(product_to_feature.columns) - 1):\n",
    "        feature_items.append(df[col][i])\n",
    "\n",
    "# set column to list created for each users features\n",
    "features['feature'] = feature_items\n",
    "\n",
    "# change name back to product_to_feature\n",
    "product_to_feature = features\n",
    "\n",
    "product_to_feature.head(10)"
   ]
  },
  {
   "cell_type": "code",
   "execution_count": null,
   "id": "75267176-a924-40e8-b6b1-52fc473f9a35",
   "metadata": {},
   "outputs": [],
   "source": [
    "def get_item_feature_list(df, product_category_col, seller_col, seller_city, seller_state):\n",
    "    \n",
    "    categories = df[product_category_col]\n",
    "    sellers = df[seller_col]\n",
    "    seller_city = df[seller_city]\n",
    "    seller_state = df[seller_state]\n",
    "    \n",
    "    return pd.concat([categories, sellers, seller_city, seller_state], ignore_index = True).unique()"
   ]
  },
  {
   "cell_type": "code",
   "execution_count": null,
   "id": "c1a34e8a-94bf-4f8a-aad9-33cb7cae107b",
   "metadata": {},
   "outputs": [],
   "source": [
    "item_features_list = get_item_feature_list(master_df, \"product_category_name_english\", \"seller_id\",\"seller_city\", \"seller_state\")"
   ]
  },
  {
   "cell_type": "code",
   "execution_count": null,
   "id": "26cf84bb-9465-440d-800b-4d9f9cb118c7",
   "metadata": {},
   "outputs": [],
   "source": [
    "item_feature_to_index_mapping = {}\n",
    "index_to_item_feature_mapping = {}\n",
    "for item_feature_index, item_feature_id in enumerate(item_features_list):\n",
    "    item_feature_to_index_mapping[item_feature_id] = item_feature_index\n",
    "    index_to_item_feature_mapping[item_feature_index] = item_feature_id\n"
   ]
  },
  {
   "cell_type": "code",
   "execution_count": null,
   "id": "a854ddde-7804-4757-9b21-9f8dd2fcf2a8",
   "metadata": {},
   "outputs": [],
   "source": [
    "# generate item_to_feature interaction\n",
    "product_to_feature_interaction = get_interaction_matrix(product_to_feature, \"product_id\", \"feature\", \n",
    "                                                        item_to_index_mapping, item_feature_to_index_mapping)"
   ]
  },
  {
   "cell_type": "markdown",
   "id": "18d1bb26-30de-45df-af3d-06254b84151d",
   "metadata": {},
   "source": [
    "## Model with only collaborative interactions + content filtering"
   ]
  },
  {
   "cell_type": "code",
   "execution_count": null,
   "id": "98c3dc65-fef0-4163-a11d-4e3d9b48a035",
   "metadata": {},
   "outputs": [],
   "source": [
    "#Create simple model\n",
    "model_with_features = LightFM()\n",
    "model_with_features.fit(user_to_product_interaction_train,\n",
    "          item_features=product_to_feature_interaction)\n",
    "\n",
    "# Check AUC score\n",
    "auc_with_features = auc_score(model = model_with_features, test_interactions = user_to_product_interaction_test,\n",
    "          item_features=product_to_feature_interaction )\n",
    "print(\"Average AUC with only collaborative interactions + content filtering :\", auc_with_features.mean())"
   ]
  }
 ],
 "metadata": {
  "kernelspec": {
   "display_name": "Python 3 (ipykernel)",
   "language": "python",
   "name": "python3"
  },
  "language_info": {
   "codemirror_mode": {
    "name": "ipython",
    "version": 3
   },
   "file_extension": ".py",
   "mimetype": "text/x-python",
   "name": "python",
   "nbconvert_exporter": "python",
   "pygments_lexer": "ipython3",
   "version": "3.9.12"
  }
 },
 "nbformat": 4,
 "nbformat_minor": 5
}
